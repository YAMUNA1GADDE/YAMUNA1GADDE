{
  "nbformat": 4,
  "nbformat_minor": 0,
  "metadata": {
    "colab": {
      "name": "movie recommendation.ipynb",
      "provenance": [],
      "authorship_tag": "ABX9TyPftFQydj6FtYYuvOz6i2Dg",
      "include_colab_link": true
    },
    "kernelspec": {
      "name": "python3",
      "display_name": "Python 3"
    },
    "language_info": {
      "name": "python"
    }
  },
  "cells": [
    {
      "cell_type": "markdown",
      "metadata": {
        "id": "view-in-github",
        "colab_type": "text"
      },
      "source": [
        "<a href=\"https://colab.research.google.com/github/YAMUNA1GADDE/YAMUNA1GADDE/blob/main/movie_recommendation.ipynb\" target=\"_parent\"><img src=\"https://colab.research.google.com/assets/colab-badge.svg\" alt=\"Open In Colab\"/></a>"
      ]
    },
    {
      "cell_type": "markdown",
      "source": [
        "**Importing Library**"
      ],
      "metadata": {
        "id": "KXH-ak-BGHLw"
      }
    },
    {
      "cell_type": "code",
      "execution_count": null,
      "metadata": {
        "id": "4adsFaa7F0_o"
      },
      "outputs": [],
      "source": [
        "import pandas as pd"
      ]
    },
    {
      "cell_type": "code",
      "source": [
        "import numpy as np"
      ],
      "metadata": {
        "id": "aue5uAFeGTmH"
      },
      "execution_count": null,
      "outputs": []
    },
    {
      "cell_type": "markdown",
      "source": [
        "**Import DataSet**"
      ],
      "metadata": {
        "id": "j491RC6CGXDp"
      }
    },
    {
      "cell_type": "code",
      "source": [
        "df=pd.read_csv(r\"https://github.com/ybifoundation/Dataset/raw/main/Movies%20Recommendation.csv\")"
      ],
      "metadata": {
        "id": "-m0pKNhsGXrc"
      },
      "execution_count": null,
      "outputs": []
    },
    {
      "cell_type": "code",
      "source": [
        "df.head()"
      ],
      "metadata": {
        "colab": {
          "base_uri": "https://localhost:8080/",
          "height": 716
        },
        "id": "SIjdZg4OGbmb",
        "outputId": "41502f1e-566d-400c-b78b-a7e8871f4ac2"
      },
      "execution_count": null,
      "outputs": [
        {
          "output_type": "execute_result",
          "data": {
            "text/plain": [
              "   Movie_ID      Movie_Title                       Movie_Genre Movie_Language  \\\n",
              "0         1       Four Rooms                      Crime Comedy             en   \n",
              "1         2        Star Wars  Adventure Action Science Fiction             en   \n",
              "2         3     Finding Nemo                  Animation Family             en   \n",
              "3         4     Forrest Gump              Comedy Drama Romance             en   \n",
              "4         5  American Beauty                             Drama             en   \n",
              "\n",
              "   Movie_Budget  Movie_Popularity Movie_Release_Date  Movie_Revenue  \\\n",
              "0       4000000         22.876230         09-12-1995        4300000   \n",
              "1      11000000        126.393695         25-05-1977      775398007   \n",
              "2      94000000         85.688789         30-05-2003      940335536   \n",
              "3      55000000        138.133331         06-07-1994      677945399   \n",
              "4      15000000         80.878605         15-09-1999      356296601   \n",
              "\n",
              "   Movie_Runtime  Movie_Vote  ...  \\\n",
              "0           98.0         6.5  ...   \n",
              "1          121.0         8.1  ...   \n",
              "2          100.0         7.6  ...   \n",
              "3          142.0         8.2  ...   \n",
              "4          122.0         7.9  ...   \n",
              "\n",
              "                                      Movie_Homepage  \\\n",
              "0                                                NaN   \n",
              "1  http://www.starwars.com/films/star-wars-episod...   \n",
              "2              http://movies.disney.com/finding-nemo   \n",
              "3                                                NaN   \n",
              "4                      http://www.dreamworks.com/ab/   \n",
              "\n",
              "                                      Movie_Keywords  \\\n",
              "0          hotel new year's eve witch bet hotel room   \n",
              "1        android galaxy hermit death star lightsaber   \n",
              "2  father son relationship harbor underwater fish...   \n",
              "3  vietnam veteran hippie mentally disabled runni...   \n",
              "4  male nudity female nudity adultery midlife cri...   \n",
              "\n",
              "                                      Movie_Overview  \\\n",
              "0  It's Ted the Bellhop's first night on the job....   \n",
              "1  Princess Leia is captured and held hostage by ...   \n",
              "2  Nemo, an adventurous young clownfish, is unexp...   \n",
              "3  A man with a low IQ has accomplished great thi...   \n",
              "4  Lester Burnham, a depressed suburban father in...   \n",
              "\n",
              "                              Movie_Production_House  \\\n",
              "0  [{\"name\": \"Miramax Films\", \"id\": 14}, {\"name\":...   \n",
              "1  [{\"name\": \"Lucasfilm\", \"id\": 1}, {\"name\": \"Twe...   \n",
              "2     [{\"name\": \"Pixar Animation Studios\", \"id\": 3}]   \n",
              "3          [{\"name\": \"Paramount Pictures\", \"id\": 4}]   \n",
              "4  [{\"name\": \"DreamWorks SKG\", \"id\": 27}, {\"name\"...   \n",
              "\n",
              "                            Movie_Production_Country  \\\n",
              "0  [{\"iso_3166_1\": \"US\", \"name\": \"United States o...   \n",
              "1  [{\"iso_3166_1\": \"US\", \"name\": \"United States o...   \n",
              "2  [{\"iso_3166_1\": \"US\", \"name\": \"United States o...   \n",
              "3  [{\"iso_3166_1\": \"US\", \"name\": \"United States o...   \n",
              "4  [{\"iso_3166_1\": \"US\", \"name\": \"United States o...   \n",
              "\n",
              "                      Movie_Spoken_Language  \\\n",
              "0  [{\"iso_639_1\": \"en\", \"name\": \"English\"}]   \n",
              "1  [{\"iso_639_1\": \"en\", \"name\": \"English\"}]   \n",
              "2  [{\"iso_639_1\": \"en\", \"name\": \"English\"}]   \n",
              "3  [{\"iso_639_1\": \"en\", \"name\": \"English\"}]   \n",
              "4  [{\"iso_639_1\": \"en\", \"name\": \"English\"}]   \n",
              "\n",
              "                                       Movie_Tagline  \\\n",
              "0  Twelve outrageous guests. Four scandalous requ...   \n",
              "1       A long time ago in a galaxy far, far away...   \n",
              "2  There are 3.7 trillion fish in the ocean, they...   \n",
              "3  The world will never be the same, once you've ...   \n",
              "4                                       Look closer.   \n",
              "\n",
              "                                          Movie_Cast  \\\n",
              "0  Tim Roth Antonio Banderas Jennifer Beals Madon...   \n",
              "1  Mark Hamill Harrison Ford Carrie Fisher Peter ...   \n",
              "2  Albert Brooks Ellen DeGeneres Alexander Gould ...   \n",
              "3  Tom Hanks Robin Wright Gary Sinise Mykelti Wil...   \n",
              "4  Kevin Spacey Annette Bening Thora Birch Wes Be...   \n",
              "\n",
              "                                          Movie_Crew   Movie_Director  \n",
              "0  [{'name': 'Allison Anders', 'gender': 1, 'depa...   Allison Anders  \n",
              "1  [{'name': 'George Lucas', 'gender': 2, 'depart...     George Lucas  \n",
              "2  [{'name': 'Andrew Stanton', 'gender': 2, 'depa...   Andrew Stanton  \n",
              "3  [{'name': 'Alan Silvestri', 'gender': 2, 'depa...  Robert Zemeckis  \n",
              "4  [{'name': 'Thomas Newman', 'gender': 2, 'depar...       Sam Mendes  \n",
              "\n",
              "[5 rows x 21 columns]"
            ],
            "text/html": [
              "\n",
              "  <div id=\"df-1a31be46-8a71-4780-ae83-793312d6afb9\">\n",
              "    <div class=\"colab-df-container\">\n",
              "      <div>\n",
              "<style scoped>\n",
              "    .dataframe tbody tr th:only-of-type {\n",
              "        vertical-align: middle;\n",
              "    }\n",
              "\n",
              "    .dataframe tbody tr th {\n",
              "        vertical-align: top;\n",
              "    }\n",
              "\n",
              "    .dataframe thead th {\n",
              "        text-align: right;\n",
              "    }\n",
              "</style>\n",
              "<table border=\"1\" class=\"dataframe\">\n",
              "  <thead>\n",
              "    <tr style=\"text-align: right;\">\n",
              "      <th></th>\n",
              "      <th>Movie_ID</th>\n",
              "      <th>Movie_Title</th>\n",
              "      <th>Movie_Genre</th>\n",
              "      <th>Movie_Language</th>\n",
              "      <th>Movie_Budget</th>\n",
              "      <th>Movie_Popularity</th>\n",
              "      <th>Movie_Release_Date</th>\n",
              "      <th>Movie_Revenue</th>\n",
              "      <th>Movie_Runtime</th>\n",
              "      <th>Movie_Vote</th>\n",
              "      <th>...</th>\n",
              "      <th>Movie_Homepage</th>\n",
              "      <th>Movie_Keywords</th>\n",
              "      <th>Movie_Overview</th>\n",
              "      <th>Movie_Production_House</th>\n",
              "      <th>Movie_Production_Country</th>\n",
              "      <th>Movie_Spoken_Language</th>\n",
              "      <th>Movie_Tagline</th>\n",
              "      <th>Movie_Cast</th>\n",
              "      <th>Movie_Crew</th>\n",
              "      <th>Movie_Director</th>\n",
              "    </tr>\n",
              "  </thead>\n",
              "  <tbody>\n",
              "    <tr>\n",
              "      <th>0</th>\n",
              "      <td>1</td>\n",
              "      <td>Four Rooms</td>\n",
              "      <td>Crime Comedy</td>\n",
              "      <td>en</td>\n",
              "      <td>4000000</td>\n",
              "      <td>22.876230</td>\n",
              "      <td>09-12-1995</td>\n",
              "      <td>4300000</td>\n",
              "      <td>98.0</td>\n",
              "      <td>6.5</td>\n",
              "      <td>...</td>\n",
              "      <td>NaN</td>\n",
              "      <td>hotel new year's eve witch bet hotel room</td>\n",
              "      <td>It's Ted the Bellhop's first night on the job....</td>\n",
              "      <td>[{\"name\": \"Miramax Films\", \"id\": 14}, {\"name\":...</td>\n",
              "      <td>[{\"iso_3166_1\": \"US\", \"name\": \"United States o...</td>\n",
              "      <td>[{\"iso_639_1\": \"en\", \"name\": \"English\"}]</td>\n",
              "      <td>Twelve outrageous guests. Four scandalous requ...</td>\n",
              "      <td>Tim Roth Antonio Banderas Jennifer Beals Madon...</td>\n",
              "      <td>[{'name': 'Allison Anders', 'gender': 1, 'depa...</td>\n",
              "      <td>Allison Anders</td>\n",
              "    </tr>\n",
              "    <tr>\n",
              "      <th>1</th>\n",
              "      <td>2</td>\n",
              "      <td>Star Wars</td>\n",
              "      <td>Adventure Action Science Fiction</td>\n",
              "      <td>en</td>\n",
              "      <td>11000000</td>\n",
              "      <td>126.393695</td>\n",
              "      <td>25-05-1977</td>\n",
              "      <td>775398007</td>\n",
              "      <td>121.0</td>\n",
              "      <td>8.1</td>\n",
              "      <td>...</td>\n",
              "      <td>http://www.starwars.com/films/star-wars-episod...</td>\n",
              "      <td>android galaxy hermit death star lightsaber</td>\n",
              "      <td>Princess Leia is captured and held hostage by ...</td>\n",
              "      <td>[{\"name\": \"Lucasfilm\", \"id\": 1}, {\"name\": \"Twe...</td>\n",
              "      <td>[{\"iso_3166_1\": \"US\", \"name\": \"United States o...</td>\n",
              "      <td>[{\"iso_639_1\": \"en\", \"name\": \"English\"}]</td>\n",
              "      <td>A long time ago in a galaxy far, far away...</td>\n",
              "      <td>Mark Hamill Harrison Ford Carrie Fisher Peter ...</td>\n",
              "      <td>[{'name': 'George Lucas', 'gender': 2, 'depart...</td>\n",
              "      <td>George Lucas</td>\n",
              "    </tr>\n",
              "    <tr>\n",
              "      <th>2</th>\n",
              "      <td>3</td>\n",
              "      <td>Finding Nemo</td>\n",
              "      <td>Animation Family</td>\n",
              "      <td>en</td>\n",
              "      <td>94000000</td>\n",
              "      <td>85.688789</td>\n",
              "      <td>30-05-2003</td>\n",
              "      <td>940335536</td>\n",
              "      <td>100.0</td>\n",
              "      <td>7.6</td>\n",
              "      <td>...</td>\n",
              "      <td>http://movies.disney.com/finding-nemo</td>\n",
              "      <td>father son relationship harbor underwater fish...</td>\n",
              "      <td>Nemo, an adventurous young clownfish, is unexp...</td>\n",
              "      <td>[{\"name\": \"Pixar Animation Studios\", \"id\": 3}]</td>\n",
              "      <td>[{\"iso_3166_1\": \"US\", \"name\": \"United States o...</td>\n",
              "      <td>[{\"iso_639_1\": \"en\", \"name\": \"English\"}]</td>\n",
              "      <td>There are 3.7 trillion fish in the ocean, they...</td>\n",
              "      <td>Albert Brooks Ellen DeGeneres Alexander Gould ...</td>\n",
              "      <td>[{'name': 'Andrew Stanton', 'gender': 2, 'depa...</td>\n",
              "      <td>Andrew Stanton</td>\n",
              "    </tr>\n",
              "    <tr>\n",
              "      <th>3</th>\n",
              "      <td>4</td>\n",
              "      <td>Forrest Gump</td>\n",
              "      <td>Comedy Drama Romance</td>\n",
              "      <td>en</td>\n",
              "      <td>55000000</td>\n",
              "      <td>138.133331</td>\n",
              "      <td>06-07-1994</td>\n",
              "      <td>677945399</td>\n",
              "      <td>142.0</td>\n",
              "      <td>8.2</td>\n",
              "      <td>...</td>\n",
              "      <td>NaN</td>\n",
              "      <td>vietnam veteran hippie mentally disabled runni...</td>\n",
              "      <td>A man with a low IQ has accomplished great thi...</td>\n",
              "      <td>[{\"name\": \"Paramount Pictures\", \"id\": 4}]</td>\n",
              "      <td>[{\"iso_3166_1\": \"US\", \"name\": \"United States o...</td>\n",
              "      <td>[{\"iso_639_1\": \"en\", \"name\": \"English\"}]</td>\n",
              "      <td>The world will never be the same, once you've ...</td>\n",
              "      <td>Tom Hanks Robin Wright Gary Sinise Mykelti Wil...</td>\n",
              "      <td>[{'name': 'Alan Silvestri', 'gender': 2, 'depa...</td>\n",
              "      <td>Robert Zemeckis</td>\n",
              "    </tr>\n",
              "    <tr>\n",
              "      <th>4</th>\n",
              "      <td>5</td>\n",
              "      <td>American Beauty</td>\n",
              "      <td>Drama</td>\n",
              "      <td>en</td>\n",
              "      <td>15000000</td>\n",
              "      <td>80.878605</td>\n",
              "      <td>15-09-1999</td>\n",
              "      <td>356296601</td>\n",
              "      <td>122.0</td>\n",
              "      <td>7.9</td>\n",
              "      <td>...</td>\n",
              "      <td>http://www.dreamworks.com/ab/</td>\n",
              "      <td>male nudity female nudity adultery midlife cri...</td>\n",
              "      <td>Lester Burnham, a depressed suburban father in...</td>\n",
              "      <td>[{\"name\": \"DreamWorks SKG\", \"id\": 27}, {\"name\"...</td>\n",
              "      <td>[{\"iso_3166_1\": \"US\", \"name\": \"United States o...</td>\n",
              "      <td>[{\"iso_639_1\": \"en\", \"name\": \"English\"}]</td>\n",
              "      <td>Look closer.</td>\n",
              "      <td>Kevin Spacey Annette Bening Thora Birch Wes Be...</td>\n",
              "      <td>[{'name': 'Thomas Newman', 'gender': 2, 'depar...</td>\n",
              "      <td>Sam Mendes</td>\n",
              "    </tr>\n",
              "  </tbody>\n",
              "</table>\n",
              "<p>5 rows × 21 columns</p>\n",
              "</div>\n",
              "      <button class=\"colab-df-convert\" onclick=\"convertToInteractive('df-1a31be46-8a71-4780-ae83-793312d6afb9')\"\n",
              "              title=\"Convert this dataframe to an interactive table.\"\n",
              "              style=\"display:none;\">\n",
              "        \n",
              "  <svg xmlns=\"http://www.w3.org/2000/svg\" height=\"24px\"viewBox=\"0 0 24 24\"\n",
              "       width=\"24px\">\n",
              "    <path d=\"M0 0h24v24H0V0z\" fill=\"none\"/>\n",
              "    <path d=\"M18.56 5.44l.94 2.06.94-2.06 2.06-.94-2.06-.94-.94-2.06-.94 2.06-2.06.94zm-11 1L8.5 8.5l.94-2.06 2.06-.94-2.06-.94L8.5 2.5l-.94 2.06-2.06.94zm10 10l.94 2.06.94-2.06 2.06-.94-2.06-.94-.94-2.06-.94 2.06-2.06.94z\"/><path d=\"M17.41 7.96l-1.37-1.37c-.4-.4-.92-.59-1.43-.59-.52 0-1.04.2-1.43.59L10.3 9.45l-7.72 7.72c-.78.78-.78 2.05 0 2.83L4 21.41c.39.39.9.59 1.41.59.51 0 1.02-.2 1.41-.59l7.78-7.78 2.81-2.81c.8-.78.8-2.07 0-2.86zM5.41 20L4 18.59l7.72-7.72 1.47 1.35L5.41 20z\"/>\n",
              "  </svg>\n",
              "      </button>\n",
              "      \n",
              "  <style>\n",
              "    .colab-df-container {\n",
              "      display:flex;\n",
              "      flex-wrap:wrap;\n",
              "      gap: 12px;\n",
              "    }\n",
              "\n",
              "    .colab-df-convert {\n",
              "      background-color: #E8F0FE;\n",
              "      border: none;\n",
              "      border-radius: 50%;\n",
              "      cursor: pointer;\n",
              "      display: none;\n",
              "      fill: #1967D2;\n",
              "      height: 32px;\n",
              "      padding: 0 0 0 0;\n",
              "      width: 32px;\n",
              "    }\n",
              "\n",
              "    .colab-df-convert:hover {\n",
              "      background-color: #E2EBFA;\n",
              "      box-shadow: 0px 1px 2px rgba(60, 64, 67, 0.3), 0px 1px 3px 1px rgba(60, 64, 67, 0.15);\n",
              "      fill: #174EA6;\n",
              "    }\n",
              "\n",
              "    [theme=dark] .colab-df-convert {\n",
              "      background-color: #3B4455;\n",
              "      fill: #D2E3FC;\n",
              "    }\n",
              "\n",
              "    [theme=dark] .colab-df-convert:hover {\n",
              "      background-color: #434B5C;\n",
              "      box-shadow: 0px 1px 3px 1px rgba(0, 0, 0, 0.15);\n",
              "      filter: drop-shadow(0px 1px 2px rgba(0, 0, 0, 0.3));\n",
              "      fill: #FFFFFF;\n",
              "    }\n",
              "  </style>\n",
              "\n",
              "      <script>\n",
              "        const buttonEl =\n",
              "          document.querySelector('#df-1a31be46-8a71-4780-ae83-793312d6afb9 button.colab-df-convert');\n",
              "        buttonEl.style.display =\n",
              "          google.colab.kernel.accessAllowed ? 'block' : 'none';\n",
              "\n",
              "        async function convertToInteractive(key) {\n",
              "          const element = document.querySelector('#df-1a31be46-8a71-4780-ae83-793312d6afb9');\n",
              "          const dataTable =\n",
              "            await google.colab.kernel.invokeFunction('convertToInteractive',\n",
              "                                                     [key], {});\n",
              "          if (!dataTable) return;\n",
              "\n",
              "          const docLinkHtml = 'Like what you see? Visit the ' +\n",
              "            '<a target=\"_blank\" href=https://colab.research.google.com/notebooks/data_table.ipynb>data table notebook</a>'\n",
              "            + ' to learn more about interactive tables.';\n",
              "          element.innerHTML = '';\n",
              "          dataTable['output_type'] = 'display_data';\n",
              "          await google.colab.output.renderOutput(dataTable, element);\n",
              "          const docLink = document.createElement('div');\n",
              "          docLink.innerHTML = docLinkHtml;\n",
              "          element.appendChild(docLink);\n",
              "        }\n",
              "      </script>\n",
              "    </div>\n",
              "  </div>\n",
              "  "
            ]
          },
          "metadata": {},
          "execution_count": 4
        }
      ]
    },
    {
      "cell_type": "code",
      "source": [
        "df.info()"
      ],
      "metadata": {
        "colab": {
          "base_uri": "https://localhost:8080/"
        },
        "id": "zk8m8wz3Gbzr",
        "outputId": "d60c4438-fd5f-4b41-e2c7-2605ee52e72b"
      },
      "execution_count": null,
      "outputs": [
        {
          "output_type": "stream",
          "name": "stdout",
          "text": [
            "<class 'pandas.core.frame.DataFrame'>\n",
            "RangeIndex: 4760 entries, 0 to 4759\n",
            "Data columns (total 21 columns):\n",
            " #   Column                    Non-Null Count  Dtype  \n",
            "---  ------                    --------------  -----  \n",
            " 0   Movie_ID                  4760 non-null   int64  \n",
            " 1   Movie_Title               4760 non-null   object \n",
            " 2   Movie_Genre               4760 non-null   object \n",
            " 3   Movie_Language            4760 non-null   object \n",
            " 4   Movie_Budget              4760 non-null   int64  \n",
            " 5   Movie_Popularity          4760 non-null   float64\n",
            " 6   Movie_Release_Date        4760 non-null   object \n",
            " 7   Movie_Revenue             4760 non-null   int64  \n",
            " 8   Movie_Runtime             4758 non-null   float64\n",
            " 9   Movie_Vote                4760 non-null   float64\n",
            " 10  Movie_Vote_Count          4760 non-null   int64  \n",
            " 11  Movie_Homepage            1699 non-null   object \n",
            " 12  Movie_Keywords            4373 non-null   object \n",
            " 13  Movie_Overview            4757 non-null   object \n",
            " 14  Movie_Production_House    4760 non-null   object \n",
            " 15  Movie_Production_Country  4760 non-null   object \n",
            " 16  Movie_Spoken_Language     4760 non-null   object \n",
            " 17  Movie_Tagline             3942 non-null   object \n",
            " 18  Movie_Cast                4733 non-null   object \n",
            " 19  Movie_Crew                4760 non-null   object \n",
            " 20  Movie_Director            4738 non-null   object \n",
            "dtypes: float64(3), int64(4), object(14)\n",
            "memory usage: 781.1+ KB\n"
          ]
        }
      ]
    },
    {
      "cell_type": "code",
      "source": [
        "df.shape"
      ],
      "metadata": {
        "colab": {
          "base_uri": "https://localhost:8080/"
        },
        "id": "Y4CkyQsHGb-Y",
        "outputId": "4fa0da3f-f2c9-451d-c703-8ddb50b73b08"
      },
      "execution_count": null,
      "outputs": [
        {
          "output_type": "execute_result",
          "data": {
            "text/plain": [
              "(4760, 21)"
            ]
          },
          "metadata": {},
          "execution_count": 6
        }
      ]
    },
    {
      "cell_type": "code",
      "source": [
        "df.columns"
      ],
      "metadata": {
        "colab": {
          "base_uri": "https://localhost:8080/"
        },
        "id": "dzYkEurYGwgT",
        "outputId": "e8445102-c866-44d7-f204-cb71ee07fd80"
      },
      "execution_count": null,
      "outputs": [
        {
          "output_type": "execute_result",
          "data": {
            "text/plain": [
              "Index(['Movie_ID', 'Movie_Title', 'Movie_Genre', 'Movie_Language',\n",
              "       'Movie_Budget', 'Movie_Popularity', 'Movie_Release_Date',\n",
              "       'Movie_Revenue', 'Movie_Runtime', 'Movie_Vote', 'Movie_Vote_Count',\n",
              "       'Movie_Homepage', 'Movie_Keywords', 'Movie_Overview',\n",
              "       'Movie_Production_House', 'Movie_Production_Country',\n",
              "       'Movie_Spoken_Language', 'Movie_Tagline', 'Movie_Cast', 'Movie_Crew',\n",
              "       'Movie_Director'],\n",
              "      dtype='object')"
            ]
          },
          "metadata": {},
          "execution_count": 7
        }
      ]
    },
    {
      "cell_type": "markdown",
      "source": [
        "**Get Feature Selection**"
      ],
      "metadata": {
        "id": "i1sm3X-AGw16"
      }
    },
    {
      "cell_type": "code",
      "source": [
        "df_features = df[['Movie_Genre', 'Movie_Keywords', 'Movie_Tagline', 'Movie_Cast', 'Movie_Director']].fillna('')"
      ],
      "metadata": {
        "id": "P3HcdYJHG6n-"
      },
      "execution_count": null,
      "outputs": []
    },
    {
      "cell_type": "markdown",
      "source": [
        "**Selected five existing features to recommend movies. It may vary from one project to another. Like one can add vote counts, budget, language etc.**"
      ],
      "metadata": {
        "id": "OVm2KF_JG6-B"
      }
    },
    {
      "cell_type": "code",
      "source": [
        "df_features.shape"
      ],
      "metadata": {
        "colab": {
          "base_uri": "https://localhost:8080/"
        },
        "id": "lmChDempG7SS",
        "outputId": "eefaa171-54cb-42a7-aa76-b90ee1b49e2d"
      },
      "execution_count": null,
      "outputs": [
        {
          "output_type": "execute_result",
          "data": {
            "text/plain": [
              "(4760, 5)"
            ]
          },
          "metadata": {},
          "execution_count": 9
        }
      ]
    },
    {
      "cell_type": "code",
      "source": [
        "df_features"
      ],
      "metadata": {
        "colab": {
          "base_uri": "https://localhost:8080/",
          "height": 1000
        },
        "id": "_Tyzhl9jG7Vk",
        "outputId": "0872f8db-26b3-432d-ddee-84cb86adc58c"
      },
      "execution_count": null,
      "outputs": [
        {
          "output_type": "execute_result",
          "data": {
            "text/plain": [
              "                           Movie_Genre  \\\n",
              "0                         Crime Comedy   \n",
              "1     Adventure Action Science Fiction   \n",
              "2                     Animation Family   \n",
              "3                 Comedy Drama Romance   \n",
              "4                                Drama   \n",
              "...                                ...   \n",
              "4755                            Horror   \n",
              "4756               Comedy Family Drama   \n",
              "4757                    Thriller Drama   \n",
              "4758                            Family   \n",
              "4759                       Documentary   \n",
              "\n",
              "                                         Movie_Keywords  \\\n",
              "0             hotel new year's eve witch bet hotel room   \n",
              "1           android galaxy hermit death star lightsaber   \n",
              "2     father son relationship harbor underwater fish...   \n",
              "3     vietnam veteran hippie mentally disabled runni...   \n",
              "4     male nudity female nudity adultery midlife cri...   \n",
              "...                                                 ...   \n",
              "4755                                                      \n",
              "4756                                                      \n",
              "4757                     christian film sex trafficking   \n",
              "4758                                                      \n",
              "4759  music actors legendary perfomer classic hollyw...   \n",
              "\n",
              "                                          Movie_Tagline  \\\n",
              "0     Twelve outrageous guests. Four scandalous requ...   \n",
              "1          A long time ago in a galaxy far, far away...   \n",
              "2     There are 3.7 trillion fish in the ocean, they...   \n",
              "3     The world will never be the same, once you've ...   \n",
              "4                                          Look closer.   \n",
              "...                                                 ...   \n",
              "4755                The hot spot where Satan's waitin'.   \n",
              "4756           It’s better to stand out than to fit in.   \n",
              "4757           She never knew it could happen to her...   \n",
              "4758                                                      \n",
              "4759                                                      \n",
              "\n",
              "                                             Movie_Cast     Movie_Director  \n",
              "0     Tim Roth Antonio Banderas Jennifer Beals Madon...     Allison Anders  \n",
              "1     Mark Hamill Harrison Ford Carrie Fisher Peter ...       George Lucas  \n",
              "2     Albert Brooks Ellen DeGeneres Alexander Gould ...     Andrew Stanton  \n",
              "3     Tom Hanks Robin Wright Gary Sinise Mykelti Wil...    Robert Zemeckis  \n",
              "4     Kevin Spacey Annette Bening Thora Birch Wes Be...         Sam Mendes  \n",
              "...                                                 ...                ...  \n",
              "4755  Lisa Hart Carroll Michael Des Barres Paul Drak...         Pece Dingo  \n",
              "4756  Roni Akurati Brighton Sharbino Jason Lee Anjul...       Frank Lotito  \n",
              "4757  Nicole Smolen Kim Baldwin Ariana Stephens Brys...       Jaco Booyens  \n",
              "4758                                                                        \n",
              "4759                                    Tony Oppedisano  Simon Napier-Bell  \n",
              "\n",
              "[4760 rows x 5 columns]"
            ],
            "text/html": [
              "\n",
              "  <div id=\"df-e0b794e3-b090-4abf-9bd5-f4b808e32cac\">\n",
              "    <div class=\"colab-df-container\">\n",
              "      <div>\n",
              "<style scoped>\n",
              "    .dataframe tbody tr th:only-of-type {\n",
              "        vertical-align: middle;\n",
              "    }\n",
              "\n",
              "    .dataframe tbody tr th {\n",
              "        vertical-align: top;\n",
              "    }\n",
              "\n",
              "    .dataframe thead th {\n",
              "        text-align: right;\n",
              "    }\n",
              "</style>\n",
              "<table border=\"1\" class=\"dataframe\">\n",
              "  <thead>\n",
              "    <tr style=\"text-align: right;\">\n",
              "      <th></th>\n",
              "      <th>Movie_Genre</th>\n",
              "      <th>Movie_Keywords</th>\n",
              "      <th>Movie_Tagline</th>\n",
              "      <th>Movie_Cast</th>\n",
              "      <th>Movie_Director</th>\n",
              "    </tr>\n",
              "  </thead>\n",
              "  <tbody>\n",
              "    <tr>\n",
              "      <th>0</th>\n",
              "      <td>Crime Comedy</td>\n",
              "      <td>hotel new year's eve witch bet hotel room</td>\n",
              "      <td>Twelve outrageous guests. Four scandalous requ...</td>\n",
              "      <td>Tim Roth Antonio Banderas Jennifer Beals Madon...</td>\n",
              "      <td>Allison Anders</td>\n",
              "    </tr>\n",
              "    <tr>\n",
              "      <th>1</th>\n",
              "      <td>Adventure Action Science Fiction</td>\n",
              "      <td>android galaxy hermit death star lightsaber</td>\n",
              "      <td>A long time ago in a galaxy far, far away...</td>\n",
              "      <td>Mark Hamill Harrison Ford Carrie Fisher Peter ...</td>\n",
              "      <td>George Lucas</td>\n",
              "    </tr>\n",
              "    <tr>\n",
              "      <th>2</th>\n",
              "      <td>Animation Family</td>\n",
              "      <td>father son relationship harbor underwater fish...</td>\n",
              "      <td>There are 3.7 trillion fish in the ocean, they...</td>\n",
              "      <td>Albert Brooks Ellen DeGeneres Alexander Gould ...</td>\n",
              "      <td>Andrew Stanton</td>\n",
              "    </tr>\n",
              "    <tr>\n",
              "      <th>3</th>\n",
              "      <td>Comedy Drama Romance</td>\n",
              "      <td>vietnam veteran hippie mentally disabled runni...</td>\n",
              "      <td>The world will never be the same, once you've ...</td>\n",
              "      <td>Tom Hanks Robin Wright Gary Sinise Mykelti Wil...</td>\n",
              "      <td>Robert Zemeckis</td>\n",
              "    </tr>\n",
              "    <tr>\n",
              "      <th>4</th>\n",
              "      <td>Drama</td>\n",
              "      <td>male nudity female nudity adultery midlife cri...</td>\n",
              "      <td>Look closer.</td>\n",
              "      <td>Kevin Spacey Annette Bening Thora Birch Wes Be...</td>\n",
              "      <td>Sam Mendes</td>\n",
              "    </tr>\n",
              "    <tr>\n",
              "      <th>...</th>\n",
              "      <td>...</td>\n",
              "      <td>...</td>\n",
              "      <td>...</td>\n",
              "      <td>...</td>\n",
              "      <td>...</td>\n",
              "    </tr>\n",
              "    <tr>\n",
              "      <th>4755</th>\n",
              "      <td>Horror</td>\n",
              "      <td></td>\n",
              "      <td>The hot spot where Satan's waitin'.</td>\n",
              "      <td>Lisa Hart Carroll Michael Des Barres Paul Drak...</td>\n",
              "      <td>Pece Dingo</td>\n",
              "    </tr>\n",
              "    <tr>\n",
              "      <th>4756</th>\n",
              "      <td>Comedy Family Drama</td>\n",
              "      <td></td>\n",
              "      <td>It’s better to stand out than to fit in.</td>\n",
              "      <td>Roni Akurati Brighton Sharbino Jason Lee Anjul...</td>\n",
              "      <td>Frank Lotito</td>\n",
              "    </tr>\n",
              "    <tr>\n",
              "      <th>4757</th>\n",
              "      <td>Thriller Drama</td>\n",
              "      <td>christian film sex trafficking</td>\n",
              "      <td>She never knew it could happen to her...</td>\n",
              "      <td>Nicole Smolen Kim Baldwin Ariana Stephens Brys...</td>\n",
              "      <td>Jaco Booyens</td>\n",
              "    </tr>\n",
              "    <tr>\n",
              "      <th>4758</th>\n",
              "      <td>Family</td>\n",
              "      <td></td>\n",
              "      <td></td>\n",
              "      <td></td>\n",
              "      <td></td>\n",
              "    </tr>\n",
              "    <tr>\n",
              "      <th>4759</th>\n",
              "      <td>Documentary</td>\n",
              "      <td>music actors legendary perfomer classic hollyw...</td>\n",
              "      <td></td>\n",
              "      <td>Tony Oppedisano</td>\n",
              "      <td>Simon Napier-Bell</td>\n",
              "    </tr>\n",
              "  </tbody>\n",
              "</table>\n",
              "<p>4760 rows × 5 columns</p>\n",
              "</div>\n",
              "      <button class=\"colab-df-convert\" onclick=\"convertToInteractive('df-e0b794e3-b090-4abf-9bd5-f4b808e32cac')\"\n",
              "              title=\"Convert this dataframe to an interactive table.\"\n",
              "              style=\"display:none;\">\n",
              "        \n",
              "  <svg xmlns=\"http://www.w3.org/2000/svg\" height=\"24px\"viewBox=\"0 0 24 24\"\n",
              "       width=\"24px\">\n",
              "    <path d=\"M0 0h24v24H0V0z\" fill=\"none\"/>\n",
              "    <path d=\"M18.56 5.44l.94 2.06.94-2.06 2.06-.94-2.06-.94-.94-2.06-.94 2.06-2.06.94zm-11 1L8.5 8.5l.94-2.06 2.06-.94-2.06-.94L8.5 2.5l-.94 2.06-2.06.94zm10 10l.94 2.06.94-2.06 2.06-.94-2.06-.94-.94-2.06-.94 2.06-2.06.94z\"/><path d=\"M17.41 7.96l-1.37-1.37c-.4-.4-.92-.59-1.43-.59-.52 0-1.04.2-1.43.59L10.3 9.45l-7.72 7.72c-.78.78-.78 2.05 0 2.83L4 21.41c.39.39.9.59 1.41.59.51 0 1.02-.2 1.41-.59l7.78-7.78 2.81-2.81c.8-.78.8-2.07 0-2.86zM5.41 20L4 18.59l7.72-7.72 1.47 1.35L5.41 20z\"/>\n",
              "  </svg>\n",
              "      </button>\n",
              "      \n",
              "  <style>\n",
              "    .colab-df-container {\n",
              "      display:flex;\n",
              "      flex-wrap:wrap;\n",
              "      gap: 12px;\n",
              "    }\n",
              "\n",
              "    .colab-df-convert {\n",
              "      background-color: #E8F0FE;\n",
              "      border: none;\n",
              "      border-radius: 50%;\n",
              "      cursor: pointer;\n",
              "      display: none;\n",
              "      fill: #1967D2;\n",
              "      height: 32px;\n",
              "      padding: 0 0 0 0;\n",
              "      width: 32px;\n",
              "    }\n",
              "\n",
              "    .colab-df-convert:hover {\n",
              "      background-color: #E2EBFA;\n",
              "      box-shadow: 0px 1px 2px rgba(60, 64, 67, 0.3), 0px 1px 3px 1px rgba(60, 64, 67, 0.15);\n",
              "      fill: #174EA6;\n",
              "    }\n",
              "\n",
              "    [theme=dark] .colab-df-convert {\n",
              "      background-color: #3B4455;\n",
              "      fill: #D2E3FC;\n",
              "    }\n",
              "\n",
              "    [theme=dark] .colab-df-convert:hover {\n",
              "      background-color: #434B5C;\n",
              "      box-shadow: 0px 1px 3px 1px rgba(0, 0, 0, 0.15);\n",
              "      filter: drop-shadow(0px 1px 2px rgba(0, 0, 0, 0.3));\n",
              "      fill: #FFFFFF;\n",
              "    }\n",
              "  </style>\n",
              "\n",
              "      <script>\n",
              "        const buttonEl =\n",
              "          document.querySelector('#df-e0b794e3-b090-4abf-9bd5-f4b808e32cac button.colab-df-convert');\n",
              "        buttonEl.style.display =\n",
              "          google.colab.kernel.accessAllowed ? 'block' : 'none';\n",
              "\n",
              "        async function convertToInteractive(key) {\n",
              "          const element = document.querySelector('#df-e0b794e3-b090-4abf-9bd5-f4b808e32cac');\n",
              "          const dataTable =\n",
              "            await google.colab.kernel.invokeFunction('convertToInteractive',\n",
              "                                                     [key], {});\n",
              "          if (!dataTable) return;\n",
              "\n",
              "          const docLinkHtml = 'Like what you see? Visit the ' +\n",
              "            '<a target=\"_blank\" href=https://colab.research.google.com/notebooks/data_table.ipynb>data table notebook</a>'\n",
              "            + ' to learn more about interactive tables.';\n",
              "          element.innerHTML = '';\n",
              "          dataTable['output_type'] = 'display_data';\n",
              "          await google.colab.output.renderOutput(dataTable, element);\n",
              "          const docLink = document.createElement('div');\n",
              "          docLink.innerHTML = docLinkHtml;\n",
              "          element.appendChild(docLink);\n",
              "        }\n",
              "      </script>\n",
              "    </div>\n",
              "  </div>\n",
              "  "
            ]
          },
          "metadata": {},
          "execution_count": 10
        }
      ]
    },
    {
      "cell_type": "code",
      "source": [
        "X= df_features['Movie_Genre'] +'  ' + df_features['Movie_Keywords']+'  ' + df_features['Movie_Tagline'] +'  '+ df_features['Movie_Cast']+'  '+df_features['Movie_Director']"
      ],
      "metadata": {
        "id": "ANQDlbY5G7lY"
      },
      "execution_count": null,
      "outputs": []
    },
    {
      "cell_type": "code",
      "source": [
        "X"
      ],
      "metadata": {
        "colab": {
          "base_uri": "https://localhost:8080/"
        },
        "id": "OCW-R8bvG7qi",
        "outputId": "d144705e-cf15-4398-ab74-fdf84766adb1"
      },
      "execution_count": null,
      "outputs": [
        {
          "output_type": "execute_result",
          "data": {
            "text/plain": [
              "0       Crime Comedy  hotel new year's eve witch bet h...\n",
              "1       Adventure Action Science Fiction  android gala...\n",
              "2       Animation Family  father son relationship harb...\n",
              "3       Comedy Drama Romance  vietnam veteran hippie m...\n",
              "4       Drama  male nudity female nudity adultery midl...\n",
              "                              ...                        \n",
              "4755    Horror    The hot spot where Satan's waitin'. ...\n",
              "4756    Comedy Family Drama    It’s better to stand ou...\n",
              "4757    Thriller Drama  christian film sex trafficking...\n",
              "4758                                       Family        \n",
              "4759    Documentary  music actors legendary perfomer c...\n",
              "Length: 4760, dtype: object"
            ]
          },
          "metadata": {},
          "execution_count": 12
        }
      ]
    },
    {
      "cell_type": "code",
      "source": [
        "X.shape"
      ],
      "metadata": {
        "colab": {
          "base_uri": "https://localhost:8080/"
        },
        "id": "4YqI-hkaG7t5",
        "outputId": "976e535d-48fb-4c12-de6f-bc5d1750dcc9"
      },
      "execution_count": null,
      "outputs": [
        {
          "output_type": "execute_result",
          "data": {
            "text/plain": [
              "(4760,)"
            ]
          },
          "metadata": {},
          "execution_count": 13
        }
      ]
    },
    {
      "cell_type": "markdown",
      "source": [
        "**Get Feature Text Conversion to Tokens**"
      ],
      "metadata": {
        "id": "a6q1yXmzHV4u"
      }
    },
    {
      "cell_type": "code",
      "source": [
        "from sklearn.feature_extraction.text import TfidfVectorizer"
      ],
      "metadata": {
        "id": "FuYTPLxQHWXe"
      },
      "execution_count": null,
      "outputs": []
    },
    {
      "cell_type": "code",
      "source": [
        "tfidf=TfidfVectorizer()"
      ],
      "metadata": {
        "id": "2sR7Urc4HWaB"
      },
      "execution_count": null,
      "outputs": []
    },
    {
      "cell_type": "code",
      "source": [
        "X = tfidf.fit_transform(X)"
      ],
      "metadata": {
        "id": "X5qH_Ov-HWcT"
      },
      "execution_count": null,
      "outputs": []
    },
    {
      "cell_type": "code",
      "source": [
        "X.shape"
      ],
      "metadata": {
        "colab": {
          "base_uri": "https://localhost:8080/"
        },
        "id": "tL1PWEflHWe8",
        "outputId": "a5fd6ee3-4e5e-4676-af74-1ad392c1c685"
      },
      "execution_count": null,
      "outputs": [
        {
          "output_type": "execute_result",
          "data": {
            "text/plain": [
              "(4760, 17258)"
            ]
          },
          "metadata": {},
          "execution_count": 17
        }
      ]
    },
    {
      "cell_type": "code",
      "source": [
        "print(X)"
      ],
      "metadata": {
        "colab": {
          "base_uri": "https://localhost:8080/"
        },
        "id": "6ZYU6YiNHWhR",
        "outputId": "4ffb929c-2cf4-4660-89be-e77c2bb91e1b"
      },
      "execution_count": null,
      "outputs": [
        {
          "output_type": "stream",
          "name": "stdout",
          "text": [
            "  (0, 617)\t0.1633382144407513\n",
            "  (0, 492)\t0.1432591540388685\n",
            "  (0, 15413)\t0.1465525095337543\n",
            "  (0, 9675)\t0.14226057295252661\n",
            "  (0, 9465)\t0.1659841367820977\n",
            "  (0, 1390)\t0.16898383612799558\n",
            "  (0, 7825)\t0.09799561597509843\n",
            "  (0, 1214)\t0.13865857545144072\n",
            "  (0, 729)\t0.13415063359531618\n",
            "  (0, 13093)\t0.1432591540388685\n",
            "  (0, 15355)\t0.10477815972666779\n",
            "  (0, 9048)\t0.0866842116160778\n",
            "  (0, 11161)\t0.06250380151644369\n",
            "  (0, 16773)\t0.17654247479915475\n",
            "  (0, 5612)\t0.08603537588547631\n",
            "  (0, 16735)\t0.10690083751525419\n",
            "  (0, 7904)\t0.13348000542112332\n",
            "  (0, 15219)\t0.09800472886453934\n",
            "  (0, 11242)\t0.07277788238484746\n",
            "  (0, 3878)\t0.11998399582562203\n",
            "  (0, 5499)\t0.11454057510303811\n",
            "  (0, 7071)\t0.19822417598406614\n",
            "  (0, 7454)\t0.14745635785412262\n",
            "  (0, 1495)\t0.19712637387361423\n",
            "  (0, 9206)\t0.15186283580984414\n",
            "  :\t:\n",
            "  (4757, 5455)\t0.12491480594769522\n",
            "  (4757, 2967)\t0.16273475835631626\n",
            "  (4757, 8464)\t0.23522565554066333\n",
            "  (4757, 6938)\t0.17088173678136628\n",
            "  (4757, 8379)\t0.17480603856721913\n",
            "  (4757, 15303)\t0.07654356007668191\n",
            "  (4757, 15384)\t0.09754322497537371\n",
            "  (4757, 7649)\t0.11479421494340192\n",
            "  (4757, 10896)\t0.14546473055066447\n",
            "  (4757, 4494)\t0.05675298448720501\n",
            "  (4758, 5238)\t1.0\n",
            "  (4759, 11264)\t0.33947721804318337\n",
            "  (4759, 11708)\t0.33947721804318337\n",
            "  (4759, 205)\t0.3237911628497312\n",
            "  (4759, 8902)\t0.3040290704566037\n",
            "  (4759, 14062)\t0.3237911628497312\n",
            "  (4759, 3058)\t0.2812896191863103\n",
            "  (4759, 7130)\t0.26419662449963793\n",
            "  (4759, 10761)\t0.3126617295732147\n",
            "  (4759, 4358)\t0.18306542312175342\n",
            "  (4759, 14051)\t0.20084315377640435\n",
            "  (4759, 5690)\t0.19534291014627303\n",
            "  (4759, 15431)\t0.19628653185946862\n",
            "  (4759, 1490)\t0.21197258705292082\n",
            "  (4759, 10666)\t0.15888268987343043\n"
          ]
        }
      ]
    },
    {
      "cell_type": "markdown",
      "source": [
        "**Get Similarity Score using Cosine Similarity**"
      ],
      "metadata": {
        "id": "p8y1u-auHmBJ"
      }
    },
    {
      "cell_type": "code",
      "source": [
        "from sklearn.metrics.pairwise import cosine_similarity"
      ],
      "metadata": {
        "id": "vsPqhubrHWkI"
      },
      "execution_count": null,
      "outputs": []
    },
    {
      "cell_type": "code",
      "source": [
        "Similarity_Score = cosine_similarity(X)"
      ],
      "metadata": {
        "id": "aNgUgU9JHWmx"
      },
      "execution_count": null,
      "outputs": []
    },
    {
      "cell_type": "code",
      "source": [
        "Similarity_Score"
      ],
      "metadata": {
        "colab": {
          "base_uri": "https://localhost:8080/"
        },
        "id": "2ORgjUTWHWqI",
        "outputId": "bfa4858c-8529-4de1-c147-8ad7b6f2adb7"
      },
      "execution_count": null,
      "outputs": [
        {
          "output_type": "execute_result",
          "data": {
            "text/plain": [
              "array([[1.        , 0.01351235, 0.03570468, ..., 0.        , 0.        ,\n",
              "        0.        ],\n",
              "       [0.01351235, 1.        , 0.00806674, ..., 0.        , 0.        ,\n",
              "        0.        ],\n",
              "       [0.03570468, 0.00806674, 1.        , ..., 0.        , 0.08014876,\n",
              "        0.        ],\n",
              "       ...,\n",
              "       [0.        , 0.        , 0.        , ..., 1.        , 0.        ,\n",
              "        0.        ],\n",
              "       [0.        , 0.        , 0.08014876, ..., 0.        , 1.        ,\n",
              "        0.        ],\n",
              "       [0.        , 0.        , 0.        , ..., 0.        , 0.        ,\n",
              "        1.        ]])"
            ]
          },
          "metadata": {},
          "execution_count": 21
        }
      ]
    },
    {
      "cell_type": "code",
      "source": [
        "Similarity_Score.shape"
      ],
      "metadata": {
        "colab": {
          "base_uri": "https://localhost:8080/"
        },
        "id": "I7dioKPtH6Hh",
        "outputId": "5740c917-8ab3-4d56-96da-68fe787133ec"
      },
      "execution_count": null,
      "outputs": [
        {
          "output_type": "execute_result",
          "data": {
            "text/plain": [
              "(4760, 4760)"
            ]
          },
          "metadata": {},
          "execution_count": 22
        }
      ]
    },
    {
      "cell_type": "markdown",
      "source": [
        "**Get Movie Name as Input from User and Validate for Closest Spelling**"
      ],
      "metadata": {
        "id": "rFjWa26WH_5p"
      }
    },
    {
      "cell_type": "code",
      "source": [
        "Favourite_Movie_Name=input(' Enter your favourite movie name : ')"
      ],
      "metadata": {
        "colab": {
          "base_uri": "https://localhost:8080/"
        },
        "id": "7MZPe58hIAuf",
        "outputId": "c44b3b6c-2b3f-4448-c82c-44d166817887"
      },
      "execution_count": null,
      "outputs": [
        {
          "name": "stdout",
          "output_type": "stream",
          "text": [
            " Enter your favourite movie name : avara\n"
          ]
        }
      ]
    },
    {
      "cell_type": "code",
      "source": [
        "All_Movies_Title_List = df[ 'Movie_Title'].tolist()"
      ],
      "metadata": {
        "id": "Zl4CzIkSIA0D"
      },
      "execution_count": null,
      "outputs": []
    },
    {
      "cell_type": "code",
      "source": [
        "import difflib"
      ],
      "metadata": {
        "id": "8zxV6LcmIA7d"
      },
      "execution_count": null,
      "outputs": []
    },
    {
      "cell_type": "code",
      "source": [
        "Movie_Recommendation = difflib.get_close_matches (Favourite_Movie_Name, All_Movies_Title_List) \n",
        "print (Movie_Recommendation)"
      ],
      "metadata": {
        "colab": {
          "base_uri": "https://localhost:8080/"
        },
        "id": "uuEPRq4gIBDl",
        "outputId": "bee866de-ecf6-41a2-9828-836ac555058a"
      },
      "execution_count": null,
      "outputs": [
        {
          "output_type": "stream",
          "name": "stdout",
          "text": [
            "['Sahara', 'Samsara', 'Niagara']\n"
          ]
        }
      ]
    },
    {
      "cell_type": "code",
      "source": [
        "Close_Match = Movie_Recommendation[0]\n",
        "print (Close_Match)"
      ],
      "metadata": {
        "colab": {
          "base_uri": "https://localhost:8080/"
        },
        "id": "54ea0q3jH6RF",
        "outputId": "99b8fe3a-14dc-4276-c0db-fa3e319c2951"
      },
      "execution_count": null,
      "outputs": [
        {
          "output_type": "stream",
          "name": "stdout",
          "text": [
            "Sahara\n"
          ]
        }
      ]
    },
    {
      "cell_type": "code",
      "source": [
        "Index_of_Close_Match_Movie =  df[df.Movie_Title==Close_Match]['Movie_ID'].values[0] \n",
        "print(Index_of_Close_Match_Movie)"
      ],
      "metadata": {
        "colab": {
          "base_uri": "https://localhost:8080/"
        },
        "id": "He7ax7cYIYYB",
        "outputId": "84a29053-2646-41ba-cd07-24d4adc238e5"
      },
      "execution_count": null,
      "outputs": [
        {
          "output_type": "stream",
          "name": "stdout",
          "text": [
            "1008\n"
          ]
        }
      ]
    },
    {
      "cell_type": "code",
      "source": [
        "Recommendation_Score = list (enumerate (Similarity_Score[Index_of_Close_Match_Movie])) \n",
        "print(Recommendation_Score)"
      ],
      "metadata": {
        "colab": {
          "base_uri": "https://localhost:8080/"
        },
        "id": "lbC6AiFxIYtW",
        "outputId": "923b63b4-93aa-48c6-d903-3f150897beaf"
      },
      "execution_count": null,
      "outputs": [
        {
          "output_type": "stream",
          "name": "stdout",
          "text": [
            "[(0, 0.015406753184421248), (1, 0.008055844944620437), (2, 0.025674348070049337), (3, 0.011990685000018715), (4, 0.0), (5, 0.0), (6, 0.027612438309583917), (7, 0.03554213674234311), (8, 0.0), (9, 0.0), (10, 0.0), (11, 0.0), (12, 0.01861647068343629), (13, 0.0), (14, 0.02908016588134022), (15, 0.0), (16, 0.0), (17, 0.0), (18, 0.0), (19, 0.0328541159917355), (20, 0.0), (21, 0.0), (22, 0.01354303215711266), (23, 0.0), (24, 0.0), (25, 0.011282661636846863), (26, 0.0), (27, 0.035372227051687855), (28, 0.013848396562646054), (29, 0.0), (30, 0.0), (31, 0.041654458577147564), (32, 0.0), (33, 0.0), (34, 0.0), (35, 0.0), (36, 0.009356932577507701), (37, 0.01591439335743241), (38, 0.0038860450039175866), (39, 0.0), (40, 0.003814449251023108), (41, 0.0), (42, 0.025314441560498276), (43, 0.008278418676949962), (44, 0.0), (45, 0.010322959733782782), (46, 0.019033506302082843), (47, 0.028661960959746876), (48, 0.0), (49, 0.013220721280740465), (50, 0.0033581112911479916), (51, 0.0), (52, 0.0), (53, 0.010306830919038393), (54, 0.0), (55, 0.0), (56, 0.0), (57, 0.01107305342722131), (58, 0.01752668867768476), (59, 0.0035034442920540043), (60, 0.0029088264714101086), (61, 0.0), (62, 0.0), (63, 0.0), (64, 0.011245056319605306), (65, 0.0), (66, 0.0), (67, 0.0), (68, 0.0), (69, 0.0), (70, 0.00986469791160071), (71, 0.0), (72, 0.0), (73, 0.00941670140984942), (74, 0.0), (75, 0.007575265186042817), (76, 0.0073591037639979305), (77, 0.0), (78, 0.0), (79, 0.03444277490619018), (80, 0.0), (81, 0.0), (82, 0.0025804331026177754), (83, 0.015630703749808867), (84, 0.010025377724887817), (85, 0.0), (86, 0.010680904293893506), (87, 0.00870657313369893), (88, 0.007438888289082189), (89, 0.017391668959868226), (90, 0.0), (91, 0.025062729304087473), (92, 0.10862751363786521), (93, 0.0), (94, 0.0), (95, 0.0), (96, 0.02617140842997659), (97, 0.018734448129133507), (98, 0.0), (99, 0.0), (100, 0.0), (101, 0.0), (102, 0.00985349254322066), (103, 0.0029452665493637344), (104, 0.017543147550591998), (105, 0.0), (106, 0.0), (107, 0.0), (108, 0.01456972068964316), (109, 0.0), (110, 0.0034753262411476196), (111, 0.0), (112, 0.0), (113, 0.013009224800740498), (114, 0.00340367131893697), (115, 0.024416546987060007), (116, 0.0), (117, 0.04600335384357365), (118, 0.026333762347816002), (119, 0.0), (120, 0.007710665230718849), (121, 0.008289320928579636), (122, 0.008308223800329155), (123, 0.0), (124, 0.0), (125, 0.0), (126, 0.0), (127, 0.0), (128, 0.011359018589282042), (129, 0.009524526870511868), (130, 0.0), (131, 0.0), (132, 0.007996074466286108), (133, 0.0), (134, 0.0034736874932794507), (135, 0.05535238770380001), (136, 0.0), (137, 0.0), (138, 0.0), (139, 0.035193180283694205), (140, 0.0), (141, 0.01364143863087116), (142, 0.0), (143, 0.009461218690336037), (144, 0.0), (145, 0.0), (146, 0.011732564617085398), (147, 0.0), (148, 0.01581990622255221), (149, 0.0), (150, 0.008828786453877214), (151, 0.0), (152, 0.06699048232698726), (153, 0.01278378533268958), (154, 0.019222165693361846), (155, 0.0067301899731396705), (156, 0.010089103021874827), (157, 0.0032385501341482257), (158, 0.0), (159, 0.0), (160, 0.022405100071148494), (161, 0.0030564924901061237), (162, 0.0), (163, 0.0), (164, 0.0), (165, 0.0), (166, 0.009042766990963303), (167, 0.008712987635146913), (168, 0.007088372615290933), (169, 0.0033409102755800673), (170, 0.0), (171, 0.0), (172, 0.00904770530203407), (173, 0.0), (174, 0.0033587806627275057), (175, 0.002871344019699895), (176, 0.026371662064512937), (177, 0.01781921199749914), (178, 0.02571397093418047), (179, 0.007186375108771132), (180, 0.0), (181, 0.0), (182, 0.003427552292935604), (183, 0.006856764793659722), (184, 0.0), (185, 0.022976222214582252), (186, 0.008562653935271761), (187, 0.0), (188, 0.02097820416102001), (189, 0.0), (190, 0.0), (191, 0.008047064378145171), (192, 0.0), (193, 0.0), (194, 0.007236248230816939), (195, 0.002858177275910827), (196, 0.0), (197, 0.0032107272914746947), (198, 0.0207776827339105), (199, 0.006817140755060038), (200, 0.013629384002008657), (201, 0.0), (202, 0.008149363120129876), (203, 0.017067676086517086), (204, 0.003552526875915692), (205, 0.01444287437170984), (206, 0.0), (207, 0.0), (208, 0.0), (209, 0.0), (210, 0.0), (211, 0.007108614301072149), (212, 0.011622784934979516), (213, 0.0), (214, 0.0030662910282491353), (215, 0.013399895962448805), (216, 0.015991372731276054), (217, 0.003314356154083725), (218, 0.036398151055836485), (219, 0.12811731030832835), (220, 0.0), (221, 0.0), (222, 0.0), (223, 0.008684946818776481), (224, 0.0), (225, 0.018194104049421685), (226, 0.0), (227, 0.0), (228, 0.006830654168393919), (229, 0.0), (230, 0.0), (231, 0.009457666287784506), (232, 0.0), (233, 0.0), (234, 0.0), (235, 0.0), (236, 0.0), (237, 0.015623818472780096), (238, 0.0034682057747592115), (239, 0.009566543162218395), (240, 0.017825490766958704), (241, 0.02760427152981685), (242, 0.006473138274985569), (243, 0.0), (244, 0.03761578494163637), (245, 0.024928730908077925), (246, 0.007232554962781479), (247, 0.0), (248, 0.0), (249, 0.056892499252629215), (250, 0.0), (251, 0.007730293905618295), (252, 0.0), (253, 0.003717771589011113), (254, 0.0), (255, 0.0), (256, 0.0), (257, 0.006527618738987487), (258, 0.010309023756858734), (259, 0.03385691918647617), (260, 0.032297917979217994), (261, 0.032853557131945633), (262, 0.0), (263, 0.0032179213183591783), (264, 0.0034051173595112034), (265, 0.0), (266, 0.02035317583116853), (267, 0.0), (268, 0.05102382129629668), (269, 0.015478007414361544), (270, 0.0), (271, 0.006912057772617991), (272, 0.0), (273, 0.0), (274, 0.0), (275, 0.0), (276, 0.014543801101324007), (277, 0.00657193154969355), (278, 0.002928672281640929), (279, 0.011626664883603852), (280, 0.0), (281, 0.0), (282, 0.020174352287743547), (283, 0.0), (284, 0.008601338169334762), (285, 0.0675498780262862), (286, 0.0), (287, 0.0), (288, 0.0), (289, 0.0), (290, 0.0), (291, 0.009333077431087583), (292, 0.0), (293, 0.0), (294, 0.0), (295, 0.0), (296, 0.024201594631612137), (297, 0.007909712146657337), (298, 0.0172314141016823), (299, 0.024905520721094122), (300, 0.007122831900147256), (301, 0.0079086685433539), (302, 0.01861249215876089), (303, 0.030028228808363533), (304, 0.0), (305, 0.0), (306, 0.0), (307, 0.019208559992972742), (308, 0.00836040557485047), (309, 0.007173548395316182), (310, 0.02951279287724647), (311, 0.04196599239628007), (312, 0.010952147051628223), (313, 0.0), (314, 0.0), (315, 0.015472165907784635), (316, 0.0), (317, 0.00789733902624153), (318, 0.0037161083545312773), (319, 0.010176177442215795), (320, 0.0), (321, 0.02714466103751775), (322, 0.02753913791163534), (323, 0.04139249812013661), (324, 0.008312762109759024), (325, 0.0032133002749592143), (326, 0.031430461686989514), (327, 0.00809065617102253), (328, 0.0), (329, 0.0), (330, 0.0), (331, 0.027957425148089014), (332, 0.0), (333, 0.008022320535178226), (334, 0.04127910835982319), (335, 0.019324222694446974), (336, 0.014941537839337053), (337, 0.008185913009740305), (338, 0.011330970549167919), (339, 0.012018547635721442), (340, 0.0080329697111693), (341, 0.04123531022464134), (342, 0.009825058343549766), (343, 0.0), (344, 0.03074275190545256), (345, 0.019282997850773857), (346, 0.018237067726132573), (347, 0.015476954706141244), (348, 0.0), (349, 0.02979207292208526), (350, 0.0037019213275492867), (351, 0.015179414978753122), (352, 0.008197290288512994), (353, 0.0), (354, 0.03285594468560463), (355, 0.016632949585225012), (356, 0.017205860005715074), (357, 0.011770121414585846), (358, 0.0), (359, 0.0), (360, 0.0), (361, 0.025798222560777555), (362, 0.03679064621393149), (363, 0.026556673038340396), (364, 0.0), (365, 0.02698842324623305), (366, 0.0027730767574862744), (367, 0.003257539996520959), (368, 0.00408167872453409), (369, 0.0026024390652370417), (370, 0.0), (371, 0.0), (372, 0.0), (373, 0.03778429430035747), (374, 0.010102224772051025), (375, 0.0), (376, 0.017788833207485612), (377, 0.012796378641856891), (378, 0.0), (379, 0.0), (380, 0.0), (381, 0.032538948625666884), (382, 0.0), (383, 0.009693878891195598), (384, 0.0), (385, 0.0037643062235942974), (386, 0.01606147683232818), (387, 0.0), (388, 0.009665966750082536), (389, 0.02038733465461691), (390, 0.00985491506648067), (391, 0.031126026277988147), (392, 0.025815771128349343), (393, 0.0030113037020039336), (394, 0.0), (395, 0.0), (396, 0.02541966285914401), (397, 0.0), (398, 0.003424083052205431), (399, 0.02846296342183634), (400, 0.03423328523525878), (401, 0.011023881902535733), (402, 0.0), (403, 0.0076445103332354975), (404, 0.02656360417945582), (405, 0.03917443764108496), (406, 0.0), (407, 0.005998852328360606), (408, 0.0), (409, 0.031801824601228046), (410, 0.020866952151397004), (411, 0.0), (412, 0.008365128063714339), (413, 0.015245692253797169), (414, 0.0025535504545714585), (415, 0.003591652608568827), (416, 0.006232138382088618), (417, 0.05629728769237824), (418, 0.06410866960136893), (419, 0.0), (420, 0.022955709597563587), (421, 0.018795786459579515), (422, 0.003212856142002227), (423, 0.020746460106799182), (424, 0.0), (425, 0.0), (426, 0.0), (427, 0.05888590639441044), (428, 0.0), (429, 0.01616552801549388), (430, 0.00970751259624703), (431, 0.004010219109812919), (432, 0.0), (433, 0.0), (434, 0.02918513532757398), (435, 0.025014960142609226), (436, 0.0), (437, 0.007094122928749017), (438, 0.008370594068395491), (439, 0.0), (440, 0.007306900341855384), (441, 0.0), (442, 0.0), (443, 0.0), (444, 0.0), (445, 0.0), (446, 0.0), (447, 0.0), (448, 0.010410275307243862), (449, 0.05460860505512878), (450, 0.011235311859266567), (451, 0.0), (452, 0.0), (453, 0.024692052809779937), (454, 0.0031559163831779797), (455, 0.006399976419199929), (456, 0.0072054323883847865), (457, 0.006861960446836201), (458, 0.017210997933176302), (459, 0.010655958533025183), (460, 0.0), (461, 0.02878020142412633), (462, 0.0), (463, 0.0), (464, 0.0), (465, 0.008234022759982487), (466, 0.0), (467, 0.017184780085924386), (468, 0.0), (469, 0.022868723421483002), (470, 0.01868437070125506), (471, 0.0031755174208944214), (472, 0.0), (473, 0.06469045781751272), (474, 0.003573007977748437), (475, 0.0), (476, 0.0), (477, 0.012303905994768535), (478, 0.0), (479, 0.003396421939829524), (480, 0.008984842165430225), (481, 0.011135163899996622), (482, 0.02228256454000151), (483, 0.0), (484, 0.0), (485, 0.01868218433462599), (486, 0.0), (487, 0.0), (488, 0.0), (489, 0.0), (490, 0.007403409425564721), (491, 0.0), (492, 0.0), (493, 0.010871335732962676), (494, 0.012476555097488684), (495, 0.0), (496, 0.020868915989316582), (497, 0.018790945334737352), (498, 0.018967771706558133), (499, 0.0), (500, 0.0199675769190273), (501, 0.053600907401293904), (502, 0.010719261672627685), (503, 0.0033078278908986606), (504, 0.0034209873473670083), (505, 0.003230349601702646), (506, 0.011053246105957997), (507, 0.0031929153659297086), (508, 0.022876994575582735), (509, 0.0), (510, 0.0027181005183534537), (511, 0.006809085905610024), (512, 0.033239939399704495), (513, 0.0), (514, 0.0), (515, 0.0030651111310774424), (516, 0.0), (517, 0.0), (518, 0.0), (519, 0.0707320686150047), (520, 0.011917594801316994), (521, 0.0032739428083364084), (522, 0.0271356959708145), (523, 0.0293985724783033), (524, 0.015132605380297075), (525, 0.0033822316982974093), (526, 0.0), (527, 0.011837683734418462), (528, 0.01107509489169268), (529, 0.003421454283351879), (530, 0.038771057859398744), (531, 0.008165404452612405), (532, 0.011532575863968447), (533, 0.0), (534, 0.027621653318895246), (535, 0.003355227554390165), (536, 0.0036188452707426435), (537, 0.0), (538, 0.010244809096133636), (539, 0.0), (540, 0.0), (541, 0.014919595996428172), (542, 0.049590736006620395), (543, 0.0), (544, 0.09130899456418638), (545, 0.010910123599272813), (546, 0.010494478733340511), (547, 0.0), (548, 0.020019097006152422), (549, 0.015304642647526939), (550, 0.0), (551, 0.0), (552, 0.0), (553, 0.0), (554, 0.0), (555, 0.00741831492170562), (556, 0.029792414248080525), (557, 0.015031010371523797), (558, 0.0), (559, 0.0), (560, 0.02141270172405899), (561, 0.006650724612423955), (562, 0.0068423452416912466), (563, 0.009232866437795851), (564, 0.0), (565, 0.0), (566, 0.03655320725191529), (567, 0.0), (568, 0.0), (569, 0.0), (570, 0.0), (571, 0.027475536508085183), (572, 0.0), (573, 0.0), (574, 0.0), (575, 0.0), (576, 0.00842808880771495), (577, 0.0030454958684167175), (578, 0.009663669618771424), (579, 0.003447023792185607), (580, 0.0), (581, 0.05560059156844605), (582, 0.004005991544304031), (583, 0.00616536543592125), (584, 0.0), (585, 0.003271181296950656), (586, 0.014208009737801352), (587, 0.016963834052277096), (588, 0.0), (589, 0.01930791280941382), (590, 0.0), (591, 0.030982496869050084), (592, 0.0), (593, 0.0), (594, 0.003039368943139529), (595, 0.0), (596, 0.0), (597, 0.006720743816053955), (598, 0.0), (599, 0.0), (600, 0.0), (601, 0.0), (602, 0.0), (603, 0.0), (604, 0.014185981660191993), (605, 0.010928180514441594), (606, 0.0), (607, 0.01577985828494856), (608, 0.025084119938304474), (609, 0.017978206844932343), (610, 0.0), (611, 0.0), (612, 0.0), (613, 0.0), (614, 0.024493874532976693), (615, 0.0), (616, 0.0), (617, 0.0), (618, 0.0), (619, 0.03057511706881887), (620, 0.0), (621, 0.0), (622, 0.0), (623, 0.0), (624, 0.009365492204702421), (625, 0.0), (626, 0.0), (627, 0.0), (628, 0.0), (629, 0.010724453607123964), (630, 0.003435844122525413), (631, 0.0), (632, 0.0030732780092135713), (633, 0.020061858939007474), (634, 0.0), (635, 0.0), (636, 0.0), (637, 0.0), (638, 0.0), (639, 0.0), (640, 0.0), (641, 0.005353871207991625), (642, 0.01843975026937106), (643, 0.0), (644, 0.0), (645, 0.0), (646, 0.012911426369942365), (647, 0.00791337382432564), (648, 0.0031779019310863976), (649, 0.0032226994566730916), (650, 0.0), (651, 0.08498684053229459), (652, 0.0), (653, 0.00890861690577301), (654, 0.0), (655, 0.0), (656, 0.03577443742848549), (657, 0.006639240611261228), (658, 0.031326271791708785), (659, 0.012705170660701011), (660, 0.02890587951104013), (661, 0.0), (662, 0.02356354301439863), (663, 0.0), (664, 0.019217408730837982), (665, 0.01430919322409454), (666, 0.0), (667, 0.0035750671883052927), (668, 0.007135362092323379), (669, 0.01884236119952272), (670, 0.0), (671, 0.0035112385881164877), (672, 0.0030321734071079263), (673, 0.07926119560720604), (674, 0.013309172946841336), (675, 0.0), (676, 0.009926627438244856), (677, 0.0), (678, 0.022712038290315463), (679, 0.003918925603299477), (680, 0.0), (681, 0.03855188054718678), (682, 0.0), (683, 0.01741338254646778), (684, 0.015026708376865773), (685, 0.0), (686, 0.00826304430619048), (687, 0.02311404607875322), (688, 0.011342637412713498), (689, 0.0), (690, 0.0031637885521431696), (691, 0.01608036030596944), (692, 0.0), (693, 0.0), (694, 0.0), (695, 0.0), (696, 0.010306287015272168), (697, 0.023978579232760817), (698, 0.008533203451647965), (699, 0.0), (700, 0.027329302017777245), (701, 0.0312185395767868), (702, 0.03652177107755269), (703, 0.04900439358272914), (704, 0.0), (705, 0.007984621327767769), (706, 0.026322231625340586), (707, 0.011472286756528696), (708, 0.003508340199076084), (709, 0.0028474279445826435), (710, 0.012671215377598015), (711, 0.04023056750108314), (712, 0.021471696265736064), (713, 0.00711799174274128), (714, 0.013585108309739384), (715, 0.008250200804466177), (716, 0.0), (717, 0.01720211063089102), (718, 0.017222504200863933), (719, 0.0), (720, 0.010461081901107111), (721, 0.0), (722, 0.0), (723, 0.0), (724, 0.007424893764319798), (725, 0.0063600599660707455), (726, 0.017656286176604686), (727, 0.0), (728, 0.0), (729, 0.0), (730, 0.011199632522227951), (731, 0.009794502041918698), (732, 0.02361387364088737), (733, 0.0), (734, 0.0), (735, 0.0046433024560198904), (736, 0.003423237556030946), (737, 0.007670662686875425), (738, 0.0), (739, 0.0), (740, 0.00228115195548796), (741, 0.00968651544071538), (742, 0.0), (743, 0.0), (744, 0.031490705497012966), (745, 0.018395413304514437), (746, 0.0), (747, 0.0), (748, 0.0), (749, 0.057242286178343565), (750, 0.11031268529557248), (751, 0.0041033481898626436), (752, 0.01494062061475614), (753, 0.0), (754, 0.0036430537634797953), (755, 0.003304639737207362), (756, 0.0), (757, 0.0027162185932299273), (758, 0.03131372418809136), (759, 0.0030959972915583765), (760, 0.003900914277449743), (761, 0.0), (762, 0.007817572252973451), (763, 0.008514631457882907), (764, 0.004962742914517937), (765, 0.0), (766, 0.0), (767, 0.06153790794247105), (768, 0.006937900558942491), (769, 0.021068670452966346), (770, 0.0031407714167097653), (771, 0.0036634629754701917), (772, 0.003262175828319117), (773, 0.01052206135770141), (774, 0.0), (775, 0.03203730206382914), (776, 0.006207218825801025), (777, 0.0), (778, 0.036838970370350506), (779, 0.0), (780, 0.003235259825327387), (781, 0.011454790391498534), (782, 0.0), (783, 0.0), (784, 0.0035258101293514626), (785, 0.0034024521441165375), (786, 0.002848049453275759), (787, 0.011514804496351389), (788, 0.003122158103877368), (789, 0.014068686331862876), (790, 0.008741608384476877), (791, 0.0), (792, 0.009593873250293492), (793, 0.0035314756638517328), (794, 0.022589556040196086), (795, 0.004019107417610052), (796, 0.0), (797, 0.01756108541335775), (798, 0.0), (799, 0.0), (800, 0.009203292274964256), (801, 0.0), (802, 0.01469086378954427), (803, 0.0155812085888073), (804, 0.008111982958009419), (805, 0.0), (806, 0.015917948897877125), (807, 0.011335793379570093), (808, 0.018053322514028025), (809, 0.05873145142619517), (810, 0.009566346076101318), (811, 0.0), (812, 0.0), (813, 0.0), (814, 0.0034930685992766025), (815, 0.0), (816, 0.0), (817, 0.0), (818, 0.0), (819, 0.012725707668138792), (820, 0.05353768199483346), (821, 0.056306895178269825), (822, 0.012472092971459472), (823, 0.0), (824, 0.02098513538912173), (825, 0.0), (826, 0.0), (827, 0.0), (828, 0.0), (829, 0.008285210924026162), (830, 0.0), (831, 0.0), (832, 0.0), (833, 0.0), (834, 0.0), (835, 0.0), (836, 0.009588804884215669), (837, 0.03818520185805348), (838, 0.0), (839, 0.014031783730404725), (840, 0.0032921812784503287), (841, 0.0037337911747973265), (842, 0.004157884452402945), (843, 0.0), (844, 0.0), (845, 0.0), (846, 0.06608261531118227), (847, 0.003899391908385983), (848, 0.0), (849, 0.0033981942078736473), (850, 0.0), (851, 0.016491525375252884), (852, 0.0), (853, 0.0), (854, 0.0), (855, 0.0), (856, 0.0), (857, 0.0), (858, 0.0), (859, 0.09276145448649539), (860, 0.0), (861, 0.036623998865577), (862, 0.002962392134660479), (863, 0.009359444441348131), (864, 0.0), (865, 0.02635259674570156), (866, 0.0), (867, 0.0033512844996561003), (868, 0.0), (869, 0.06828983222357202), (870, 0.0), (871, 0.0), (872, 0.0036403636063709614), (873, 0.0036413288977930787), (874, 0.0), (875, 0.01692936114305421), (876, 0.0), (877, 0.024647015188165092), (878, 0.0), (879, 0.0035476220468459857), (880, 0.017779189239429612), (881, 0.007114640419758692), (882, 0.011901532507583633), (883, 0.0032482702026857997), (884, 0.003537836946268653), (885, 0.0030500331712639598), (886, 0.022386485542663138), (887, 0.011133382658703377), (888, 0.0), (889, 0.0), (890, 0.003546433288932621), (891, 0.009500451565597966), (892, 0.018572738235068803), (893, 0.0), (894, 0.0), (895, 0.032313589421560984), (896, 0.0), (897, 0.0), (898, 0.0030632494707206353), (899, 0.0), (900, 0.0), (901, 0.0), (902, 0.0), (903, 0.0031874611110372843), (904, 0.004002827421501961), (905, 0.003933574356434718), (906, 0.0), (907, 0.0031270799662172465), (908, 0.0034738526786536475), (909, 0.038746268606369094), (910, 0.0), (911, 0.0), (912, 0.02930144432348062), (913, 0.0), (914, 0.0), (915, 0.0), (916, 0.003150835356121003), (917, 0.0), (918, 0.0), (919, 0.0), (920, 0.022310712116583867), (921, 0.0), (922, 0.0), (923, 0.029923692201152888), (924, 0.0), (925, 0.003909932811267276), (926, 0.02669051892724543), (927, 0.010043533268093709), (928, 0.01882381663629991), (929, 0.0), (930, 0.0), (931, 0.03529633410564415), (932, 0.02294245963083692), (933, 0.0034727866829218105), (934, 0.0), (935, 0.0), (936, 0.0173279890913062), (937, 0.0), (938, 0.0034084983437936162), (939, 0.02930817156245668), (940, 0.018407357925974324), (941, 0.0031848473778214254), (942, 0.017355322496669576), (943, 0.0034085887659335116), (944, 0.0), (945, 0.012575560001847279), (946, 0.037147180872069925), (947, 0.0), (948, 0.004281565227484419), (949, 0.0), (950, 0.0), (951, 0.002870608279899518), (952, 0.05797501017230629), (953, 0.0), (954, 0.0), (955, 0.024564251243306436), (956, 0.014943848062438817), (957, 0.018167402260911), (958, 0.04042983499947636), (959, 0.0), (960, 0.0), (961, 0.08358641517175502), (962, 0.00855206283968326), (963, 0.02880937369806212), (964, 0.0242301285789102), (965, 0.044136344368746375), (966, 0.0), (967, 0.0), (968, 0.0), (969, 0.021264417829556414), (970, 0.002872989870693722), (971, 0.003500098107884678), (972, 0.0026046122302046714), (973, 0.0033501605525851465), (974, 0.0), (975, 0.0), (976, 0.032484471643262125), (977, 0.008155180265584186), (978, 0.006290476134132667), (979, 0.03916474357344743), (980, 0.01594185382808915), (981, 0.02381430527941866), (982, 0.01500412130389655), (983, 0.0033397584528791777), (984, 0.0032345157625386207), (985, 0.003889848138663028), (986, 0.0), (987, 0.0), (988, 0.010170122836360086), (989, 0.015171378136557471), (990, 0.003735443578649205), (991, 0.0), (992, 0.0), (993, 0.02062893142336973), (994, 0.04175689341008146), (995, 0.003331192792087679), (996, 0.004798337750256754), (997, 0.040160856000319704), (998, 0.003854844870625642), (999, 0.03876186407912365), (1000, 0.008112142152295885), (1001, 0.0), (1002, 0.006479843543453119), (1003, 0.0), (1004, 0.0), (1005, 0.0), (1006, 0.00355258868129499), (1007, 0.0035798145115868134), (1008, 1.0000000000000002), (1009, 0.030635813944644586), (1010, 0.02093211185059996), (1011, 0.02360643192265631), (1012, 0.0), (1013, 0.02231194299518863), (1014, 0.01732389878391217), (1015, 0.0), (1016, 0.018775710736999896), (1017, 0.0), (1018, 0.0), (1019, 0.0), (1020, 0.0), (1021, 0.0033871187498906758), (1022, 0.012362740866775357), (1023, 0.0), (1024, 0.003541664563252465), (1025, 0.021657329938323523), (1026, 0.008850217588772396), (1027, 0.009791016472477475), (1028, 0.0033560508049837717), (1029, 0.011752672412915954), (1030, 0.0), (1031, 0.0), (1032, 0.0), (1033, 0.0), (1034, 0.009805590966048388), (1035, 0.0), (1036, 0.0), (1037, 0.0), (1038, 0.0031056112580679753), (1039, 0.0), (1040, 0.0026558874277461918), (1041, 0.0), (1042, 0.0075326131420809), (1043, 0.0), (1044, 0.0), (1045, 0.0), (1046, 0.0), (1047, 0.014210892121969045), (1048, 0.0), (1049, 0.004032137634426973), (1050, 0.0), (1051, 0.0), (1052, 0.0), (1053, 0.0), (1054, 0.009668487662084233), (1055, 0.0234346594393108), (1056, 0.0), (1057, 0.010986684385654207), (1058, 0.0), (1059, 0.0), (1060, 0.033335385231596834), (1061, 0.0030613040980794416), (1062, 0.002843250132927533), (1063, 0.0), (1064, 0.0), (1065, 0.0), (1066, 0.0), (1067, 0.03462256824310786), (1068, 0.0), (1069, 0.0), (1070, 0.0029063504185597093), (1071, 0.0), (1072, 0.0), (1073, 0.003232852746560311), (1074, 0.003410882079302173), (1075, 0.0), (1076, 0.027194954661556237), (1077, 0.0), (1078, 0.00283182559633346), (1079, 0.010002314438849897), (1080, 0.018435252599315992), (1081, 0.0), (1082, 0.0), (1083, 0.0), (1084, 0.010657930396008156), (1085, 0.02477599581112549), (1086, 0.0), (1087, 0.0), (1088, 0.009297993896968008), (1089, 0.003738546713842758), (1090, 0.0), (1091, 0.03088607333469087), (1092, 0.0), (1093, 0.0030734032339194365), (1094, 0.0033277896375523194), (1095, 0.0), (1096, 0.027207731991467008), (1097, 0.030225623694022343), (1098, 0.0), (1099, 0.003605737764614173), (1100, 0.012214000477640574), (1101, 0.0), (1102, 0.0), (1103, 0.0036642451551183873), (1104, 0.0), (1105, 0.0034509275397250493), (1106, 0.016097796836601074), (1107, 0.04856504263736293), (1108, 0.013917002691676485), (1109, 0.007541173733046615), (1110, 0.0), (1111, 0.0), (1112, 0.08736811926270316), (1113, 0.003282652664098422), (1114, 0.02755990433609874), (1115, 0.002732318949574129), (1116, 0.007920504677804677), (1117, 0.013102945983762765), (1118, 0.008665812455009499), (1119, 0.0), (1120, 0.044989568784327263), (1121, 0.0), (1122, 0.0), (1123, 0.0), (1124, 0.0035253939322104355), (1125, 0.003267644457302742), (1126, 0.020572234456937087), (1127, 0.0), (1128, 0.0), (1129, 0.0), (1130, 0.022203102953355952), (1131, 0.0), (1132, 0.009730938470429076), (1133, 0.029788440982433776), (1134, 0.05156678517474064), (1135, 0.014313677058561436), (1136, 0.030289905214231617), (1137, 0.0), (1138, 0.05786978399104825), (1139, 0.0031983895648764935), (1140, 0.0), (1141, 0.007989872617290355), (1142, 0.01139485675188804), (1143, 0.0), (1144, 0.0059607248778946915), (1145, 0.0), (1146, 0.0), (1147, 0.0), (1148, 0.0), (1149, 0.026794540862231035), (1150, 0.0), (1151, 0.0), (1152, 0.003152546945506694), (1153, 0.002384179526673005), (1154, 0.0), (1155, 0.02063530420815885), (1156, 0.0027914765111923053), (1157, 0.021909528154868203), (1158, 0.023851050346575375), (1159, 0.0), (1160, 0.0), (1161, 0.01211980161782583), (1162, 0.0), (1163, 0.0), (1164, 0.03341092648744981), (1165, 0.0251744791014423), (1166, 0.024773385058127255), (1167, 0.0), (1168, 0.008977937151771745), (1169, 0.003979740147680196), (1170, 0.0034042577251489157), (1171, 0.01216200923106225), (1172, 0.0), (1173, 0.003077273241864229), (1174, 0.0), (1175, 0.0), (1176, 0.0), (1177, 0.009645319021693872), (1178, 0.018212052879721788), (1179, 0.0), (1180, 0.006334693933554335), (1181, 0.0), (1182, 0.007628004519364789), (1183, 0.014317219371880715), (1184, 0.0), (1185, 0.0), (1186, 0.0), (1187, 0.0039951887963828835), (1188, 0.010747042622601222), (1189, 0.0), (1190, 0.012967654687366645), (1191, 0.0), (1192, 0.018265106198514652), (1193, 0.021830877391888225), (1194, 0.018202296073458083), (1195, 0.03101619791048591), (1196, 0.010805887312971729), (1197, 0.04695752855042484), (1198, 0.05933130999309804), (1199, 0.002999678344737334), (1200, 0.003090784615341425), (1201, 0.007702168471611621), (1202, 0.0), (1203, 0.003192723650317029), (1204, 0.021424316644575028), (1205, 0.0036181234280129593), (1206, 0.006989089878440782), (1207, 0.0), (1208, 0.004335250912171475), (1209, 0.0), (1210, 0.0), (1211, 0.0032220990226820598), (1212, 0.010714206565482907), (1213, 0.010909805114734529), (1214, 0.01041401957511444), (1215, 0.007720025353498793), (1216, 0.01126203077196471), (1217, 0.03371219765630439), (1218, 0.0), (1219, 0.03196877371213), (1220, 0.0), (1221, 0.008512594271439565), (1222, 0.00911814371788615), (1223, 0.0), (1224, 0.003549610204131381), (1225, 0.0), (1226, 0.0), (1227, 0.018806061133568364), (1228, 0.01655234410118868), (1229, 0.0), (1230, 0.0), (1231, 0.0032584760091560524), (1232, 0.003426668249393277), (1233, 0.0), (1234, 0.01444340937496259), (1235, 0.025544141024434155), (1236, 0.0), (1237, 0.008187172235432175), (1238, 0.0033772568219859493), (1239, 0.017274727509191592), (1240, 0.0), (1241, 0.014331352139203574), (1242, 0.011361512679990065), (1243, 0.0037089381336253917), (1244, 0.0035074878420708823), (1245, 0.008742541053070266), (1246, 0.026254764854188123), (1247, 0.0), (1248, 0.0527412833013572), (1249, 0.01076727816634278), (1250, 0.0), (1251, 0.009624904915792997), (1252, 0.0), (1253, 0.043272848352375944), (1254, 0.0), (1255, 0.009728767913563635), (1256, 0.003210637861593387), (1257, 0.0), (1258, 0.0), (1259, 0.016486957429447606), (1260, 0.0037931630722957224), (1261, 0.0032923013008444675), (1262, 0.0), (1263, 0.03240223453756142), (1264, 0.0), (1265, 0.0), (1266, 0.0), (1267, 0.043769603866812605), (1268, 0.008707688092944473), (1269, 0.057115640316561286), (1270, 0.0), (1271, 0.010742938418714782), (1272, 0.0), (1273, 0.0), (1274, 0.0), (1275, 0.0), (1276, 0.0), (1277, 0.00928739793533755), (1278, 0.024523578479679207), (1279, 0.0), (1280, 0.0), (1281, 0.0), (1282, 0.003635336816523599), (1283, 0.0), (1284, 0.024091536557306743), (1285, 0.012854182701400589), (1286, 0.0033336173929244353), (1287, 0.0), (1288, 0.0030939299314206178), (1289, 0.002793700694076127), (1290, 0.02721354813695097), (1291, 0.03086639026168342), (1292, 0.013412822287721698), (1293, 0.07320312497530038), (1294, 0.0), (1295, 0.04020836012178963), (1296, 0.0), (1297, 0.0068065698013653544), (1298, 0.028434090569868137), (1299, 0.0035695918146136964), (1300, 0.03284508480055284), (1301, 0.0), (1302, 0.0034488583573036567), (1303, 0.0), (1304, 0.003401567068180714), (1305, 0.0), (1306, 0.01270846592333421), (1307, 0.01967075340911613), (1308, 0.06343562296704992), (1309, 0.035390674521197533), (1310, 0.009816941607798689), (1311, 0.0038147935678630577), (1312, 0.017581366615813505), (1313, 0.03372124689121403), (1314, 0.0), (1315, 0.0), (1316, 0.0), (1317, 0.00275512280831456), (1318, 0.003032648564263158), (1319, 0.0), (1320, 0.002669348820937744), (1321, 0.023977201487666532), (1322, 0.0034615472447202806), (1323, 0.014457370431191998), (1324, 0.0), (1325, 0.0), (1326, 0.02795930942122838), (1327, 0.02311052337863959), (1328, 0.007884197107415027), (1329, 0.006711199058792287), (1330, 0.003338042600847269), (1331, 0.003116767266452495), (1332, 0.0), (1333, 0.025916693321124937), (1334, 0.009258596894215067), (1335, 0.0), (1336, 0.03498836965310236), (1337, 0.0034701667660554593), (1338, 0.034292487714232114), (1339, 0.03357473081773159), (1340, 0.011583338034672262), (1341, 0.015450652830079934), (1342, 0.038641283424783464), (1343, 0.0), (1344, 0.010042704184538833), (1345, 0.013609361507133266), (1346, 0.0), (1347, 0.0), (1348, 0.002961945938948213), (1349, 0.0), (1350, 0.0), (1351, 0.04522059220542027), (1352, 0.0), (1353, 0.0031617241083046004), (1354, 0.0), (1355, 0.0), (1356, 0.01475516217288342), (1357, 0.0), (1358, 0.007368468043288764), (1359, 0.01831038947420427), (1360, 0.0), (1361, 0.02144957859848927), (1362, 0.002526942823199213), (1363, 0.003227157818779833), (1364, 0.003530868907373309), (1365, 0.007616118030469153), (1366, 0.008135630335374885), (1367, 0.010371453714367351), (1368, 0.03601657698029313), (1369, 0.007381871020039251), (1370, 0.009378557449965226), (1371, 0.023142458465082793), (1372, 0.0031898168770815864), (1373, 0.08102706328077383), (1374, 0.009025626406539332), (1375, 0.07138913862448942), (1376, 0.012951551580262451), (1377, 0.012442654299002619), (1378, 0.0), (1379, 0.01182218470249459), (1380, 0.0), (1381, 0.0), (1382, 0.014078580171775382), (1383, 0.049258646260123426), (1384, 0.0), (1385, 0.0), (1386, 0.0), (1387, 0.0), (1388, 0.0034152436364675684), (1389, 0.019326621380985544), (1390, 0.014674347561740866), (1391, 0.0), (1392, 0.014065535341191236), (1393, 0.009470151319385417), (1394, 0.009636687582641475), (1395, 0.014032660506384161), (1396, 0.059826796458529216), (1397, 0.01455116185867837), (1398, 0.0), (1399, 0.0), (1400, 0.0), (1401, 0.013114427903128863), (1402, 0.0), (1403, 0.02340113056180232), (1404, 0.008525457108647239), (1405, 0.0029894911779468833), (1406, 0.0), (1407, 0.0), (1408, 0.013284005828896089), (1409, 0.013286709527527849), (1410, 0.0034367775322398553), (1411, 0.02239060405882817), (1412, 0.017169071196493486), (1413, 0.0), (1414, 0.0), (1415, 0.0), (1416, 0.0), (1417, 0.0), (1418, 0.0), (1419, 0.009029853860192305), (1420, 0.0033865956275988887), (1421, 0.0), (1422, 0.006621699264989462), (1423, 0.006635282633253617), (1424, 0.003882196370518643), (1425, 0.01106495781527345), (1426, 0.0), (1427, 0.002787470265068659), (1428, 0.0), (1429, 0.0), (1430, 0.016209992897820547), (1431, 0.00923542205836196), (1432, 0.0035420688229037393), (1433, 0.0), (1434, 0.0), (1435, 0.0), (1436, 0.0), (1437, 0.015455516250840382), (1438, 0.0), (1439, 0.0), (1440, 0.0), (1441, 0.0036657310855155293), (1442, 0.01013690847435769), (1443, 0.0), (1444, 0.024626558936081688), (1445, 0.0035528890497673288), (1446, 0.0032586349212202445), (1447, 0.0033539950853508044), (1448, 0.0), (1449, 0.0), (1450, 0.0), (1451, 0.015494496140449898), (1452, 0.0), (1453, 0.0027359929480481426), (1454, 0.011246382510842062), (1455, 0.0), (1456, 0.014317052379616075), (1457, 0.0031667437880792794), (1458, 0.007633533706374687), (1459, 0.0), (1460, 0.057292422116461766), (1461, 0.003438485237295749), (1462, 0.00939157089318322), (1463, 0.0072084817720020926), (1464, 0.0), (1465, 0.0029481103166075075), (1466, 0.008715788512210098), (1467, 0.022245595400365817), (1468, 0.0030141063434065553), (1469, 0.003520276612125079), (1470, 0.0), (1471, 0.012927698182615513), (1472, 0.06562630979113795), (1473, 0.017043524888921798), (1474, 0.023310980326275176), (1475, 0.0), (1476, 0.00344510005422061), (1477, 0.010032394606007983), (1478, 0.0), (1479, 0.003729556908135907), (1480, 0.009517092058047795), (1481, 0.014929020526458277), (1482, 0.009507310514945449), (1483, 0.035359114308996555), (1484, 0.0), (1485, 0.003067912100751583), (1486, 0.0037448576394678), (1487, 0.034645743259837644), (1488, 0.022281481096505754), (1489, 0.003820950385632583), (1490, 0.0032489737029944535), (1491, 0.003705656346553339), (1492, 0.0029427058492774564), (1493, 0.009871476869674345), (1494, 0.01279450034108546), (1495, 0.02472557878175034), (1496, 0.08518364236159888), (1497, 0.0), (1498, 0.0), (1499, 0.0), (1500, 0.0), (1501, 0.0033961325836019116), (1502, 0.022543930043445185), (1503, 0.008177332165548513), (1504, 0.0), (1505, 0.0689224927672969), (1506, 0.0023286637013336027), (1507, 0.014222257917076936), (1508, 0.006697584352104526), (1509, 0.0), (1510, 0.0), (1511, 0.0), (1512, 0.0), (1513, 0.011330482310500519), (1514, 0.0), (1515, 0.0), (1516, 0.003501981281093506), (1517, 0.0033854872179412136), (1518, 0.02571745609388904), (1519, 0.0), (1520, 0.011676129579341407), (1521, 0.020989822047557245), (1522, 0.0075497911013916955), (1523, 0.024185972620942298), (1524, 0.23045746810849266), (1525, 0.011152080894844398), (1526, 0.0032494824503878617), (1527, 0.0), (1528, 0.021688648784654818), (1529, 0.03414479474746168), (1530, 0.0), (1531, 0.02419725266727158), (1532, 0.0032277846525457956), (1533, 0.0034493435041938955), (1534, 0.0), (1535, 0.0), (1536, 0.02219947391967054), (1537, 0.019649647816548477), (1538, 0.02756404879042903), (1539, 0.020773148644429376), (1540, 0.018018710583996716), (1541, 0.007295248482052014), (1542, 0.0035206420577582323), (1543, 0.003132872259541027), (1544, 0.03109842589783845), (1545, 0.0032607991917462643), (1546, 0.0), (1547, 0.0), (1548, 0.0), (1549, 0.012250854022212083), (1550, 0.0), (1551, 0.0), (1552, 0.010399392114153755), (1553, 0.0), (1554, 0.03393311901779562), (1555, 0.006960026995043954), (1556, 0.0), (1557, 0.02169800857874738), (1558, 0.0), (1559, 0.007805674279890731), (1560, 0.003831878124048626), (1561, 0.011937527044050593), (1562, 0.0), (1563, 0.01718731177086813), (1564, 0.012719693425629886), (1565, 0.0), (1566, 0.0), (1567, 0.011250245422087761), (1568, 0.0), (1569, 0.0295379272760287), (1570, 0.0), (1571, 0.002811356236915855), (1572, 0.014513138206442655), (1573, 0.0), (1574, 0.009101475949251507), (1575, 0.02994432340444411), (1576, 0.01235480257401954), (1577, 0.0034301218002697675), (1578, 0.03347107970462145), (1579, 0.0096244925991519), (1580, 0.009952241609235994), (1581, 0.005653759720569771), (1582, 0.0032645613047765074), (1583, 0.003725413270897318), (1584, 0.008236649247208096), (1585, 0.006959362160035373), (1586, 0.056252363821874415), (1587, 0.0034613544597645388), (1588, 0.0), (1589, 0.003330941731592085), (1590, 0.0), (1591, 0.0), (1592, 0.01652630242059301), (1593, 0.0), (1594, 0.0038072092689620542), (1595, 0.0), (1596, 0.003612087566061169), (1597, 0.0032756061786158802), (1598, 0.010737060977336895), (1599, 0.040592087896038), (1600, 0.022555194147998198), (1601, 0.07516741790302701), (1602, 0.05514927842119266), (1603, 0.0), (1604, 0.007412711278609717), (1605, 0.015749501935767), (1606, 0.031935091092459345), (1607, 0.0203557818215113), (1608, 0.0), (1609, 0.00362870259552873), (1610, 0.010070441588019412), (1611, 0.003436459081960582), (1612, 0.0), (1613, 0.021963984661792366), (1614, 0.003637723674401074), (1615, 0.012880575594079142), (1616, 0.010914179482348022), (1617, 0.015058563299188385), (1618, 0.0032926000705193826), (1619, 0.0), (1620, 0.0), (1621, 0.0), (1622, 0.0), (1623, 0.0), (1624, 0.0), (1625, 0.0), (1626, 0.003081146785779692), (1627, 0.0), (1628, 0.0), (1629, 0.015922128352814216), (1630, 0.0), (1631, 0.04717618685825129), (1632, 0.008647402214941003), (1633, 0.0), (1634, 0.0067404891541098045), (1635, 0.0), (1636, 0.0), (1637, 0.003647517560395603), (1638, 0.034117050555244784), (1639, 0.0028786879853801945), (1640, 0.026249023451099012), (1641, 0.0), (1642, 0.0031471518949408145), (1643, 0.0), (1644, 0.003396593145120603), (1645, 0.0), (1646, 0.009992866175409381), (1647, 0.009678868971136583), (1648, 0.015942540478554118), (1649, 0.0084054709293768), (1650, 0.0), (1651, 0.0), (1652, 0.011016176401129339), (1653, 0.0), (1654, 0.0032458385261573326), (1655, 0.0), (1656, 0.0038985692604167114), (1657, 0.0), (1658, 0.003764742561875511), (1659, 0.0), (1660, 0.0035528840237471875), (1661, 0.0), (1662, 0.008405962356655113), (1663, 0.010246818505082017), (1664, 0.029494283290617082), (1665, 0.014442305911597153), (1666, 0.0), (1667, 0.0), (1668, 0.013132533485754215), (1669, 0.0), (1670, 0.007869037281793207), (1671, 0.0), (1672, 0.0), (1673, 0.003165664839420181), (1674, 0.0), (1675, 0.0), (1676, 0.008684683831029747), (1677, 0.002675255461919037), (1678, 0.008967577940917834), (1679, 0.013456660276026735), (1680, 0.014008681337908946), (1681, 0.0), (1682, 0.01692733965536521), (1683, 0.011639256296239653), (1684, 0.018496720863200356), (1685, 0.0), (1686, 0.009220678972486494), (1687, 0.06878177157035553), (1688, 0.003467462550057835), (1689, 0.0035676438373179764), (1690, 0.012863372642618241), (1691, 0.014874931717504156), (1692, 0.0), (1693, 0.0031927209565585715), (1694, 0.003019122083840657), (1695, 0.008803749617976014), (1696, 0.02766488141159151), (1697, 0.011195936963743392), (1698, 0.002937193661744275), (1699, 0.0), (1700, 0.023161693804526224), (1701, 0.007121898276221156), (1702, 0.003534279415116772), (1703, 0.0), (1704, 0.021307470873620366), (1705, 0.0), (1706, 0.07882205050234783), (1707, 0.0), (1708, 0.0), (1709, 0.003187783731417607), (1710, 0.0), (1711, 0.026212508812100837), (1712, 0.0), (1713, 0.04515732241906645), (1714, 0.02221982794567885), (1715, 0.006090980859657565), (1716, 0.0), (1717, 0.0), (1718, 0.013017990439491638), (1719, 0.012309666271899514), (1720, 0.05155529677948651), (1721, 0.0031819502707951058), (1722, 0.0034338408457493456), (1723, 0.008466751031108949), (1724, 0.0), (1725, 0.0), (1726, 0.011161478065821406), (1727, 0.00353552444093853), (1728, 0.044192309266576676), (1729, 0.028569056067459), (1730, 0.0), (1731, 0.011661281662661074), (1732, 0.0036343563341035535), (1733, 0.0037284411393567695), (1734, 0.003563023016952778), (1735, 0.0035067562156449097), (1736, 0.0), (1737, 0.0036272630108646264), (1738, 0.012948430397045156), (1739, 0.0), (1740, 0.0), (1741, 0.0034279498336089948), (1742, 0.0), (1743, 0.015353942166513769), (1744, 0.010376333706409353), (1745, 0.0), (1746, 0.0031735829006007844), (1747, 0.015936767689086324), (1748, 0.0), (1749, 0.0), (1750, 0.0030389428024890906), (1751, 0.025039435762597446), (1752, 0.0028114286702875355), (1753, 0.0), (1754, 0.0), (1755, 0.03647985615732222), (1756, 0.0), (1757, 0.04259568534483597), (1758, 0.028103121261861444), (1759, 0.03067551414527079), (1760, 0.0), (1761, 0.0), (1762, 0.02631472526789576), (1763, 0.007723475182928417), (1764, 0.0), (1765, 0.0035169485835210117), (1766, 0.01200270587479), (1767, 0.01310252830373485), (1768, 0.010527296070390095), (1769, 0.05282065337689684), (1770, 0.0), (1771, 0.027600436429238387), (1772, 0.03843417783596587), (1773, 0.0), (1774, 0.0), (1775, 0.0), (1776, 0.027168546833599126), (1777, 0.012759282108378383), (1778, 0.011568010471016747), (1779, 0.0), (1780, 0.020038149878295164), (1781, 0.020317581527682645), (1782, 0.0), (1783, 0.010234221142226232), (1784, 0.016665690064015297), (1785, 0.05496853815999557), (1786, 0.020704507653853697), (1787, 0.0032206688712900153), (1788, 0.0031975797291037174), (1789, 0.0), (1790, 0.00405363656147955), (1791, 0.0036200893469394194), (1792, 0.0039961053002173135), (1793, 0.0), (1794, 0.0031115080567070044), (1795, 0.0), (1796, 0.0), (1797, 0.025480557081662934), (1798, 0.0), (1799, 0.0), (1800, 0.018704055816743084), (1801, 0.0), (1802, 0.0076818732703634734), (1803, 0.007427183128307434), (1804, 0.019956380919461936), (1805, 0.0), (1806, 0.0037123634755604814), (1807, 0.0), (1808, 0.016177245673395887), (1809, 0.008151002546809514), (1810, 0.032820387335927535), (1811, 0.010156820024982426), (1812, 0.0), (1813, 0.0), (1814, 0.01420235772423522), (1815, 0.02018034245153763), (1816, 0.014260612041093287), (1817, 0.0), (1818, 0.003222335981557418), (1819, 0.0), (1820, 0.04640325390139301), (1821, 0.014312948453544194), (1822, 0.003589573788803876), (1823, 0.0), (1824, 0.0031963552286056), (1825, 0.0), (1826, 0.0), (1827, 0.003074953399465989), (1828, 0.0), (1829, 0.051173779271077774), (1830, 0.03875173439552759), (1831, 0.0), (1832, 0.0), (1833, 0.0029117531744148437), (1834, 0.06086180301392161), (1835, 0.0), (1836, 0.0037755311294418773), (1837, 0.02406464390546683), (1838, 0.0), (1839, 0.010387098739894535), (1840, 0.028041885305075426), (1841, 0.02174044161365361), (1842, 0.010642201083361126), (1843, 0.008479868712781469), (1844, 0.03489048360678971), (1845, 0.021703351233166027), (1846, 0.0), (1847, 0.003510838289502294), (1848, 0.003660538434637858), (1849, 0.010707774349907306), (1850, 0.024661840016970013), (1851, 0.0035401428954822873), (1852, 0.008894017401486688), (1853, 0.0), (1854, 0.016914269288443473), (1855, 0.003180568651002421), (1856, 0.0036162589065180557), (1857, 0.0), (1858, 0.0), (1859, 0.009510242215364017), (1860, 0.0219547361197461), (1861, 0.0051550018643653685), (1862, 0.0), (1863, 0.006456981291608786), (1864, 0.020533050126677888), (1865, 0.017470961628135627), (1866, 0.0), (1867, 0.003358244932034634), (1868, 0.03352503689177566), (1869, 0.0), (1870, 0.0030392403622456453), (1871, 0.0027064614165763796), (1872, 0.0), (1873, 0.0), (1874, 0.09724044234673737), (1875, 0.03859330385071653), (1876, 0.009070918876639923), (1877, 0.003244839716228122), (1878, 0.028613066682103394), (1879, 0.003440150524690755), (1880, 0.06656428068029015), (1881, 0.012990080308191466), (1882, 0.0), (1883, 0.03566783488032665), (1884, 0.0), (1885, 0.0), (1886, 0.0), (1887, 0.0), (1888, 0.006680710450989166), (1889, 0.11604444267550004), (1890, 0.03103210689417554), (1891, 0.0), (1892, 0.0), (1893, 0.007173069606183883), (1894, 0.0), (1895, 0.0032032763381327806), (1896, 0.0), (1897, 0.0), (1898, 0.05343952140005789), (1899, 0.003170040957357928), (1900, 0.003273822335188504), (1901, 0.07901104209192673), (1902, 0.052182426690025194), (1903, 0.011617858411187645), (1904, 0.0), (1905, 0.003707261064353891), (1906, 0.003411973073171398), (1907, 0.0036602304003978637), (1908, 0.0), (1909, 0.0), (1910, 0.01523868343650113), (1911, 0.011295330449550554), (1912, 0.003255613428238795), (1913, 0.010733782856446876), (1914, 0.0031958101112372073), (1915, 0.0032338481807079587), (1916, 0.0), (1917, 0.003490561622714304), (1918, 0.0), (1919, 0.03107470940960208), (1920, 0.008339187581559214), (1921, 0.02293666231879449), (1922, 0.031112223924100006), (1923, 0.0037765066807127164), (1924, 0.0), (1925, 0.024685064827720392), (1926, 0.0036132879043600974), (1927, 0.0402260979038732), (1928, 0.0038443237334378627), (1929, 0.01300293582814191), (1930, 0.0), (1931, 0.0), (1932, 0.007763389519166028), (1933, 0.01699307444603873), (1934, 0.0), (1935, 0.006173172057132065), (1936, 0.018106113634756556), (1937, 0.024010150043579176), (1938, 0.011372015502966147), (1939, 0.004512769194792717), (1940, 0.0), (1941, 0.004069911904906313), (1942, 0.06600052231513112), (1943, 0.009467300525797095), (1944, 0.04824766450585266), (1945, 0.0), (1946, 0.010521659790299944), (1947, 0.00394745421948385), (1948, 0.04535380902971966), (1949, 0.003525302907457271), (1950, 0.0), (1951, 0.007215566991000368), (1952, 0.0), (1953, 0.0), (1954, 0.00301219880154172), (1955, 0.011425082591686288), (1956, 0.003439492948015564), (1957, 0.0028567569644960883), (1958, 0.007631369958268506), (1959, 0.01107589683356149), (1960, 0.0), (1961, 0.011205186441850477), (1962, 0.0), (1963, 0.011035466476424869), (1964, 0.0), (1965, 0.014246817892596852), (1966, 0.0), (1967, 0.008761802812910988), (1968, 0.0), (1969, 0.0), (1970, 0.0), (1971, 0.0), (1972, 0.0), (1973, 0.0031988413005961214), (1974, 0.012464935918475318), (1975, 0.0), (1976, 0.0), (1977, 0.01714663075764738), (1978, 0.011069316429644647), (1979, 0.01923311874532274), (1980, 0.0030499508627446358), (1981, 0.01994140461415679), (1982, 0.0031146180963371774), (1983, 0.0), (1984, 0.0031253717962497285), (1985, 0.017615640142873118), (1986, 0.0033629443343351673), (1987, 0.0031213691031811547), (1988, 0.0), (1989, 0.0), (1990, 0.00932845882503711), (1991, 0.010387083784869806), (1992, 0.003176804251057072), (1993, 0.0), (1994, 0.018536820012727464), (1995, 0.0), (1996, 0.008666041706375405), (1997, 0.0), (1998, 0.0), (1999, 0.027452880183521464), (2000, 0.013892226356145577), (2001, 0.002928099164842674), (2002, 0.003559019714306374), (2003, 0.003285148469062991), (2004, 0.0), (2005, 0.0030576346967576733), (2006, 0.009276018540445971), (2007, 0.019568556466079856), (2008, 0.0), (2009, 0.0040274346355856526), (2010, 0.025500858373831186), (2011, 0.0), (2012, 0.015685831737201117), (2013, 0.0), (2014, 0.0033820644691648586), (2015, 0.0), (2016, 0.0), (2017, 0.0), (2018, 0.00277359485562082), (2019, 0.034305414146279314), (2020, 0.0), (2021, 0.00368075210107736), (2022, 0.007152780103334524), (2023, 0.0), (2024, 0.0), (2025, 0.0028050689110341626), (2026, 0.003397734045072549), (2027, 0.029729423367156428), (2028, 0.0), (2029, 0.0), (2030, 0.021331662891138223), (2031, 0.0), (2032, 0.03804440916678166), (2033, 0.003093068998227751), (2034, 0.0), (2035, 0.00764057322045789), (2036, 0.02062638694235363), (2037, 0.009828992178362214), (2038, 0.012498581741626658), (2039, 0.047201093654447426), (2040, 0.0), (2041, 0.024647284985688838), (2042, 0.0035483241244543), (2043, 0.00307927269354859), (2044, 0.0), (2045, 0.06327772717139724), (2046, 0.01086332708587566), (2047, 0.0), (2048, 0.0), (2049, 0.011991170210302812), (2050, 0.010371395991652096), (2051, 0.0), (2052, 0.010143755342987733), (2053, 0.009311506175179132), (2054, 0.0), (2055, 0.006776100215582253), (2056, 0.00327679085825503), (2057, 0.009929837787525984), (2058, 0.003068614590471158), (2059, 0.02158412330451137), (2060, 0.0033659084618111027), (2061, 0.0), (2062, 0.008733088309289058), (2063, 0.045034568420737664), (2064, 0.01004639237816048), (2065, 0.0), (2066, 0.0), (2067, 0.0), (2068, 0.003231210916089211), (2069, 0.0), (2070, 0.0), (2071, 0.0031634530250379015), (2072, 0.0), (2073, 0.03348758571037167), (2074, 0.007962195501141574), (2075, 0.0), (2076, 0.0028679257917809246), (2077, 0.00414703674302795), (2078, 0.0), (2079, 0.0038818033377309574), (2080, 0.0), (2081, 0.003404034082829515), (2082, 0.011799851006303933), (2083, 0.0), (2084, 0.0), (2085, 0.0), (2086, 0.011584489802770288), (2087, 0.0106383602260341), (2088, 0.01616058661809889), (2089, 0.0), (2090, 0.0035489346040310063), (2091, 0.0), (2092, 0.003493163457239726), (2093, 0.0031449070868474994), (2094, 0.0), (2095, 0.020187293810939803), (2096, 0.01644075427006561), (2097, 0.0), (2098, 0.0029086889646791803), (2099, 0.010166394858167619), (2100, 0.015861859080087047), (2101, 0.003721146282926349), (2102, 0.0), (2103, 0.008782147025836207), (2104, 0.02056722492056673), (2105, 0.0), (2106, 0.0070305024499701845), (2107, 0.003239021222146904), (2108, 0.003774226419180961), (2109, 0.0), (2110, 0.014152384685348343), (2111, 0.02281981466572282), (2112, 0.0631415512272254), (2113, 0.0026609565103056115), (2114, 0.016213160722582713), (2115, 0.0), (2116, 0.0036700330820518892), (2117, 0.007171509632589432), (2118, 0.07015639058697941), (2119, 0.014308970605773755), (2120, 0.009541184913477945), (2121, 0.014684577087082202), (2122, 0.012537842801883048), (2123, 0.0), (2124, 0.003644215415082856), (2125, 0.00994785675844455), (2126, 0.0), (2127, 0.0), (2128, 0.0033438518910266194), (2129, 0.009487670063960217), (2130, 0.028270005445364187), (2131, 0.003266595256197101), (2132, 0.008554123790827489), (2133, 0.009684760208030342), (2134, 0.0), (2135, 0.019061646677994197), (2136, 0.0), (2137, 0.10378165526104535), (2138, 0.028049838085058208), (2139, 0.0), (2140, 0.020384873871045824), (2141, 0.0), (2142, 0.0), (2143, 0.0032511363834266966), (2144, 0.0), (2145, 0.057543393466473046), (2146, 0.0029059938461516925), (2147, 0.014477531688600182), (2148, 0.007049065570477419), (2149, 0.0), (2150, 0.023534771658815058), (2151, 0.007251006028549882), (2152, 0.00870709999041307), (2153, 0.024436013737939615), (2154, 0.009576550823951747), (2155, 0.009176768374055658), (2156, 0.016762847052785704), (2157, 0.002859298365682529), (2158, 0.026418978103729424), (2159, 0.00994535295948289), (2160, 0.0031997689902039743), (2161, 0.0030278109313656297), (2162, 0.07498162281590895), (2163, 0.0), (2164, 0.038302986821675405), (2165, 0.0), (2166, 0.003202472795146739), (2167, 0.011934261708495816), (2168, 0.002909851044443389), (2169, 0.0), (2170, 0.0031799803847644605), (2171, 0.057466142765612765), (2172, 0.0), (2173, 0.0), (2174, 0.008939880736946942), (2175, 0.0), (2176, 0.008253393941118086), (2177, 0.0), (2178, 0.009959411996734868), (2179, 0.03518352153440962), (2180, 0.0), (2181, 0.0), (2182, 0.0), (2183, 0.03896472482403932), (2184, 0.0), (2185, 0.0030462861468269807), (2186, 0.003854299582651714), (2187, 0.0039026495571237085), (2188, 0.0), (2189, 0.0), (2190, 0.027663283317880996), (2191, 0.008088531805014437), (2192, 0.003424423866720544), (2193, 0.003431369741310546), (2194, 0.0035267662965895084), (2195, 0.0), (2196, 0.017443992544459077), (2197, 0.0), (2198, 0.007490693456177027), (2199, 0.014158652694723814), (2200, 0.017195204003507613), (2201, 0.05859983290347852), (2202, 0.006406991476601716), (2203, 0.0031115405187687535), (2204, 0.010528127108123234), (2205, 0.014438214000630488), (2206, 0.0), (2207, 0.022249787851353283), (2208, 0.014456314980484199), (2209, 0.0037856844580825082), (2210, 0.0152030429380673), (2211, 0.0028492756146846557), (2212, 0.0), (2213, 0.0), (2214, 0.0), (2215, 0.0031917517249568316), (2216, 0.0), (2217, 0.0035598458403389138), (2218, 0.023161256922019653), (2219, 0.002509501862529633), (2220, 0.012950580965331387), (2221, 0.0), (2222, 0.030021668467981114), (2223, 0.012367103728310189), (2224, 0.0), (2225, 0.0031145646856539162), (2226, 0.0), (2227, 0.018828216960404685), (2228, 0.004401050812920603), (2229, 0.019051452944664968), (2230, 0.0), (2231, 0.0), (2232, 0.0), (2233, 0.0), (2234, 0.016248144311613054), (2235, 0.009267710409565352), (2236, 0.009870006756291842), (2237, 0.015828247352727264), (2238, 0.0), (2239, 0.0), (2240, 0.021718110943091493), (2241, 0.003536024588095901), (2242, 0.003232105353880217), (2243, 0.0), (2244, 0.06291794949716537), (2245, 0.0), (2246, 0.0), (2247, 0.0), (2248, 0.0), (2249, 0.0035561127710673265), (2250, 0.0), (2251, 0.0), (2252, 0.0), (2253, 0.0), (2254, 0.0), (2255, 0.0), (2256, 0.0), (2257, 0.009625797016589726), (2258, 0.014790294064561376), (2259, 0.03981215933537029), (2260, 0.0116354728430855), (2261, 0.030486971169331557), (2262, 0.017924496814748742), (2263, 0.03211405070648901), (2264, 0.0030209839914780556), (2265, 0.03499569288787292), (2266, 0.0452791427628392), (2267, 0.07039139751036617), (2268, 0.0), (2269, 0.008677272319935812), (2270, 0.002938038453319303), (2271, 0.003218091161569809), (2272, 0.0031584942214773746), (2273, 0.0), (2274, 0.0031288117988420793), (2275, 0.02890995637973134), (2276, 0.0), (2277, 0.0), (2278, 0.0), (2279, 0.0), (2280, 0.04404189432766602), (2281, 0.014430238527022913), (2282, 0.0043689028371039435), (2283, 0.007967465146242428), (2284, 0.00341878413273675), (2285, 0.0), (2286, 0.0), (2287, 0.0), (2288, 0.0), (2289, 0.0), (2290, 0.011099437529486946), (2291, 0.0), (2292, 0.0034633209600091787), (2293, 0.0), (2294, 0.0), (2295, 0.0), (2296, 0.022094215581986293), (2297, 0.013369424521280874), (2298, 0.0033555397681492433), (2299, 0.0), (2300, 0.020563571689308727), (2301, 0.006839052105312723), (2302, 0.003862298851786219), (2303, 0.003207068987045421), (2304, 0.007598697286046785), (2305, 0.0038891329149639284), (2306, 0.0), (2307, 0.0034879355020671896), (2308, 0.004255540703609058), (2309, 0.0032482828606072247), (2310, 0.0), (2311, 0.021314662637433892), (2312, 0.0048956111801680535), (2313, 0.0), (2314, 0.0), (2315, 0.012571916262894299), (2316, 0.008008177416728879), (2317, 0.008345102622369016), (2318, 0.0), (2319, 0.007766862219971231), (2320, 0.003953085418255896), (2321, 0.0), (2322, 0.01787799853627762), (2323, 0.00924006103508493), (2324, 0.0), (2325, 0.035555776293815955), (2326, 0.0070820710865351424), (2327, 0.018549916813614013), (2328, 0.0), (2329, 0.04585360201541351), (2330, 0.03414145251492757), (2331, 0.015058657805273833), (2332, 0.03537642559516501), (2333, 0.004047937769298495), (2334, 0.0), (2335, 0.014403473181243485), (2336, 0.0033813509787447822), (2337, 0.007915514452244825), (2338, 0.0), (2339, 0.06898177783293093), (2340, 0.0034088610144514444), (2341, 0.0), (2342, 0.0), (2343, 0.0), (2344, 0.0), (2345, 0.0), (2346, 0.0), (2347, 0.008290983568046613), (2348, 0.022491838201848066), (2349, 0.0), (2350, 0.0), (2351, 0.012982857633070815), (2352, 0.017864048708689132), (2353, 0.012786964662748361), (2354, 0.0), (2355, 0.036925253479900194), (2356, 0.0), (2357, 0.0038603614330739995), (2358, 0.010773344569610058), (2359, 0.03862298287304432), (2360, 0.012054338360197588), (2361, 0.0), (2362, 0.0), (2363, 0.004202238813168223), (2364, 0.008745230373928041), (2365, 0.028417393143619796), (2366, 0.0030156206231235967), (2367, 0.010411651426184783), (2368, 0.03318675491934684), (2369, 0.0), (2370, 0.0), (2371, 0.011782583407352734), (2372, 0.023243152401433056), (2373, 0.0028358436114764344), (2374, 0.017667790585863014), (2375, 0.041145041774028106), (2376, 0.0), (2377, 0.0026993286001684813), (2378, 0.010614127226454675), (2379, 0.04650677259184819), (2380, 0.0035568252460249574), (2381, 0.012126996625160246), (2382, 0.0), (2383, 0.0), (2384, 0.003787193073366378), (2385, 0.01436592406277778), (2386, 0.0), (2387, 0.0033930425796396256), (2388, 0.0), (2389, 0.009702161550208584), (2390, 0.008196070037816335), (2391, 0.003631849126987931), (2392, 0.0), (2393, 0.007978692873782573), (2394, 0.003583051492715032), (2395, 0.004703690535633957), (2396, 0.0034313425444754434), (2397, 0.01387189244549076), (2398, 0.0), (2399, 0.011464208905566558), (2400, 0.0), (2401, 0.007266109460637456), (2402, 0.003079511419854102), (2403, 0.003919193706371081), (2404, 0.004625075223708024), (2405, 0.0), (2406, 0.0), (2407, 0.0), (2408, 0.02069833604520509), (2409, 0.011828649536486074), (2410, 0.027149929978710904), (2411, 0.0038504420986361773), (2412, 0.0), (2413, 0.0), (2414, 0.021070260464841596), (2415, 0.0), (2416, 0.0), (2417, 0.0), (2418, 0.0), (2419, 0.07600954212311573), (2420, 0.0038089125004392506), (2421, 0.016807011973171884), (2422, 0.003300810440095903), (2423, 0.0137075686796468), (2424, 0.0030821657125222088), (2425, 0.0), (2426, 0.0030649520041473935), (2427, 0.0), (2428, 0.0), (2429, 0.0), (2430, 0.016736017684625897), (2431, 0.003499736458036969), (2432, 0.0), (2433, 0.02128250249660856), (2434, 0.004065159840597464), (2435, 0.025972084263221923), (2436, 0.0038005556056687237), (2437, 0.0), (2438, 0.0), (2439, 0.0027918054600886756), (2440, 0.03382468617975019), (2441, 0.011045007773960946), (2442, 0.0), (2443, 0.0), (2444, 0.003468573067162316), (2445, 0.003129745661001606), (2446, 0.003158310968209082), (2447, 0.017563724558809966), (2448, 0.0097640297628501), (2449, 0.01094732781842654), (2450, 0.022592582592674174), (2451, 0.022449872990368887), (2452, 0.003730523742720661), (2453, 0.0), (2454, 0.0), (2455, 0.004316049701502298), (2456, 0.01122619668793383), (2457, 0.0), (2458, 0.0037056996229044184), (2459, 0.0), (2460, 0.01188672858483033), (2461, 0.020473802483739294), (2462, 0.022396353574251876), (2463, 0.0), (2464, 0.0037293719808716274), (2465, 0.018143364693967167), (2466, 0.007678203505812902), (2467, 0.0032807476044070206), (2468, 0.003973095214202612), (2469, 0.022088462051910375), (2470, 0.0), (2471, 0.0), (2472, 0.020899637169208993), (2473, 0.00712033606330033), (2474, 0.0), (2475, 0.0), (2476, 0.0), (2477, 0.0), (2478, 0.0039036014109352585), (2479, 0.01878993431985552), (2480, 0.0), (2481, 0.0), (2482, 0.0), (2483, 0.004484478074362672), (2484, 0.02794839165997307), (2485, 0.008367252701093819), (2486, 0.0038823996347424447), (2487, 0.0034461860644609678), (2488, 0.00415570819247653), (2489, 0.028751027379867525), (2490, 0.00490109805068302), (2491, 0.00313514998849531), (2492, 0.003421719447066348), (2493, 0.0037529232335557863), (2494, 0.0036661466832092287), (2495, 0.003400136571532931), (2496, 0.0), (2497, 0.0031405512498291614), (2498, 0.0), (2499, 0.02576625204973782), (2500, 0.004744351111403304), (2501, 0.0), (2502, 0.0), (2503, 0.0), (2504, 0.023728503319051374), (2505, 0.0), (2506, 0.0), (2507, 0.04597796907448273), (2508, 0.017244611637691417), (2509, 0.002794400311380872), (2510, 0.003897985705185477), (2511, 0.01413782221598589), (2512, 0.013541724639458866), (2513, 0.0), (2514, 0.011157945028370059), (2515, 0.0042216945625107105), (2516, 0.025750738028953106), (2517, 0.01568103478677435), (2518, 0.003838762988412844), (2519, 0.0035075352985820193), (2520, 0.00781850065872548), (2521, 0.027213455283930044), (2522, 0.018579709605123836), (2523, 0.03378298915821355), (2524, 0.0), (2525, 0.04186757616180212), (2526, 0.0), (2527, 0.02207369814208417), (2528, 0.0), (2529, 0.00493610963453637), (2530, 0.009502505573481595), (2531, 0.011335671000723229), (2532, 0.038755253604396384), (2533, 0.0), (2534, 0.01370275913260518), (2535, 0.0037688675443387012), (2536, 0.004441989674963005), (2537, 0.004664736241576873), (2538, 0.0053964082548722085), (2539, 0.021097452350676837), (2540, 0.008595906424122453), (2541, 0.00765363815498372), (2542, 0.033898774804453954), (2543, 0.004266756984033334), (2544, 0.0), (2545, 0.0), (2546, 0.0035399095464116303), (2547, 0.0), (2548, 0.0031420224804225667), (2549, 0.007572328192797113), (2550, 0.0), (2551, 0.003455077925487102), (2552, 0.008432291905235438), (2553, 0.01210792253106041), (2554, 0.010972687948363383), (2555, 0.008501942697879995), (2556, 0.0), (2557, 0.0), (2558, 0.0), (2559, 0.0405152349903754), (2560, 0.010351368811185556), (2561, 0.0035475983723315526), (2562, 0.024952248716569453), (2563, 0.03603411702605772), (2564, 0.0042244784769191425), (2565, 0.0), (2566, 0.007189982201375612), (2567, 0.0), (2568, 0.009143947359993186), (2569, 0.030994449284568647), (2570, 0.022156631736753377), (2571, 0.0), (2572, 0.0), (2573, 0.0), (2574, 0.05089142688654332), (2575, 0.0037166240031260905), (2576, 0.03852291944368359), (2577, 0.02339126771194457), (2578, 0.0), (2579, 0.008380347357135198), (2580, 0.008054372345192507), (2581, 0.004249255426534304), (2582, 0.011096368784162515), (2583, 0.020959973978644807), (2584, 0.05105986141443746), (2585, 0.0), (2586, 0.03955123243622584), (2587, 0.006035284515975408), (2588, 0.014609664109067317), (2589, 0.0101214860002042), (2590, 0.010125307774260475), (2591, 0.009758239151538357), (2592, 0.020318323554441638), (2593, 0.00689791907504472), (2594, 0.0031850257409147247), (2595, 0.014562553253381723), (2596, 0.009304165327960892), (2597, 0.005615166554875609), (2598, 0.009687363613113656), (2599, 0.0), (2600, 0.004290094012816852), (2601, 0.01295231344842731), (2602, 0.0), (2603, 0.00913526185494815), (2604, 0.062195772801779875), (2605, 0.0035496907296609786), (2606, 0.0), (2607, 0.0), (2608, 0.00595664029212946), (2609, 0.0), (2610, 0.007187295587928621), (2611, 0.008784280773602954), (2612, 0.017109530633176058), (2613, 0.0), (2614, 0.07855730258851912), (2615, 0.026560461638077792), (2616, 0.010634904506592003), (2617, 0.0065916617130550095), (2618, 0.009751751225235084), (2619, 0.029183740928623213), (2620, 0.0032447972926793935), (2621, 0.008908226035422212), (2622, 0.00765192791005301), (2623, 0.0), (2624, 0.0), (2625, 0.0), (2626, 0.0037319914381819183), (2627, 0.0), (2628, 0.0), (2629, 0.029133786854453995), (2630, 0.0), (2631, 0.0032292289052344345), (2632, 0.008807108042623484), (2633, 0.003569903624635894), (2634, 0.03228341404224137), (2635, 0.0039843753330555745), (2636, 0.0), (2637, 0.032354447002030245), (2638, 0.0), (2639, 0.003336320678498316), (2640, 0.042960845780861144), (2641, 0.0), (2642, 0.003276174734373405), (2643, 0.04952920176577628), (2644, 0.017912493170936208), (2645, 0.0), (2646, 0.015986475942336733), (2647, 0.0), (2648, 0.01406437806680547), (2649, 0.0), (2650, 0.018406033602995937), (2651, 0.0), (2652, 0.047078155098828595), (2653, 0.0032813761341223876), (2654, 0.03310720862997339), (2655, 0.0), (2656, 0.013733090948401527), (2657, 0.004980932537945452), (2658, 0.0), (2659, 0.004898144393817807), (2660, 0.005889279301849488), (2661, 0.0036503775907538744), (2662, 0.007495594839639982), (2663, 0.015466274209119162), (2664, 0.0), (2665, 0.002799983854996756), (2666, 0.02234119621059911), (2667, 0.004633575008796833), (2668, 0.01697270485307082), (2669, 0.00502879400833715), (2670, 0.016510258544948735), (2671, 0.009121943746833684), (2672, 0.012191254933074214), (2673, 0.013620868063260884), (2674, 0.0), (2675, 0.0035646543257547543), (2676, 0.028378918848191874), (2677, 0.0033131266256590714), (2678, 0.005537979435530914), (2679, 0.0), (2680, 0.0), (2681, 0.03778623610333879), (2682, 0.00841473067961345), (2683, 0.0), (2684, 0.0049243986321036055), (2685, 0.021143211014603015), (2686, 0.026241333688927584), (2687, 0.02229258368197598), (2688, 0.06883737608443721), (2689, 0.0), (2690, 0.0032290384983845186), (2691, 0.0), (2692, 0.0), (2693, 0.0032871685481370714), (2694, 0.0), (2695, 0.0), (2696, 0.003952875783928771), (2697, 0.0), (2698, 0.008787346285442725), (2699, 0.0031723892696169033), (2700, 0.0), (2701, 0.0055034445160187994), (2702, 0.003886458402634271), (2703, 0.005263951427848682), (2704, 0.022280540574906506), (2705, 0.0), (2706, 0.003232784559867037), (2707, 0.0), (2708, 0.021306154693184698), (2709, 0.0034019158164210715), (2710, 0.008406319955642956), (2711, 0.0194854973193811), (2712, 0.0132696611189299), (2713, 0.0), (2714, 0.0), (2715, 0.02215184048038127), (2716, 0.0), (2717, 0.02286788986142657), (2718, 0.0), (2719, 0.03805104613114185), (2720, 0.003985391941660845), (2721, 0.009451086904810262), (2722, 0.004773631668427427), (2723, 0.0), (2724, 0.0), (2725, 0.009645626127233346), (2726, 0.007022452398395557), (2727, 0.004089934311694158), (2728, 0.0030951692434336184), (2729, 0.02955587337884654), (2730, 0.015259500314833422), (2731, 0.004564437565436188), (2732, 0.02870792273715592), (2733, 0.0), (2734, 0.0027026805169739995), (2735, 0.0), (2736, 0.0), (2737, 0.005685455081311993), (2738, 0.004012874131867066), (2739, 0.019131280270715045), (2740, 0.0), (2741, 0.009793425031925231), (2742, 0.0), (2743, 0.0), (2744, 0.003524190868526669), (2745, 0.0), (2746, 0.0034574546190715575), (2747, 0.005892894447138545), (2748, 0.00369769021460539), (2749, 0.0), (2750, 0.010639721906072524), (2751, 0.008552789654057067), (2752, 0.007150857905214837), (2753, 0.06151161590146105), (2754, 0.00356501712885594), (2755, 0.003595665197414232), (2756, 0.013093898999207728), (2757, 0.0), (2758, 0.009237646430030246), (2759, 0.008788356266368962), (2760, 0.01571793076267084), (2761, 0.0), (2762, 0.0), (2763, 0.01062235496784066), (2764, 0.004844571297310042), (2765, 0.0), (2766, 0.025328072823158125), (2767, 0.0), (2768, 0.0), (2769, 0.004013630330007475), (2770, 0.008994471926802722), (2771, 0.06373410718007963), (2772, 0.008856419504293271), (2773, 0.0), (2774, 0.01089913559111406), (2775, 0.0), (2776, 0.047159231883603235), (2777, 0.0), (2778, 0.0), (2779, 0.0), (2780, 0.0), (2781, 0.02928853486864151), (2782, 0.012107762578660523), (2783, 0.0), (2784, 0.0), (2785, 0.0), (2786, 0.0036414881544022354), (2787, 0.003233417785619168), (2788, 0.0), (2789, 0.0), (2790, 0.0), (2791, 0.00939038281464908), (2792, 0.0), (2793, 0.0), (2794, 0.0035203863917877714), (2795, 0.0), (2796, 0.0038914819157922767), (2797, 0.004162098215917618), (2798, 0.0), (2799, 0.0121738769620624), (2800, 0.0), (2801, 0.007736816660377512), (2802, 0.0), (2803, 0.0), (2804, 0.037463787369948355), (2805, 0.0029735297431446542), (2806, 0.008280000098872583), (2807, 0.02928650848356241), (2808, 0.0), (2809, 0.009493370893156683), (2810, 0.012190197273700545), (2811, 0.003723794198816508), (2812, 0.010250606928099131), (2813, 0.03339334714503303), (2814, 0.0077815943594885615), (2815, 0.0), (2816, 0.0035184290868517636), (2817, 0.013243045365205826), (2818, 0.0047618400790146), (2819, 0.032649094631434894), (2820, 0.0029742484438623836), (2821, 0.010869972915293033), (2822, 0.0410318909621265), (2823, 0.00643893429748128), (2824, 0.0), (2825, 0.0033592246354809756), (2826, 0.009067266240437678), (2827, 0.0), (2828, 0.0), (2829, 0.011898915154221031), (2830, 0.011395560715737637), (2831, 0.048925555508724086), (2832, 0.0044625648922329356), (2833, 0.018570184179886658), (2834, 0.004218686905455727), (2835, 0.006832385363223763), (2836, 0.01867881574986943), (2837, 0.0), (2838, 0.017431094990322745), (2839, 0.007417095228063175), (2840, 0.0), (2841, 0.0), (2842, 0.0), (2843, 0.003776066973348175), (2844, 0.013623842889646763), (2845, 0.008301291031242788), (2846, 0.0039788635108428914), (2847, 0.0), (2848, 0.0), (2849, 0.0), (2850, 0.0), (2851, 0.009198587432745875), (2852, 0.017666678407690425), (2853, 0.0), (2854, 0.0), (2855, 0.0028836464654411974), (2856, 0.03547937046549555), (2857, 0.004197455659875781), (2858, 0.004819792905791221), (2859, 0.0), (2860, 0.0), (2861, 0.0), (2862, 0.0), (2863, 0.0), (2864, 0.0), (2865, 0.0), (2866, 0.003164236774249916), (2867, 0.0058305879860945905), (2868, 0.0), (2869, 0.0), (2870, 0.0), (2871, 0.0), (2872, 0.00391422567729357), (2873, 0.012353724483574139), (2874, 0.022969432112344503), (2875, 0.004321867793216069), (2876, 0.002839991291414565), (2877, 0.017490655173949626), (2878, 0.0), (2879, 0.0), (2880, 0.0036649302348578127), (2881, 0.031674062509415256), (2882, 0.003695126108355509), (2883, 0.0), (2884, 0.003925405987614986), (2885, 0.01486171572436503), (2886, 0.0), (2887, 0.007575595260075728), (2888, 0.0), (2889, 0.0), (2890, 0.0), (2891, 0.004816675886875743), (2892, 0.009719442355500856), (2893, 0.007712334334558854), (2894, 0.010507420352326413), (2895, 0.0), (2896, 0.03710791238971175), (2897, 0.003247991917045083), (2898, 0.0), (2899, 0.0), (2900, 0.0), (2901, 0.009599084687839323), (2902, 0.0), (2903, 0.0), (2904, 0.0), (2905, 0.0), (2906, 0.0), (2907, 0.0), (2908, 0.007247800512681715), (2909, 0.007291651867385101), (2910, 0.0), (2911, 0.0), (2912, 0.09915089900276186), (2913, 0.028068594200575375), (2914, 0.0038456682903699854), (2915, 0.0), (2916, 0.008374453586243676), (2917, 0.012149398361224901), (2918, 0.014860523678284335), (2919, 0.03601859581599794), (2920, 0.0), (2921, 0.0), (2922, 0.004626802949989545), (2923, 0.0), (2924, 0.00394362709978322), (2925, 0.0027301976288053894), (2926, 0.0035562278681639946), (2927, 0.025330289338196317), (2928, 0.004390980285421623), (2929, 0.0), (2930, 0.0037387115159654935), (2931, 0.00676305810953036), (2932, 0.0), (2933, 0.0028877656383869384), (2934, 0.0), (2935, 0.008010130208808487), (2936, 0.11707776159417867), (2937, 0.0), (2938, 0.0195681983125265), (2939, 0.00423515563741366), (2940, 0.01457854964097554), (2941, 0.004369929370237431), (2942, 0.007804434289405644), (2943, 0.0), (2944, 0.0), (2945, 0.0033285962566591185), (2946, 0.0), (2947, 0.0), (2948, 0.004428242370987726), (2949, 0.0), (2950, 0.0), (2951, 0.007492399388127916), (2952, 0.0), (2953, 0.0), (2954, 0.0190227800566087), (2955, 0.0), (2956, 0.0), (2957, 0.0), (2958, 0.019078104942206357), (2959, 0.0), (2960, 0.0), (2961, 0.0), (2962, 0.011818481763587907), (2963, 0.0), (2964, 0.0), (2965, 0.009726455751785799), (2966, 0.0), (2967, 0.0), (2968, 0.034505922838156004), (2969, 0.0), (2970, 0.003624498264981824), (2971, 0.0029587533676746647), (2972, 0.010252530751792138), (2973, 0.006670280895842945), (2974, 0.0), (2975, 0.008995500465697902), (2976, 0.016441013709130377), (2977, 0.0), (2978, 0.003697455603965543), (2979, 0.0036943707054128304), (2980, 0.007332491917613833), (2981, 0.0), (2982, 0.003869822555561572), (2983, 0.0042916089188089574), (2984, 0.0), (2985, 0.02140732149558466), (2986, 0.004022187763069796), (2987, 0.0), (2988, 0.0), (2989, 0.0), (2990, 0.004577583531975698), (2991, 0.0), (2992, 0.003170593692916642), (2993, 0.0), (2994, 0.003422482839397161), (2995, 0.0), (2996, 0.02119363834072612), (2997, 0.0), (2998, 0.011224098411322157), (2999, 0.0033811551233506347), (3000, 0.009234379075001896), (3001, 0.011346785128416276), (3002, 0.02826245062979198), (3003, 0.012082833529470234), (3004, 0.01261150606436239), (3005, 0.0), (3006, 0.0), (3007, 0.0), (3008, 0.0), (3009, 0.004761459019883897), (3010, 0.042014188833411494), (3011, 0.0), (3012, 0.0), (3013, 0.028951978229367323), (3014, 0.008514288970531463), (3015, 0.0), (3016, 0.006981721956958049), (3017, 0.004040129109117485), (3018, 0.08468095995698612), (3019, 0.0), (3020, 0.004128097396553096), (3021, 0.0), (3022, 0.010492523982798194), (3023, 0.0), (3024, 0.0), (3025, 0.0), (3026, 0.003756926818439905), (3027, 0.006727756400754815), (3028, 0.0), (3029, 0.0), (3030, 0.0), (3031, 0.0), (3032, 0.0), (3033, 0.010870722045221288), (3034, 0.0034225642523347424), (3035, 0.0), (3036, 0.0), (3037, 0.0035893513215726424), (3038, 0.0035571093672856053), (3039, 0.0038479114629917516), (3040, 0.004748773291229109), (3041, 0.003589261814959766), (3042, 0.004607378474193049), (3043, 0.017461419539340564), (3044, 0.0037066295951935497), (3045, 0.015903627439058373), (3046, 0.0), (3047, 0.025396053604146616), (3048, 0.0), (3049, 0.0), (3050, 0.003115438632962544), (3051, 0.030451765964525875), (3052, 0.0), (3053, 0.0), (3054, 0.03492471365452528), (3055, 0.0), (3056, 0.0), (3057, 0.01446997462723382), (3058, 0.007409468699071089), (3059, 0.0), (3060, 0.003456524066696448), (3061, 0.0035552953039000856), (3062, 0.0037699326022155024), (3063, 0.0030071284529651836), (3064, 0.0), (3065, 0.02742801910701141), (3066, 0.030634589749764917), (3067, 0.0), (3068, 0.0), (3069, 0.0), (3070, 0.04437314181325528), (3071, 0.00318503377367302), (3072, 0.0), (3073, 0.0033549877434543214), (3074, 0.00417196833502256), (3075, 0.0), (3076, 0.0), (3077, 0.02288569253206118), (3078, 0.01397681441896178), (3079, 0.0), (3080, 0.012123722548872147), (3081, 0.03392260487663131), (3082, 0.0030243609371071335), (3083, 0.0031610479724006966), (3084, 0.011536138149432083), (3085, 0.0), (3086, 0.029893426813057334), (3087, 0.004290006682259274), (3088, 0.005056521372134078), (3089, 0.013215335412465218), (3090, 0.003343830730427597), (3091, 0.013807018178982826), (3092, 0.0), (3093, 0.015180092389617624), (3094, 0.0), (3095, 0.0), (3096, 0.023239686155682608), (3097, 0.0037495805888545924), (3098, 0.02256491171167753), (3099, 0.0), (3100, 0.0), (3101, 0.02835451121677645), (3102, 0.003465689582046677), (3103, 0.0), (3104, 0.003392473517261945), (3105, 0.009777325871561278), (3106, 0.0033896695692351886), (3107, 0.0), (3108, 0.003051969855975356), (3109, 0.0036215339994460443), (3110, 0.0), (3111, 0.02145539411195855), (3112, 0.008039506674000664), (3113, 0.012667297545652236), (3114, 0.0), (3115, 0.11399102694537236), (3116, 0.008215718212750628), (3117, 0.010339425354834076), (3118, 0.0), (3119, 0.0), (3120, 0.008350109760580059), (3121, 0.04124826278780738), (3122, 0.0), (3123, 0.0), (3124, 0.0), (3125, 0.0), (3126, 0.0), (3127, 0.003293808571695878), (3128, 0.0), (3129, 0.0), (3130, 0.0), (3131, 0.0), (3132, 0.0), (3133, 0.0), (3134, 0.0), (3135, 0.0), (3136, 0.0), (3137, 0.020190454188269334), (3138, 0.01876559748163647), (3139, 0.00481437878481089), (3140, 0.0), (3141, 0.010479136155704801), (3142, 0.02919492637094582), (3143, 0.0), (3144, 0.005566798440253043), (3145, 0.0), (3146, 0.0038035560565750997), (3147, 0.006331251500748243), (3148, 0.0), (3149, 0.020095309041734993), (3150, 0.0035577751647244923), (3151, 0.007121847848039517), (3152, 0.007038065271330175), (3153, 0.0), (3154, 0.012532166744265867), (3155, 0.00342369826028145), (3156, 0.014856335761847606), (3157, 0.0), (3158, 0.011476109461765124), (3159, 0.0), (3160, 0.0), (3161, 0.03769069407677636), (3162, 0.012950590972360666), (3163, 0.0), (3164, 0.0028796281553956356), (3165, 0.0), (3166, 0.004716809341850325), (3167, 0.0), (3168, 0.0038290060431057935), (3169, 0.0034859936555494825), (3170, 0.0), (3171, 0.0), (3172, 0.003959478066834604), (3173, 0.0), (3174, 0.0), (3175, 0.013308396879263449), (3176, 0.0), (3177, 0.003230173152095709), (3178, 0.005376272561346219), (3179, 0.010513918605359909), (3180, 0.0), (3181, 0.026483105635151626), (3182, 0.006927916986275327), (3183, 0.032690040813532176), (3184, 0.0), (3185, 0.0), (3186, 0.0), (3187, 0.011446064654016633), (3188, 0.003396561473361069), (3189, 0.03385671080317936), (3190, 0.003940287515098158), (3191, 0.0), (3192, 0.0075131397233234795), (3193, 0.0), (3194, 0.003209571472969823), (3195, 0.00887565790986084), (3196, 0.0), (3197, 0.0030903357359232013), (3198, 0.003512784697707785), (3199, 0.0), (3200, 0.008699890255052075), (3201, 0.01607828526953437), (3202, 0.0), (3203, 0.00409527059886458), (3204, 0.014560156225354205), (3205, 0.0), (3206, 0.0), (3207, 0.0037367971436040033), (3208, 0.0219731495000585), (3209, 0.003477700512778716), (3210, 0.0), (3211, 0.006473252614365902), (3212, 0.00901688994113192), (3213, 0.0), (3214, 0.0032463655615953533), (3215, 0.033318191868896514), (3216, 0.0), (3217, 0.004381985747315464), (3218, 0.0036252123730039147), (3219, 0.023151614775818848), (3220, 0.0033233667294698278), (3221, 0.012165344760447075), (3222, 0.0), (3223, 0.0), (3224, 0.012930276734891966), (3225, 0.010492554064433815), (3226, 0.0), (3227, 0.0), (3228, 0.0), (3229, 0.0206634357022814), (3230, 0.0), (3231, 0.030238661469324718), (3232, 0.011925366865750974), (3233, 0.0), (3234, 0.011889046379525125), (3235, 0.0), (3236, 0.03427372550675299), (3237, 0.0), (3238, 0.018172105041536667), (3239, 0.008574326168098109), (3240, 0.0), (3241, 0.0), (3242, 0.010750043535453143), (3243, 0.019994577230023625), (3244, 0.011376997734170714), (3245, 0.003435695416341825), (3246, 0.027863817022240167), (3247, 0.013950449619393486), (3248, 0.0), (3249, 0.004252969770847945), (3250, 0.0031891724536344005), (3251, 0.0), (3252, 0.022545655471475464), (3253, 0.0038669142987268995), (3254, 0.012611945120732136), (3255, 0.027194804702693344), (3256, 0.038843761796362106), (3257, 0.004097357769993176), (3258, 0.0036976130041004485), (3259, 0.014384568412807573), (3260, 0.013382289273638987), (3261, 0.0), (3262, 0.0), (3263, 0.0), (3264, 0.0), (3265, 0.007008603930222591), (3266, 0.04481431255122352), (3267, 0.00308547042789953), (3268, 0.0), (3269, 0.0), (3270, 0.04616927217931525), (3271, 0.00734833863597794), (3272, 0.021274278896126368), (3273, 0.0), (3274, 0.0), (3275, 0.018028371429161496), (3276, 0.0), (3277, 0.0035804802087822827), (3278, 0.0), (3279, 0.01650216471376888), (3280, 0.0), (3281, 0.0), (3282, 0.0044098766713354465), (3283, 0.01389293966230597), (3284, 0.008260292078796132), (3285, 0.0), (3286, 0.036630781434839006), (3287, 0.025124292713381863), (3288, 0.003327073980139695), (3289, 0.003484859069029423), (3290, 0.003499415171887718), (3291, 0.0), (3292, 0.0), (3293, 0.014599431280698147), (3294, 0.0), (3295, 0.0030945223732670654), (3296, 0.0), (3297, 0.015170693057887487), (3298, 0.0), (3299, 0.02550263073068931), (3300, 0.00962222341937355), (3301, 0.0), (3302, 0.010988949927539108), (3303, 0.0034604133070332828), (3304, 0.012350480607775329), (3305, 0.0), (3306, 0.0), (3307, 0.0), (3308, 0.016147705810455912), (3309, 0.006494173055828362), (3310, 0.0035473762518629442), (3311, 0.011234513706099278), (3312, 0.0), (3313, 0.014232807740048151), (3314, 0.010859395210818891), (3315, 0.0032483761252781736), (3316, 0.0), (3317, 0.0), (3318, 0.0), (3319, 0.006358651006929117), (3320, 0.02013561925784231), (3321, 0.0031462710612942166), (3322, 0.0), (3323, 0.01978818830997995), (3324, 0.003996302327245365), (3325, 0.0), (3326, 0.0), (3327, 0.0), (3328, 0.0), (3329, 0.011354023002789), (3330, 0.021275436858701327), (3331, 0.012857908293059245), (3332, 0.03466003772682867), (3333, 0.0), (3334, 0.010773019855827133), (3335, 0.007554030962214884), (3336, 0.0), (3337, 0.0039235784602515604), (3338, 0.00840267338150442), (3339, 0.0), (3340, 0.0), (3341, 0.0), (3342, 0.014323138449598108), (3343, 0.003396997790759446), (3344, 0.007659589310309236), (3345, 0.0), (3346, 0.0), (3347, 0.0), (3348, 0.003290805576331209), (3349, 0.0035278889669903843), (3350, 0.010730557006732346), (3351, 0.014235403029311287), (3352, 0.016386663905313126), (3353, 0.0), (3354, 0.0), (3355, 0.0), (3356, 0.0), (3357, 0.0042267768415147865), (3358, 0.0), (3359, 0.0), (3360, 0.006641128101078097), (3361, 0.0), (3362, 0.00810792567934421), (3363, 0.0), (3364, 0.03355322341150989), (3365, 0.01723788285286795), (3366, 0.03218203717121043), (3367, 0.009033293251336078), (3368, 0.019993369761337112), (3369, 0.0), (3370, 0.016011717652552694), (3371, 0.0037668493865926837), (3372, 0.0), (3373, 0.0038272628515580633), (3374, 0.0), (3375, 0.023991836765039423), (3376, 0.0), (3377, 0.011981574007098574), (3378, 0.003548338016493661), (3379, 0.07578520573082867), (3380, 0.009089275497931827), (3381, 0.0), (3382, 0.003548236372999995), (3383, 0.003850351500689791), (3384, 0.0), (3385, 0.0), (3386, 0.0034454734009307444), (3387, 0.0), (3388, 0.0035827350778198015), (3389, 0.04132135068076303), (3390, 0.007123474951249168), (3391, 0.0), (3392, 0.0049677279763081245), (3393, 0.06647499907652543), (3394, 0.0178591324812475), (3395, 0.04590284980763533), (3396, 0.0), (3397, 0.02181063349424547), (3398, 0.0), (3399, 0.00842622503903142), (3400, 0.012145679922565657), (3401, 0.0), (3402, 0.0713548964520038), (3403, 0.008970653040177098), (3404, 0.0), (3405, 0.023769890035089447), (3406, 0.0), (3407, 0.014480658213629182), (3408, 0.00393234884864856), (3409, 0.0), (3410, 0.0027363604752786443), (3411, 0.010896281534343162), (3412, 0.008796201548878882), (3413, 0.004084331598049043), (3414, 0.0), (3415, 0.003558787907594284), (3416, 0.0), (3417, 0.0), (3418, 0.006171882637556249), (3419, 0.0), (3420, 0.008350527082010848), (3421, 0.002352537213223071), (3422, 0.0035866922646410953), (3423, 0.0), (3424, 0.003725605099488457), (3425, 0.0), (3426, 0.0), (3427, 0.0), (3428, 0.0035130772270046354), (3429, 0.020954729155898546), (3430, 0.02848416710585981), (3431, 0.0), (3432, 0.0), (3433, 0.009641119399727517), (3434, 0.0), (3435, 0.0), (3436, 0.0), (3437, 0.0), (3438, 0.0), (3439, 0.004410531939979184), (3440, 0.0), (3441, 0.0), (3442, 0.05776746769304799), (3443, 0.0033540042205636496), (3444, 0.030537658764195157), (3445, 0.0), (3446, 0.010515542779150303), (3447, 0.015458644332599334), (3448, 0.0), (3449, 0.014738889622640377), (3450, 0.0), (3451, 0.0), (3452, 0.008410133083974633), (3453, 0.0), (3454, 0.0), (3455, 0.0), (3456, 0.01231954424756719), (3457, 0.022284384361490744), (3458, 0.0), (3459, 0.014988843021178797), (3460, 0.0), (3461, 0.033875008674408666), (3462, 0.0034426605836205813), (3463, 0.0), (3464, 0.003603861278207391), (3465, 0.0), (3466, 0.0), (3467, 0.01826879203098231), (3468, 0.0), (3469, 0.0), (3470, 0.0), (3471, 0.0), (3472, 0.009471904965113144), (3473, 0.023741386339742925), (3474, 0.0), (3475, 0.0055275061005283), (3476, 0.02061460365955882), (3477, 0.0033718617745357757), (3478, 0.0), (3479, 0.004541199572181096), (3480, 0.0), (3481, 0.0204539099733133), (3482, 0.021030715478292623), (3483, 0.018457942873291805), (3484, 0.0), (3485, 0.021596141353637775), (3486, 0.0), (3487, 0.00867157455658766), (3488, 0.0), (3489, 0.0035051292507498034), (3490, 0.023766204568361683), (3491, 0.0), (3492, 0.0), (3493, 0.021805579619045477), (3494, 0.003422262813249737), (3495, 0.009104807885957975), (3496, 0.0036500441729233665), (3497, 0.06250564176335036), (3498, 0.02944742713859315), (3499, 0.0), (3500, 0.003154788500239677), (3501, 0.0), (3502, 0.0), (3503, 0.1182329601771508), (3504, 0.039356485244619245), (3505, 0.023359849765467434), (3506, 0.0), (3507, 0.09813711531200134), (3508, 0.0033464428690330155), (3509, 0.010775203123808353), (3510, 0.0036658782792008647), (3511, 0.0), (3512, 0.025802322375455572), (3513, 0.0035627267614430813), (3514, 0.014239277640359151), (3515, 0.024403110218760668), (3516, 0.02321759108998606), (3517, 0.01742252346765765), (3518, 0.003384658639677253), (3519, 0.0037437569584515), (3520, 0.009130269893704855), (3521, 0.0), (3522, 0.0), (3523, 0.0), (3524, 0.008796454432948502), (3525, 0.0), (3526, 0.0034799746240521227), (3527, 0.0), (3528, 0.0), (3529, 0.013647184729537395), (3530, 0.0), (3531, 0.0032981786491458045), (3532, 0.0), (3533, 0.007102318119643455), (3534, 0.02284972292008331), (3535, 0.0), (3536, 0.007757503399872589), (3537, 0.004217724118307903), (3538, 0.0027113957412098185), (3539, 0.05537374176690682), (3540, 0.04466699553004308), (3541, 0.020956750617475987), (3542, 0.0), (3543, 0.0031610183979047667), (3544, 0.004139203361038702), (3545, 0.010796033438066118), (3546, 0.0), (3547, 0.0), (3548, 0.0), (3549, 0.003516725819845865), (3550, 0.0), (3551, 0.0), (3552, 0.005530462489234064), (3553, 0.0), (3554, 0.013166728690519127), (3555, 0.044848759127388615), (3556, 0.013791725325076675), (3557, 0.01466320880630228), (3558, 0.008326557003646071), (3559, 0.002850184479815032), (3560, 0.0), (3561, 0.0379116720992061), (3562, 0.0363416489130606), (3563, 0.019245364969412142), (3564, 0.0), (3565, 0.006730637757476026), (3566, 0.0), (3567, 0.0), (3568, 0.0), (3569, 0.035008842414252325), (3570, 0.013554262012354436), (3571, 0.010431438604037934), (3572, 0.003764754936180913), (3573, 0.0), (3574, 0.01866545159064891), (3575, 0.011019133009365025), (3576, 0.0), (3577, 0.004202377709620956), (3578, 0.0), (3579, 0.010601071983742648), (3580, 0.013363287163861686), (3581, 0.011956854145960807), (3582, 0.01813522038189216), (3583, 0.0), (3584, 0.0036519426728978768), (3585, 0.015418970122517996), (3586, 0.0), (3587, 0.0), (3588, 0.0), (3589, 0.030337180952871242), (3590, 0.0), (3591, 0.003548999271032445), (3592, 0.004227712709066381), (3593, 0.03217691275909385), (3594, 0.0), (3595, 0.02367862716999599), (3596, 0.0), (3597, 0.0), (3598, 0.0030101492886769597), (3599, 0.0035504750524503474), (3600, 0.0), (3601, 0.0036265120667580497), (3602, 0.01516652586869255), (3603, 0.013899910331558091), (3604, 0.01124623117755571), (3605, 0.0), (3606, 0.011090096369889356), (3607, 0.03595261175991763), (3608, 0.0), (3609, 0.0), (3610, 0.012846428470797894), (3611, 0.0), (3612, 0.0), (3613, 0.009221704085269952), (3614, 0.0), (3615, 0.0), (3616, 0.035204594285057136), (3617, 0.0), (3618, 0.0), (3619, 0.015295035188722621), (3620, 0.009104016973676477), (3621, 0.004001322066481154), (3622, 0.006374640701718589), (3623, 0.0), (3624, 0.030534606161680394), (3625, 0.0), (3626, 0.002608841614450344), (3627, 0.0), (3628, 0.026576353145578508), (3629, 0.0), (3630, 0.0398642689967688), (3631, 0.05461114847556592), (3632, 0.011117682502490973), (3633, 0.0527097419874492), (3634, 0.017314313865880004), (3635, 0.0), (3636, 0.0), (3637, 0.007887371009454086), (3638, 0.0), (3639, 0.029372622164820925), (3640, 0.0), (3641, 0.0032840709435865184), (3642, 0.0), (3643, 0.0075953012904026946), (3644, 0.0033409255797093866), (3645, 0.0), (3646, 0.010284809865828422), (3647, 0.015175946827930529), (3648, 0.003518364454890866), (3649, 0.0038576095658043688), (3650, 0.01102113031596789), (3651, 0.06490266967675024), (3652, 0.0037572928570841313), (3653, 0.0), (3654, 0.0), (3655, 0.008910865058210166), (3656, 0.025502640519079654), (3657, 0.0), (3658, 0.0028574122085748624), (3659, 0.009829792290135612), (3660, 0.014874598920602762), (3661, 0.0), (3662, 0.0033987345626063582), (3663, 0.0), (3664, 0.0), (3665, 0.07349431672617433), (3666, 0.0), (3667, 0.0), (3668, 0.00763396050989992), (3669, 0.0), (3670, 0.0), (3671, 0.03025201743276599), (3672, 0.0), (3673, 0.010832835388684865), (3674, 0.02850417013966669), (3675, 0.0), (3676, 0.00343632433257361), (3677, 0.0), (3678, 0.016829947483965393), (3679, 0.0), (3680, 0.0), (3681, 0.0037748736552534745), (3682, 0.00830127644361249), (3683, 0.04112212736510388), (3684, 0.0029510999623803768), (3685, 0.05407816297282944), (3686, 0.004042492143868197), (3687, 0.0), (3688, 0.0037678357376493984), (3689, 0.0), (3690, 0.0), (3691, 0.0), (3692, 0.0), (3693, 0.0), (3694, 0.0), (3695, 0.029242358834996117), (3696, 0.0), (3697, 0.0), (3698, 0.0), (3699, 0.0), (3700, 0.0146512484690092), (3701, 0.018161798729831435), (3702, 0.0), (3703, 0.0), (3704, 0.008079448403623547), (3705, 0.008161245121378571), (3706, 0.0), (3707, 0.0), (3708, 0.0), (3709, 0.00879070445173424), (3710, 0.016398262409089304), (3711, 0.0), (3712, 0.003221053283391761), (3713, 0.0), (3714, 0.0), (3715, 0.00438787604425532), (3716, 0.03628719963580556), (3717, 0.0), (3718, 0.0), (3719, 0.0), (3720, 0.0), (3721, 0.0), (3722, 0.011183236193773219), (3723, 0.0), (3724, 0.0), (3725, 0.0), (3726, 0.006743686750388511), (3727, 0.0), (3728, 0.041536881695568593), (3729, 0.0), (3730, 0.05852931945893658), (3731, 0.03397512074728888), (3732, 0.0031680546799573023), (3733, 0.02440638725178093), (3734, 0.0), (3735, 0.07645631688795027), (3736, 0.0063868045031553996), (3737, 0.0), (3738, 0.0), (3739, 0.0034378212256148243), (3740, 0.0043034811798635195), (3741, 0.0), (3742, 0.0), (3743, 0.0), (3744, 0.039298944998449784), (3745, 0.0), (3746, 0.026317796505223673), (3747, 0.0), (3748, 0.002942130649596754), (3749, 0.0), (3750, 0.0), (3751, 0.006145075815557439), (3752, 0.049717741200273724), (3753, 0.016907429153882682), (3754, 0.014403081921893345), (3755, 0.003005285007149952), (3756, 0.05282722145989253), (3757, 0.0), (3758, 0.004066972969626562), (3759, 0.0038931718708166926), (3760, 0.0), (3761, 0.0), (3762, 0.0), (3763, 0.01281872071303142), (3764, 0.006720243304695223), (3765, 0.0033031280645808383), (3766, 0.0), (3767, 0.0031236492592157028), (3768, 0.0), (3769, 0.0), (3770, 0.0), (3771, 0.01888221640699547), (3772, 0.0038696870629767893), (3773, 0.0), (3774, 0.0), (3775, 0.030492023298539183), (3776, 0.0), (3777, 0.0), (3778, 0.0), (3779, 0.0), (3780, 0.010932587086863068), (3781, 0.0), (3782, 0.009660803564999884), (3783, 0.0), (3784, 0.0), (3785, 0.006607951602522489), (3786, 0.0), (3787, 0.0), (3788, 0.014418437130690383), (3789, 0.034325629856416136), (3790, 0.0359022576793926), (3791, 0.00388008248172427), (3792, 0.013870799868952007), (3793, 0.0), (3794, 0.008542520795455786), (3795, 0.05516523043996038), (3796, 0.015043553267069566), (3797, 0.0), (3798, 0.0), (3799, 0.0), (3800, 0.0044862770798492916), (3801, 0.0), (3802, 0.009875747714948185), (3803, 0.060451216179888856), (3804, 0.0), (3805, 0.0242324977460029), (3806, 0.0), (3807, 0.007437248033766795), (3808, 0.003775492945885282), (3809, 0.0), (3810, 0.0), (3811, 0.012858225803608344), (3812, 0.03840192953759079), (3813, 0.008157577165683074), (3814, 0.0), (3815, 0.1135004191860618), (3816, 0.039782775055754886), (3817, 0.03328530826832907), (3818, 0.003372200672655256), (3819, 0.0), (3820, 0.0038442672318264506), (3821, 0.0), (3822, 0.022339700440880645), (3823, 0.0), (3824, 0.003245512729747388), (3825, 0.0), (3826, 0.00718766971138014), (3827, 0.0), (3828, 0.0), (3829, 0.008383797113152276), (3830, 0.0), (3831, 0.0), (3832, 0.00830244512515377), (3833, 0.0), (3834, 0.0), (3835, 0.0), (3836, 0.003316342312183099), (3837, 0.003732560815467847), (3838, 0.0), (3839, 0.0031364548887681085), (3840, 0.017871197314820727), (3841, 0.006704760400556134), (3842, 0.0030950120406881524), (3843, 0.019227017016136615), (3844, 0.004261154097608488), (3845, 0.003546821696800426), (3846, 0.007967286402954679), (3847, 0.021649099548268456), (3848, 0.0), (3849, 0.0), (3850, 0.016484155887661615), (3851, 0.0038933065770172465), (3852, 0.0), (3853, 0.0), (3854, 0.008340396158392802), (3855, 0.0028853134347003855), (3856, 0.020665626381717705), (3857, 0.011372586976782367), (3858, 0.012472814661573912), (3859, 0.003216334437374689), (3860, 0.0), (3861, 0.025736557939769915), (3862, 0.07062442736221358), (3863, 0.0), (3864, 0.0032089653797933828), (3865, 0.044561959564964636), (3866, 0.0039196561099144305), (3867, 0.0), (3868, 0.0032536411146647476), (3869, 0.0), (3870, 0.01759135668371687), (3871, 0.021816782773295816), (3872, 0.009866695418180343), (3873, 0.0), (3874, 0.0), (3875, 0.0027638913109416215), (3876, 0.0), (3877, 0.0), (3878, 0.0), (3879, 0.003296723813666847), (3880, 0.0), (3881, 0.0), (3882, 0.013071054429209732), (3883, 0.0), (3884, 0.020283086712150233), (3885, 0.0030933863524752778), (3886, 0.013099042579632259), (3887, 0.0), (3888, 0.0033645570697685523), (3889, 0.0036878277736845945), (3890, 0.006579570453063625), (3891, 0.0), (3892, 0.014139570970557534), (3893, 0.0), (3894, 0.014466959365179936), (3895, 0.0), (3896, 0.0032789281418971845), (3897, 0.02263429662239715), (3898, 0.0), (3899, 0.0), (3900, 0.0), (3901, 0.038943248273012515), (3902, 0.0), (3903, 0.0), (3904, 0.0), (3905, 0.003596919726503475), (3906, 0.030222190594745613), (3907, 0.0), (3908, 0.0), (3909, 0.0031725832906279493), (3910, 0.0), (3911, 0.0), (3912, 0.02157311309991479), (3913, 0.019708581194482336), (3914, 0.0059531159043757), (3915, 0.0), (3916, 0.016040925073719237), (3917, 0.0), (3918, 0.0), (3919, 0.0035546861533012866), (3920, 0.0), (3921, 0.003918331111950519), (3922, 0.004197750662713537), (3923, 0.009994144327220213), (3924, 0.009914338934228403), (3925, 0.0), (3926, 0.010894363792070587), (3927, 0.0), (3928, 0.028860494110534058), (3929, 0.0), (3930, 0.003520400780085323), (3931, 0.00397783440778911), (3932, 0.0), (3933, 0.0030310404157876296), (3934, 0.007221928982806662), (3935, 0.0), (3936, 0.004301722025736779), (3937, 0.02731050950332948), (3938, 0.019208181373819355), (3939, 0.0), (3940, 0.007435992509592424), (3941, 0.012781719276121685), (3942, 0.040081060749704855), (3943, 0.07241927447573974), (3944, 0.0), (3945, 0.0), (3946, 0.0), (3947, 0.0), (3948, 0.006610358347459017), (3949, 0.004674327504902172), (3950, 0.007559943841278908), (3951, 0.0), (3952, 0.0038995677868604466), (3953, 0.0), (3954, 0.0), (3955, 0.0), (3956, 0.0), (3957, 0.0), (3958, 0.0), (3959, 0.0), (3960, 0.01022486477609638), (3961, 0.0), (3962, 0.0038190389249919774), (3963, 0.0), (3964, 0.003797718738615767), (3965, 0.019896906011065564), (3966, 0.0084115566659015), (3967, 0.007518088236081344), (3968, 0.0), (3969, 0.00714455653712355), (3970, 0.04119415706276877), (3971, 0.0027422579309653305), (3972, 0.010330214759162005), (3973, 0.0072408538392469335), (3974, 0.0), (3975, 0.0), (3976, 0.0), (3977, 0.0), (3978, 0.0), (3979, 0.016376491099238423), (3980, 0.005997813167856552), (3981, 0.0), (3982, 0.0), (3983, 0.006756809797381374), (3984, 0.014344399009904371), (3985, 0.0), (3986, 0.0), (3987, 0.0), (3988, 0.004280141958346902), (3989, 0.0), (3990, 0.010319652369582854), (3991, 0.019712457721879767), (3992, 0.0038437763129737755), (3993, 0.052856054499217583), (3994, 0.0), (3995, 0.0), (3996, 0.004054404265630581), (3997, 0.016421051335570962), (3998, 0.023842922379587333), (3999, 0.0), (4000, 0.0), (4001, 0.003406161626474816), (4002, 0.0), (4003, 0.0037562722172864976), (4004, 0.0), (4005, 0.0), (4006, 0.025649698693341764), (4007, 0.00483515151098919), (4008, 0.014155324344194833), (4009, 0.019313810660633396), (4010, 0.028042457630583672), (4011, 0.0), (4012, 0.006418577536513804), (4013, 0.011147700725150813), (4014, 0.0), (4015, 0.00743989680968751), (4016, 0.0), (4017, 0.0), (4018, 0.014523636802636098), (4019, 0.0), (4020, 0.00733473587827936), (4021, 0.010449438840943969), (4022, 0.019410642131291532), (4023, 0.024603279053657185), (4024, 0.0), (4025, 0.0035277669117543225), (4026, 0.09541837601020191), (4027, 0.0035906704201541565), (4028, 0.0), (4029, 0.003332404224554322), (4030, 0.0), (4031, 0.11789783713875983), (4032, 0.0), (4033, 0.02252165345796644), (4034, 0.02318990638226978), (4035, 0.002958759977213909), (4036, 0.003322533234982816), (4037, 0.035741839694846754), (4038, 0.0109465237342299), (4039, 0.0), (4040, 0.004387891861062665), (4041, 0.0), (4042, 0.0), (4043, 0.0), (4044, 0.0), (4045, 0.022553474314293664), (4046, 0.0), (4047, 0.040814221734066916), (4048, 0.0), (4049, 0.003451076325980983), (4050, 0.03404585034438567), (4051, 0.003793692598551845), (4052, 0.003593854757115903), (4053, 0.0), (4054, 0.013169066969332078), (4055, 0.0), (4056, 0.0), (4057, 0.0), (4058, 0.004229588140834798), (4059, 0.0), (4060, 0.01532473470231834), (4061, 0.003714279748800505), (4062, 0.0), (4063, 0.0), (4064, 0.003772236760776654), (4065, 0.0), (4066, 0.02134283635697383), (4067, 0.0), (4068, 0.0), (4069, 0.0), (4070, 0.0), (4071, 0.003217413268236797), (4072, 0.0), (4073, 0.003314319425603267), (4074, 0.017331088595248068), (4075, 0.0), (4076, 0.009716357726604539), (4077, 0.0), (4078, 0.0), (4079, 0.009349602769406488), (4080, 0.0), (4081, 0.0), (4082, 0.03625605805838989), (4083, 0.0), (4084, 0.004372487598428266), (4085, 0.0), (4086, 0.02629872161739695), (4087, 0.0), (4088, 0.0), (4089, 0.0), (4090, 0.033210745280573425), (4091, 0.05893785523520935), (4092, 0.0), (4093, 0.0034783896192767455), (4094, 0.007288513392060278), (4095, 0.0), (4096, 0.0), (4097, 0.014936769249381152), (4098, 0.015811028547961622), (4099, 0.04563925867523852), (4100, 0.0), (4101, 0.03805464537311024), (4102, 0.004317517708527685), (4103, 0.05751746749706302), (4104, 0.003014109462756423), (4105, 0.003816915452871529), (4106, 0.0), (4107, 0.0), (4108, 0.09184788609931427), (4109, 0.025194254186845698), (4110, 0.0), (4111, 0.0036402336803460712), (4112, 0.023722177394487183), (4113, 0.01868959628575552), (4114, 0.011652508815035751), (4115, 0.0045881989419177234), (4116, 0.01681645528452094), (4117, 0.01417717787018536), (4118, 0.011729384658470331), (4119, 0.0), (4120, 0.0), (4121, 0.0038675461880956483), (4122, 0.011201081619989395), (4123, 0.0), (4124, 0.0), (4125, 0.0035317691990271734), (4126, 0.0), (4127, 0.004127585379479143), (4128, 0.0), (4129, 0.0), (4130, 0.0), (4131, 0.003638901304592239), (4132, 0.0036601898395089726), (4133, 0.0), (4134, 0.0), (4135, 0.04584711627331422), (4136, 0.007788469513119919), (4137, 0.010333144845597097), (4138, 0.0), (4139, 0.0), (4140, 0.020053161611520876), (4141, 0.0), (4142, 0.0), (4143, 0.01731111903369902), (4144, 0.025947110171596725), (4145, 0.0), (4146, 0.02140249377414096), (4147, 0.015122404780072884), (4148, 0.0), (4149, 0.006875675990004336), (4150, 0.0), (4151, 0.0), (4152, 0.009768988678437887), (4153, 0.0), (4154, 0.0), (4155, 0.008616339111829087), (4156, 0.0029807486981103045), (4157, 0.007326534012319696), (4158, 0.0), (4159, 0.00959608526680002), (4160, 0.008382511000034135), (4161, 0.0), (4162, 0.0), (4163, 0.0), (4164, 0.02527163534049027), (4165, 0.0), (4166, 0.004390006520581026), (4167, 0.0), (4168, 0.007646441987676515), (4169, 0.020514168199340002), (4170, 0.0), (4171, 0.019984744813436303), (4172, 0.0), (4173, 0.026002519205810763), (4174, 0.0031298269215267495), (4175, 0.0), (4176, 0.0), (4177, 0.012340600138811103), (4178, 0.0), (4179, 0.03695167665421181), (4180, 0.0035934282352518506), (4181, 0.0), (4182, 0.0025798549410183187), (4183, 0.0), (4184, 0.0034143135248375753), (4185, 0.03163700420168057), (4186, 0.03558300437753469), (4187, 0.0), (4188, 0.0), (4189, 0.0), (4190, 0.03843291743852932), (4191, 0.053310244731594694), (4192, 0.003292840612050353), (4193, 0.0), (4194, 0.021698302850640717), (4195, 0.02428840866856982), (4196, 0.02276005889537419), (4197, 0.0034665582317866778), (4198, 0.004490027681669007), (4199, 0.030149722638459445), (4200, 0.002811443804828179), (4201, 0.0), (4202, 0.0), (4203, 0.003941604113901609), (4204, 0.004047265706311213), (4205, 0.025199167477922862), (4206, 0.019789445619559014), (4207, 0.06504940145251342), (4208, 0.0), (4209, 0.04366707913962782), (4210, 0.03503646992940291), (4211, 0.0), (4212, 0.0), (4213, 0.003233446854443676), (4214, 0.0034443509133433837), (4215, 0.0), (4216, 0.0), (4217, 0.006568636387288718), (4218, 0.01063934699919554), (4219, 0.0), (4220, 0.0), (4221, 0.0), (4222, 0.004560473903215367), (4223, 0.005212219085955423), (4224, 0.0), (4225, 0.03238356574622625), (4226, 0.014911343734139897), (4227, 0.0), (4228, 0.0), (4229, 0.0), (4230, 0.0), (4231, 0.0), (4232, 0.0), (4233, 0.029814245045116133), (4234, 0.003317234819759218), (4235, 0.0), (4236, 0.0), (4237, 0.0030273387711081713), (4238, 0.0), (4239, 0.004697904251866475), (4240, 0.0), (4241, 0.008919832247690237), (4242, 0.02049287054339484), (4243, 0.0), (4244, 0.0), (4245, 0.0), (4246, 0.0032196370402773076), (4247, 0.008999440291288574), (4248, 0.030666764851095988), (4249, 0.0), (4250, 0.013991979943951918), (4251, 0.0), (4252, 0.02381140719962084), (4253, 0.0), (4254, 0.0031928518252334432), (4255, 0.0), (4256, 0.003608501205034299), (4257, 0.00320330916739941), (4258, 0.01999724899951491), (4259, 0.023455057110542136), (4260, 0.003594057917222572), (4261, 0.0), (4262, 0.0), (4263, 0.0037452743512894795), (4264, 0.030371644045747097), (4265, 0.03261740066219509), (4266, 0.0), (4267, 0.0), (4268, 0.02434511119566504), (4269, 0.0), (4270, 0.01950027245894999), (4271, 0.0), (4272, 0.00322595426247883), (4273, 0.0), (4274, 0.0), (4275, 0.0), (4276, 0.0), (4277, 0.0), (4278, 0.0), (4279, 0.0), (4280, 0.0), (4281, 0.0), (4282, 0.0), (4283, 0.0), (4284, 0.0), (4285, 0.0039904792567245885), (4286, 0.0), (4287, 0.0035130755326372074), (4288, 0.0), (4289, 0.01641723546490992), (4290, 0.0), (4291, 0.003395670151231904), (4292, 0.008497616712332469), (4293, 0.0037944731225678556), (4294, 0.0), (4295, 0.0038823990669617312), (4296, 0.0), (4297, 0.0031160683017086893), (4298, 0.0), (4299, 0.009995583389164876), (4300, 0.0034270168869267614), (4301, 0.0), (4302, 0.0), (4303, 0.02333750595103973), (4304, 0.003051919696328245), (4305, 0.0031589795099784576), (4306, 0.0), (4307, 0.0), (4308, 0.0037290611544777653), (4309, 0.0), (4310, 0.0), (4311, 0.002762671664600027), (4312, 0.0), (4313, 0.0), (4314, 0.010487898988728296), (4315, 0.0036212093386901525), (4316, 0.0), (4317, 0.0038559512695503944), (4318, 0.0), (4319, 0.03506766278672694), (4320, 0.0), (4321, 0.0032373653402183364), (4322, 0.0), (4323, 0.01772394654486305), (4324, 0.003769664272881685), (4325, 0.01151954529171776), (4326, 0.0), (4327, 0.0033139235799106537), (4328, 0.0), (4329, 0.011168256568381281), (4330, 0.0074806183744363566), (4331, 0.02459076936522664), (4332, 0.0036891460491799612), (4333, 0.0), (4334, 0.03683118221080515), (4335, 0.003873199640780088), (4336, 0.0), (4337, 0.0), (4338, 0.008166124385614607), (4339, 0.031105229135912543), (4340, 0.0077325553845304035), (4341, 0.028828804780540167), (4342, 0.01926173225569483), (4343, 0.007977548454224544), (4344, 0.0), (4345, 0.0), (4346, 0.02819570762007261), (4347, 0.029645562795492766), (4348, 0.006875512681531013), (4349, 0.0), (4350, 0.0), (4351, 0.026062650766291485), (4352, 0.0), (4353, 0.030995650403406783), (4354, 0.0), (4355, 0.0), (4356, 0.019638110099711295), (4357, 0.0036247301902838226), (4358, 0.029801736047407778), (4359, 0.0), (4360, 0.042757293472633004), (4361, 0.0), (4362, 0.030177722292460855), (4363, 0.0), (4364, 0.022922925323643314), (4365, 0.0), (4366, 0.0), (4367, 0.0032952409629873392), (4368, 0.0), (4369, 0.0), (4370, 0.0036317023143366193), (4371, 0.011663864884008644), (4372, 0.016669379625636555), (4373, 0.0), (4374, 0.008561283957785427), (4375, 0.0), (4376, 0.0), (4377, 0.0), (4378, 0.020232837813994965), (4379, 0.015981483412824207), (4380, 0.034528430238221094), (4381, 0.03301198141557056), (4382, 0.003288102819432258), (4383, 0.0), (4384, 0.0), (4385, 0.008911939695265715), (4386, 0.0), (4387, 0.0), (4388, 0.0034968785756783714), (4389, 0.0), (4390, 0.0), (4391, 0.0), (4392, 0.027025002384169702), (4393, 0.0), (4394, 0.0033742974722785362), (4395, 0.017854940956934746), (4396, 0.00836470998465373), (4397, 0.008320740843529585), (4398, 0.0), (4399, 0.0), (4400, 0.08900886540235563), (4401, 0.0), (4402, 0.0), (4403, 0.0), (4404, 0.0034741005819676203), (4405, 0.014991676907113375), (4406, 0.0), (4407, 0.0), (4408, 0.004082634647219069), (4409, 0.0), (4410, 0.009491522381177626), (4411, 0.0), (4412, 0.0), (4413, 0.0036870569915431195), (4414, 0.0), (4415, 0.0), (4416, 0.0), (4417, 0.0), (4418, 0.0), (4419, 0.0), (4420, 0.013095809971152844), (4421, 0.003549656608396314), (4422, 0.003514003340538518), (4423, 0.0), (4424, 0.0), (4425, 0.0), (4426, 0.010716115900318608), (4427, 0.0074680577304089965), (4428, 0.0), (4429, 0.0), (4430, 0.0), (4431, 0.0), (4432, 0.015258719364205068), (4433, 0.0035477117006379867), (4434, 0.003257431131442832), (4435, 0.0), (4436, 0.0), (4437, 0.009176217593136313), (4438, 0.007167823951764489), (4439, 0.0), (4440, 0.03717039958825663), (4441, 0.008567543261003415), (4442, 0.003298284403812115), (4443, 0.0), (4444, 0.0), (4445, 0.006770730054731873), (4446, 0.0037302247709920084), (4447, 0.009868055877857104), (4448, 0.0035511971247005926), (4449, 0.030113680130172654), (4450, 0.0), (4451, 0.014653344075963106), (4452, 0.0038461598724612157), (4453, 0.003796725284970895), (4454, 0.012548469241037315), (4455, 0.02515437839321459), (4456, 0.0), (4457, 0.024213597347261015), (4458, 0.0), (4459, 0.0), (4460, 0.0038544943995608093), (4461, 0.0), (4462, 0.011571012982064692), (4463, 0.015139850810411396), (4464, 0.0), (4465, 0.0), (4466, 0.0), (4467, 0.0), (4468, 0.0), (4469, 0.0), (4470, 0.01590273139969314), (4471, 0.036109768904273726), (4472, 0.0), (4473, 0.0029615587363010214), (4474, 0.0), (4475, 0.0), (4476, 0.0), (4477, 0.0), (4478, 0.00799328342690648), (4479, 0.0), (4480, 0.01920466033702844), (4481, 0.0), (4482, 0.007415296567324406), (4483, 0.025189391893269193), (4484, 0.004533745408496364), (4485, 0.0), (4486, 0.003524605230807109), (4487, 0.0252852721018961), (4488, 0.026630926114397872), (4489, 0.0036064812184189578), (4490, 0.0), (4491, 0.0), (4492, 0.02610722262030935), (4493, 0.0), (4494, 0.0), (4495, 0.010967286853942337), (4496, 0.0038921578346456914), (4497, 0.0), (4498, 0.005573480021881548), (4499, 0.0), (4500, 0.009880606675759471), (4501, 0.007553537578014115), (4502, 0.014087834701785328), (4503, 0.0), (4504, 0.0), (4505, 0.0), (4506, 0.004059809594472749), (4507, 0.0039057836101052666), (4508, 0.0), (4509, 0.0), (4510, 0.0), (4511, 0.0), (4512, 0.0), (4513, 0.0), (4514, 0.004113067388535427), (4515, 0.008319545316764921), (4516, 0.008573244562974655), (4517, 0.01753854099540606), (4518, 0.012429743193262729), (4519, 0.02427084967778175), (4520, 0.0), (4521, 0.0), (4522, 0.0037057110454769763), (4523, 0.0), (4524, 0.0), (4525, 0.0), (4526, 0.06067210475944451), (4527, 0.0), (4528, 0.0), (4529, 0.0), (4530, 0.003325603935801), (4531, 0.009995301866942564), (4532, 0.034928472654017606), (4533, 0.0), (4534, 0.008771913090256118), (4535, 0.0), (4536, 0.0), (4537, 0.004426385451423575), (4538, 0.035436458025675), (4539, 0.0), (4540, 0.0), (4541, 0.0), (4542, 0.003361938089712964), (4543, 0.0), (4544, 0.0), (4545, 0.03856319505398048), (4546, 0.0), (4547, 0.0), (4548, 0.008454549891391896), (4549, 0.0), (4550, 0.0206957339737742), (4551, 0.009981383941453993), (4552, 0.0035246529458691804), (4553, 0.0), (4554, 0.0), (4555, 0.02536031975576375), (4556, 0.010640381935447361), (4557, 0.0036070346157780655), (4558, 0.018254157214461726), (4559, 0.021697390434461946), (4560, 0.0036162274449429454), (4561, 0.0), (4562, 0.020903687689837615), (4563, 0.0), (4564, 0.0032741483366798795), (4565, 0.0), (4566, 0.0), (4567, 0.008619924670914384), (4568, 0.0), (4569, 0.0070182919054461185), (4570, 0.029051815843188184), (4571, 0.005403372309842407), (4572, 0.0), (4573, 0.0), (4574, 0.0), (4575, 0.0), (4576, 0.008760085935695983), (4577, 0.0031222131031039516), (4578, 0.0), (4579, 0.0), (4580, 0.003794541654361911), (4581, 0.0), (4582, 0.050180900429287786), (4583, 0.0), (4584, 0.0), (4585, 0.0), (4586, 0.0), (4587, 0.02521097769980179), (4588, 0.020674966724304144), (4589, 0.0), (4590, 0.0), (4591, 0.0), (4592, 0.0033899073135734738), (4593, 0.03109805853494713), (4594, 0.025145276738253206), (4595, 0.0), (4596, 0.0029970476634676546), (4597, 0.0), (4598, 0.01389841319614964), (4599, 0.0163771076647293), (4600, 0.003111879346699994), (4601, 0.0), (4602, 0.0), (4603, 0.0031719255620827466), (4604, 0.0075168330115807), (4605, 0.0), (4606, 0.011418166480922592), (4607, 0.01309675525931066), (4608, 0.0), (4609, 0.0034238123434598144), (4610, 0.011447270429659812), (4611, 0.0), (4612, 0.0), (4613, 0.014213222057959904), (4614, 0.0), (4615, 0.0), (4616, 0.0), (4617, 0.0), (4618, 0.0), (4619, 0.0), (4620, 0.0), (4621, 0.0), (4622, 0.003609503026766296), (4623, 0.024355567232228363), (4624, 0.0), (4625, 0.0), (4626, 0.0), (4627, 0.016153217995822367), (4628, 0.017587954682617552), (4629, 0.0), (4630, 0.0), (4631, 0.004129356586003645), (4632, 0.0), (4633, 0.02448398122474611), (4634, 0.0), (4635, 0.0), (4636, 0.0028675861243640396), (4637, 0.030453880146258428), (4638, 0.0), (4639, 0.0), (4640, 0.0), (4641, 0.0), (4642, 0.0), (4643, 0.0), (4644, 0.0), (4645, 0.02529328113292538), (4646, 0.0), (4647, 0.027541736688885862), (4648, 0.003516717879116131), (4649, 0.0), (4650, 0.026112758308144537), (4651, 0.0), (4652, 0.002599134210111847), (4653, 0.0), (4654, 0.0), (4655, 0.0035992920415431873), (4656, 0.02302025836565253), (4657, 0.0), (4658, 0.008670811144391319), (4659, 0.0), (4660, 0.0), (4661, 0.013672706594555483), (4662, 0.040562155405059766), (4663, 0.0), (4664, 0.0), (4665, 0.0), (4666, 0.0), (4667, 0.017604672193825957), (4668, 0.0), (4669, 0.0), (4670, 0.0), (4671, 0.0), (4672, 0.0), (4673, 0.0), (4674, 0.01448773216113954), (4675, 0.03318101026290163), (4676, 0.014573436755389756), (4677, 0.00911588829981663), (4678, 0.0), (4679, 0.0), (4680, 0.0), (4681, 0.0), (4682, 0.0), (4683, 0.02452615337898989), (4684, 0.0), (4685, 0.0), (4686, 0.0), (4687, 0.0), (4688, 0.012331811378563802), (4689, 0.0), (4690, 0.029646427119765627), (4691, 0.0), (4692, 0.0), (4693, 0.0), (4694, 0.03286002735351098), (4695, 0.0), (4696, 0.0), (4697, 0.08599999294175495), (4698, 0.0), (4699, 0.0), (4700, 0.0046042588886642125), (4701, 0.0), (4702, 0.003452965922098083), (4703, 0.0), (4704, 0.0), (4705, 0.0), (4706, 0.0037778502818951397), (4707, 0.0), (4708, 0.0), (4709, 0.038013759960446356), (4710, 0.0), (4711, 0.012837482638966509), (4712, 0.0), (4713, 0.0), (4714, 0.0), (4715, 0.0), (4716, 0.0), (4717, 0.004015179435581955), (4718, 0.008385077727374674), (4719, 0.006585892381609338), (4720, 0.004127257964367907), (4721, 0.004232163392963591), (4722, 0.0), (4723, 0.0), (4724, 0.0), (4725, 0.03021140284279858), (4726, 0.010950332707639494), (4727, 0.0), (4728, 0.025943983305543546), (4729, 0.0), (4730, 0.008906239578887634), (4731, 0.0), (4732, 0.0), (4733, 0.0), (4734, 0.0036748237813310656), (4735, 0.0), (4736, 0.009013610936304907), (4737, 0.01233282987469571), (4738, 0.003398894003916735), (4739, 0.0), (4740, 0.009706205538353637), (4741, 0.011667797161191176), (4742, 0.0), (4743, 0.02385033953285167), (4744, 0.015260698031913914), (4745, 0.0), (4746, 0.0038568340084787363), (4747, 0.028131678199445072), (4748, 0.0), (4749, 0.02864996347027933), (4750, 0.0), (4751, 0.0), (4752, 0.0), (4753, 0.0), (4754, 0.020582299922079727), (4755, 0.0), (4756, 0.03127915945368378), (4757, 0.010752615405492254), (4758, 0.08004046771509139), (4759, 0.0)]\n"
          ]
        }
      ]
    },
    {
      "cell_type": "markdown",
      "source": [
        "**Get All Movies Sort Based on Recommendation Score wrt Favourite Movie**"
      ],
      "metadata": {
        "id": "qYcxVoJEIq8_"
      }
    },
    {
      "cell_type": "code",
      "source": [
        "Sorted_Similar_Movies = sorted (Recommendation_Score, key = lambda x:x[1], reverse  =True)\n",
        "print(Sorted_Similar_Movies)"
      ],
      "metadata": {
        "colab": {
          "base_uri": "https://localhost:8080/"
        },
        "id": "S18e6_9MIY3g",
        "outputId": "cd89d163-1448-4fcc-9b17-374dcaa115b1"
      },
      "execution_count": null,
      "outputs": [
        {
          "output_type": "stream",
          "name": "stdout",
          "text": [
            "[(1008, 1.0000000000000002), (1524, 0.23045746810849266), (219, 0.12811731030832835), (3503, 0.1182329601771508), (4031, 0.11789783713875983), (2936, 0.11707776159417867), (1889, 0.11604444267550004), (3115, 0.11399102694537236), (3815, 0.1135004191860618), (750, 0.11031268529557248), (92, 0.10862751363786521), (2137, 0.10378165526104535), (2912, 0.09915089900276186), (3507, 0.09813711531200134), (1874, 0.09724044234673737), (4026, 0.09541837601020191), (859, 0.09276145448649539), (4108, 0.09184788609931427), (544, 0.09130899456418638), (4400, 0.08900886540235563), (1112, 0.08736811926270316), (4697, 0.08599999294175495), (1496, 0.08518364236159888), (651, 0.08498684053229459), (3018, 0.08468095995698612), (961, 0.08358641517175502), (1373, 0.08102706328077383), (4758, 0.08004046771509139), (673, 0.07926119560720604), (1901, 0.07901104209192673), (1706, 0.07882205050234783), (2614, 0.07855730258851912), (3735, 0.07645631688795027), (2419, 0.07600954212311573), (3379, 0.07578520573082867), (1601, 0.07516741790302701), (2162, 0.07498162281590895), (3665, 0.07349431672617433), (1293, 0.07320312497530038), (3943, 0.07241927447573974), (1375, 0.07138913862448942), (3402, 0.0713548964520038), (519, 0.0707320686150047), (3862, 0.07062442736221358), (2267, 0.07039139751036617), (2118, 0.07015639058697941), (2339, 0.06898177783293093), (1505, 0.0689224927672969), (2688, 0.06883737608443721), (1687, 0.06878177157035553), (869, 0.06828983222357202), (285, 0.0675498780262862), (152, 0.06699048232698726), (1880, 0.06656428068029015), (3393, 0.06647499907652543), (846, 0.06608261531118227), (1942, 0.06600052231513112), (1472, 0.06562630979113795), (4207, 0.06504940145251342), (3651, 0.06490266967675024), (473, 0.06469045781751272), (418, 0.06410866960136893), (2771, 0.06373410718007963), (1308, 0.06343562296704992), (2045, 0.06327772717139724), (2112, 0.0631415512272254), (2244, 0.06291794949716537), (3497, 0.06250564176335036), (2604, 0.062195772801779875), (767, 0.06153790794247105), (2753, 0.06151161590146105), (1834, 0.06086180301392161), (4526, 0.06067210475944451), (3803, 0.060451216179888856), (1396, 0.059826796458529216), (1198, 0.05933130999309804), (4091, 0.05893785523520935), (427, 0.05888590639441044), (809, 0.05873145142619517), (2201, 0.05859983290347852), (3730, 0.05852931945893658), (952, 0.05797501017230629), (1138, 0.05786978399104825), (3442, 0.05776746769304799), (2145, 0.057543393466473046), (4103, 0.05751746749706302), (2171, 0.057466142765612765), (1460, 0.057292422116461766), (749, 0.057242286178343565), (1269, 0.057115640316561286), (249, 0.056892499252629215), (821, 0.056306895178269825), (417, 0.05629728769237824), (1586, 0.056252363821874415), (581, 0.05560059156844605), (3539, 0.05537374176690682), (135, 0.05535238770380001), (3795, 0.05516523043996038), (1602, 0.05514927842119266), (1785, 0.05496853815999557), (3631, 0.05461114847556592), (449, 0.05460860505512878), (3685, 0.05407816297282944), (501, 0.053600907401293904), (820, 0.05353768199483346), (1898, 0.05343952140005789), (4191, 0.053310244731594694), (3993, 0.052856054499217583), (3756, 0.05282722145989253), (1769, 0.05282065337689684), (1248, 0.0527412833013572), (3633, 0.0527097419874492), (1902, 0.052182426690025194), (1134, 0.05156678517474064), (1720, 0.05155529677948651), (1829, 0.051173779271077774), (2584, 0.05105986141443746), (268, 0.05102382129629668), (2574, 0.05089142688654332), (4582, 0.050180900429287786), (3752, 0.049717741200273724), (542, 0.049590736006620395), (2643, 0.04952920176577628), (1383, 0.049258646260123426), (703, 0.04900439358272914), (2831, 0.048925555508724086), (1107, 0.04856504263736293), (1944, 0.04824766450585266), (2039, 0.047201093654447426), (1631, 0.04717618685825129), (2776, 0.047159231883603235), (2652, 0.047078155098828595), (1197, 0.04695752855042484), (2379, 0.04650677259184819), (1820, 0.04640325390139301), (3270, 0.04616927217931525), (117, 0.04600335384357365), (2507, 0.04597796907448273), (3395, 0.04590284980763533), (2329, 0.04585360201541351), (4135, 0.04584711627331422), (4099, 0.04563925867523852), (1948, 0.04535380902971966), (2266, 0.0452791427628392), (1351, 0.04522059220542027), (1713, 0.04515732241906645), (2063, 0.045034568420737664), (1120, 0.044989568784327263), (3555, 0.044848759127388615), (3266, 0.04481431255122352), (3540, 0.04466699553004308), (3865, 0.044561959564964636), (3070, 0.04437314181325528), (1728, 0.044192309266576676), (965, 0.044136344368746375), (2280, 0.04404189432766602), (1267, 0.043769603866812605), (4209, 0.04366707913962782), (1253, 0.043272848352375944), (2640, 0.042960845780861144), (4360, 0.042757293472633004), (1757, 0.04259568534483597), (3010, 0.042014188833411494), (311, 0.04196599239628007), (2525, 0.04186757616180212), (994, 0.04175689341008146), (31, 0.041654458577147564), (3728, 0.041536881695568593), (323, 0.04139249812013661), (3389, 0.04132135068076303), (334, 0.04127910835982319), (3121, 0.04124826278780738), (341, 0.04123531022464134), (3970, 0.04119415706276877), (2375, 0.041145041774028106), (3683, 0.04112212736510388), (2822, 0.0410318909621265), (4047, 0.040814221734066916), (1599, 0.040592087896038), (4662, 0.040562155405059766), (2559, 0.0405152349903754), (958, 0.04042983499947636), (711, 0.04023056750108314), (1927, 0.0402260979038732), (1295, 0.04020836012178963), (997, 0.040160856000319704), (3942, 0.040081060749704855), (3630, 0.0398642689967688), (2259, 0.03981215933537029), (3816, 0.039782775055754886), (2586, 0.03955123243622584), (3504, 0.039356485244619245), (3744, 0.039298944998449784), (405, 0.03917443764108496), (979, 0.03916474357344743), (2183, 0.03896472482403932), (3901, 0.038943248273012515), (3256, 0.038843761796362106), (530, 0.038771057859398744), (999, 0.03876186407912365), (2532, 0.038755253604396384), (1830, 0.03875173439552759), (909, 0.038746268606369094), (1342, 0.038641283424783464), (2359, 0.03862298287304432), (1875, 0.03859330385071653), (4545, 0.03856319505398048), (681, 0.03855188054718678), (2576, 0.03852291944368359), (1772, 0.03843417783596587), (4190, 0.03843291743852932), (3812, 0.03840192953759079), (2164, 0.038302986821675405), (837, 0.03818520185805348), (4101, 0.03805464537311024), (2719, 0.03805104613114185), (2032, 0.03804440916678166), (4709, 0.038013759960446356), (3561, 0.0379116720992061), (2681, 0.03778623610333879), (373, 0.03778429430035747), (3161, 0.03769069407677636), (244, 0.03761578494163637), (2804, 0.037463787369948355), (4440, 0.03717039958825663), (946, 0.037147180872069925), (2896, 0.03710791238971175), (4179, 0.03695167665421181), (2355, 0.036925253479900194), (778, 0.036838970370350506), (4334, 0.03683118221080515), (362, 0.03679064621393149), (3286, 0.036630781434839006), (861, 0.036623998865577), (566, 0.03655320725191529), (702, 0.03652177107755269), (1755, 0.03647985615732222), (218, 0.036398151055836485), (3562, 0.0363416489130606), (3716, 0.03628719963580556), (4082, 0.03625605805838989), (4471, 0.036109768904273726), (2563, 0.03603411702605772), (2919, 0.03601859581599794), (1368, 0.03601657698029313), (3607, 0.03595261175991763), (3790, 0.0359022576793926), (656, 0.03577443742848549), (4037, 0.035741839694846754), (1883, 0.03566783488032665), (4186, 0.03558300437753469), (2325, 0.035555776293815955), (7, 0.03554213674234311), (2856, 0.03547937046549555), (4538, 0.035436458025675), (1309, 0.035390674521197533), (2332, 0.03537642559516501), (27, 0.035372227051687855), (1483, 0.035359114308996555), (931, 0.03529633410564415), (3616, 0.035204594285057136), (139, 0.035193180283694205), (2179, 0.03518352153440962), (4319, 0.03506766278672694), (4210, 0.03503646992940291), (3569, 0.035008842414252325), (2265, 0.03499569288787292), (1336, 0.03498836965310236), (4532, 0.034928472654017606), (3054, 0.03492471365452528), (1844, 0.03489048360678971), (3332, 0.03466003772682867), (1487, 0.034645743259837644), (1067, 0.03462256824310786), (4380, 0.034528430238221094), (2968, 0.034505922838156004), (79, 0.03444277490619018), (3789, 0.034325629856416136), (2019, 0.034305414146279314), (1338, 0.034292487714232114), (3236, 0.03427372550675299), (400, 0.03423328523525878), (1529, 0.03414479474746168), (2330, 0.03414145251492757), (1638, 0.034117050555244784), (4050, 0.03404585034438567), (3731, 0.03397512074728888), (1554, 0.03393311901779562), (3081, 0.03392260487663131), (2542, 0.033898774804453954), (3461, 0.033875008674408666), (259, 0.03385691918647617), (3189, 0.03385671080317936), (2440, 0.03382468617975019), (2523, 0.03378298915821355), (1313, 0.03372124689121403), (1217, 0.03371219765630439), (1339, 0.03357473081773159), (3364, 0.03355322341150989), (1868, 0.03352503689177566), (2073, 0.03348758571037167), (1578, 0.03347107970462145), (1164, 0.03341092648744981), (2813, 0.03339334714503303), (1060, 0.033335385231596834), (3215, 0.033318191868896514), (3817, 0.03328530826832907), (512, 0.033239939399704495), (4090, 0.033210745280573425), (2368, 0.03318675491934684), (4675, 0.03318101026290163), (2654, 0.03310720862997339), (4381, 0.03301198141557056), (4694, 0.03286002735351098), (354, 0.03285594468560463), (19, 0.0328541159917355), (261, 0.032853557131945633), (1300, 0.03284508480055284), (1810, 0.032820387335927535), (3183, 0.032690040813532176), (2819, 0.032649094631434894), (4265, 0.03261740066219509), (381, 0.032538948625666884), (976, 0.032484471643262125), (1263, 0.03240223453756142), (4225, 0.03238356574622625), (2637, 0.032354447002030245), (895, 0.032313589421560984), (260, 0.032297917979217994), (2634, 0.03228341404224137), (3366, 0.03218203717121043), (3593, 0.03217691275909385), (2263, 0.03211405070648901), (775, 0.03203730206382914), (1219, 0.03196877371213), (1606, 0.031935091092459345), (409, 0.031801824601228046), (2881, 0.031674062509415256), (4185, 0.03163700420168057), (744, 0.031490705497012966), (326, 0.031430461686989514), (658, 0.031326271791708785), (758, 0.03131372418809136), (4756, 0.03127915945368378), (701, 0.0312185395767868), (391, 0.031126026277988147), (1922, 0.031112223924100006), (4339, 0.031105229135912543), (1544, 0.03109842589783845), (4593, 0.03109805853494713), (1919, 0.03107470940960208), (1890, 0.03103210689417554), (1195, 0.03101619791048591), (4353, 0.030995650403406783), (2569, 0.030994449284568647), (591, 0.030982496869050084), (1091, 0.03088607333469087), (1291, 0.03086639026168342), (344, 0.03074275190545256), (1759, 0.03067551414527079), (4248, 0.030666764851095988), (1009, 0.030635813944644586), (3066, 0.030634589749764917), (619, 0.03057511706881887), (3444, 0.030537658764195157), (3624, 0.030534606161680394), (3775, 0.030492023298539183), (2261, 0.030486971169331557), (4637, 0.030453880146258428), (3051, 0.030451765964525875), (4264, 0.030371644045747097), (3589, 0.030337180952871242), (1136, 0.030289905214231617), (3671, 0.03025201743276599), (3231, 0.030238661469324718), (1097, 0.030225623694022343), (3906, 0.030222190594745613), (4725, 0.03021140284279858), (4362, 0.030177722292460855), (4199, 0.030149722638459445), (4449, 0.030113680130172654), (303, 0.030028228808363533), (2222, 0.030021668467981114), (1575, 0.02994432340444411), (923, 0.029923692201152888), (3086, 0.029893426813057334), (4233, 0.029814245045116133), (4358, 0.029801736047407778), (556, 0.029792414248080525), (349, 0.02979207292208526), (1133, 0.029788440982433776), (2027, 0.029729423367156428), (4690, 0.029646427119765627), (4347, 0.029645562795492766), (2729, 0.02955587337884654), (1569, 0.0295379272760287), (310, 0.02951279287724647), (1664, 0.029494283290617082), (3498, 0.02944742713859315), (523, 0.0293985724783033), (3639, 0.029372622164820925), (939, 0.02930817156245668), (912, 0.02930144432348062), (2781, 0.02928853486864151), (2807, 0.02928650848356241), (3695, 0.029242358834996117), (3142, 0.02919492637094582), (434, 0.02918513532757398), (2619, 0.029183740928623213), (2629, 0.029133786854453995), (14, 0.02908016588134022), (4570, 0.029051815843188184), (3013, 0.028951978229367323), (2275, 0.02890995637973134), (660, 0.02890587951104013), (3928, 0.028860494110534058), (4341, 0.028828804780540167), (963, 0.02880937369806212), (461, 0.02878020142412633), (2489, 0.028751027379867525), (2732, 0.02870792273715592), (47, 0.028661960959746876), (4749, 0.02864996347027933), (1878, 0.028613066682103394), (1729, 0.028569056067459), (3674, 0.02850417013966669), (3430, 0.02848416710585981), (399, 0.02846296342183634), (1298, 0.028434090569868137), (2365, 0.028417393143619796), (2676, 0.028378918848191874), (3101, 0.02835451121677645), (2130, 0.028270005445364187), (3002, 0.02826245062979198), (4346, 0.02819570762007261), (4747, 0.028131678199445072), (1758, 0.028103121261861444), (2913, 0.028068594200575375), (2138, 0.028049838085058208), (4010, 0.028042457630583672), (1840, 0.028041885305075426), (1326, 0.02795930942122838), (331, 0.027957425148089014), (2484, 0.02794839165997307), (3246, 0.027863817022240167), (1696, 0.02766488141159151), (2190, 0.027663283317880996), (534, 0.027621653318895246), (6, 0.027612438309583917), (241, 0.02760427152981685), (1771, 0.027600436429238387), (1538, 0.02756404879042903), (1114, 0.02755990433609874), (4647, 0.027541736688885862), (322, 0.02753913791163534), (571, 0.027475536508085183), (1999, 0.027452880183521464), (3065, 0.02742801910701141), (700, 0.027329302017777245), (3937, 0.02731050950332948), (1290, 0.02721354813695097), (2521, 0.027213455283930044), (1096, 0.027207731991467008), (1076, 0.027194954661556237), (3255, 0.027194804702693344), (1776, 0.027168546833599126), (2410, 0.027149929978710904), (321, 0.02714466103751775), (522, 0.0271356959708145), (4392, 0.027025002384169702), (365, 0.02698842324623305), (1149, 0.026794540862231035), (926, 0.02669051892724543), (4488, 0.026630926114397872), (3628, 0.026576353145578508), (404, 0.02656360417945582), (2615, 0.026560461638077792), (363, 0.026556673038340396), (3181, 0.026483105635151626), (2158, 0.026418978103729424), (176, 0.026371662064512937), (865, 0.02635259674570156), (118, 0.026333762347816002), (706, 0.026322231625340586), (3746, 0.026317796505223673), (1762, 0.02631472526789576), (4086, 0.02629872161739695), (1246, 0.026254764854188123), (1640, 0.026249023451099012), (2686, 0.026241333688927584), (1711, 0.026212508812100837), (96, 0.02617140842997659), (4650, 0.026112758308144537), (4492, 0.02610722262030935), (4351, 0.026062650766291485), (4173, 0.026002519205810763), (2435, 0.025972084263221923), (4144, 0.025947110171596725), (4728, 0.025943983305543546), (1333, 0.025916693321124937), (392, 0.025815771128349343), (3512, 0.025802322375455572), (361, 0.025798222560777555), (2499, 0.02576625204973782), (2516, 0.025750738028953106), (3861, 0.025736557939769915), (1518, 0.02571745609388904), (178, 0.02571397093418047), (2, 0.025674348070049337), (4006, 0.025649698693341764), (1235, 0.025544141024434155), (3656, 0.025502640519079654), (3299, 0.02550263073068931), (2010, 0.025500858373831186), (1797, 0.025480557081662934), (396, 0.02541966285914401), (3047, 0.025396053604146616), (4555, 0.02536031975576375), (2927, 0.025330289338196317), (2766, 0.025328072823158125), (42, 0.025314441560498276), (4645, 0.02529328113292538), (4487, 0.0252852721018961), (4164, 0.02527163534049027), (4587, 0.02521097769980179), (4205, 0.025199167477922862), (4109, 0.025194254186845698), (4483, 0.025189391893269193), (1165, 0.0251744791014423), (4455, 0.02515437839321459), (4594, 0.025145276738253206), (3287, 0.025124292713381863), (608, 0.025084119938304474), (91, 0.025062729304087473), (1751, 0.025039435762597446), (435, 0.025014960142609226), (2562, 0.024952248716569453), (245, 0.024928730908077925), (299, 0.024905520721094122), (1085, 0.02477599581112549), (1166, 0.024773385058127255), (1495, 0.02472557878175034), (453, 0.024692052809779937), (1925, 0.024685064827720392), (1850, 0.024661840016970013), (2041, 0.024647284985688838), (877, 0.024647015188165092), (1444, 0.024626558936081688), (4023, 0.024603279053657185), (4331, 0.02459076936522664), (955, 0.024564251243306436), (4683, 0.02452615337898989), (1278, 0.024523578479679207), (614, 0.024493874532976693), (4633, 0.02448398122474611), (2153, 0.024436013737939615), (115, 0.024416546987060007), (3733, 0.02440638725178093), (3515, 0.024403110218760668), (4623, 0.024355567232228363), (4268, 0.02434511119566504), (4195, 0.02428840866856982), (4519, 0.02427084967778175), (3805, 0.0242324977460029), (964, 0.0242301285789102), (4457, 0.024213597347261015), (296, 0.024201594631612137), (1531, 0.02419725266727158), (1523, 0.024185972620942298), (1284, 0.024091536557306743), (1837, 0.02406464390546683), (1937, 0.024010150043579176), (3375, 0.023991836765039423), (697, 0.023978579232760817), (1321, 0.023977201487666532), (1158, 0.023851050346575375), (4743, 0.02385033953285167), (3998, 0.023842922379587333), (981, 0.02381430527941866), (4252, 0.02381140719962084), (3405, 0.023769890035089447), (3490, 0.023766204568361683), (3473, 0.023741386339742925), (2504, 0.023728503319051374), (4112, 0.023722177394487183), (3595, 0.02367862716999599), (732, 0.02361387364088737), (1011, 0.02360643192265631), (662, 0.02356354301439863), (2150, 0.023534771658815058), (4259, 0.023455057110542136), (1055, 0.0234346594393108), (1403, 0.02340113056180232), (2577, 0.02339126771194457), (3505, 0.023359849765467434), (4303, 0.02333750595103973), (1474, 0.023310980326275176), (2372, 0.023243152401433056), (3096, 0.023239686155682608), (3516, 0.02321759108998606), (4034, 0.02318990638226978), (1700, 0.023161693804526224), (2218, 0.023161256922019653), (3219, 0.023151614775818848), (1371, 0.023142458465082793), (687, 0.02311404607875322), (1327, 0.02311052337863959), (4656, 0.02302025836565253), (185, 0.022976222214582252), (2874, 0.022969432112344503), (420, 0.022955709597563587), (932, 0.02294245963083692), (1921, 0.02293666231879449), (4364, 0.022922925323643314), (3077, 0.02288569253206118), (508, 0.022876994575582735), (469, 0.022868723421483002), (2717, 0.02286788986142657), (3534, 0.02284972292008331), (2111, 0.02281981466572282), (4196, 0.02276005889537419), (678, 0.022712038290315463), (3897, 0.02263429662239715), (2450, 0.022592582592674174), (794, 0.022589556040196086), (3098, 0.02256491171167753), (1600, 0.022555194147998198), (4045, 0.022553474314293664), (3252, 0.022545655471475464), (1502, 0.022543930043445185), (4033, 0.02252165345796644), (2348, 0.022491838201848066), (2451, 0.022449872990368887), (160, 0.022405100071148494), (2462, 0.022396353574251876), (1411, 0.02239060405882817), (886, 0.022386485542663138), (2666, 0.02234119621059911), (3822, 0.022339700440880645), (1013, 0.02231194299518863), (920, 0.022310712116583867), (2687, 0.02229258368197598), (3457, 0.022284384361490744), (482, 0.02228256454000151), (1488, 0.022281481096505754), (2704, 0.022280540574906506), (2207, 0.022249787851353283), (1467, 0.022245595400365817), (1714, 0.02221982794567885), (1130, 0.022203102953355952), (1536, 0.02219947391967054), (2570, 0.022156631736753377), (2715, 0.02215184048038127), (2296, 0.022094215581986293), (2469, 0.022088462051910375), (2527, 0.02207369814208417), (3208, 0.0219731495000585), (1613, 0.021963984661792366), (1860, 0.0219547361197461), (1157, 0.021909528154868203), (1193, 0.021830877391888225), (3871, 0.021816782773295816), (3397, 0.02181063349424547), (3493, 0.021805579619045477), (1841, 0.02174044161365361), (2240, 0.021718110943091493), (1845, 0.021703351233166027), (4194, 0.021698302850640717), (1557, 0.02169800857874738), (4559, 0.021697390434461946), (1528, 0.021688648784654818), (1025, 0.021657329938323523), (3847, 0.021649099548268456), (3485, 0.021596141353637775), (2059, 0.02158412330451137), (3912, 0.02157311309991479), (712, 0.021471696265736064), (3111, 0.02145539411195855), (1361, 0.02144957859848927), (1204, 0.021424316644575028), (560, 0.02141270172405899), (2985, 0.02140732149558466), (4146, 0.02140249377414096), (4066, 0.02134283635697383), (2030, 0.021331662891138223), (2311, 0.021314662637433892), (1704, 0.021307470873620366), (2708, 0.021306154693184698), (2433, 0.02128250249660856), (3330, 0.021275436858701327), (3272, 0.021274278896126368), (969, 0.021264417829556414), (2996, 0.02119363834072612), (2685, 0.021143211014603015), (2539, 0.021097452350676837), (2414, 0.021070260464841596), (769, 0.021068670452966346), (3482, 0.021030715478292623), (1521, 0.020989822047557245), (824, 0.02098513538912173), (188, 0.02097820416102001), (2583, 0.020959973978644807), (3541, 0.020956750617475987), (3429, 0.020954729155898546), (1010, 0.02093211185059996), (4562, 0.020903687689837615), (2472, 0.020899637169208993), (496, 0.020868915989316582), (410, 0.020866952151397004), (198, 0.0207776827339105), (1539, 0.020773148644429376), (423, 0.020746460106799182), (1786, 0.020704507653853697), (2408, 0.02069833604520509), (4550, 0.0206957339737742), (4588, 0.020674966724304144), (3856, 0.020665626381717705), (3229, 0.0206634357022814), (1155, 0.02063530420815885), (993, 0.02062893142336973), (2036, 0.02062638694235363), (3476, 0.02061460365955882), (4754, 0.020582299922079727), (1126, 0.020572234456937087), (2104, 0.02056722492056673), (2300, 0.020563571689308727), (1864, 0.020533050126677888), (4169, 0.020514168199340002), (4242, 0.02049287054339484), (2461, 0.020473802483739294), (3481, 0.0204539099733133), (389, 0.02038733465461691), (2140, 0.020384873871045824), (1607, 0.0203557818215113), (266, 0.02035317583116853), (2592, 0.020318323554441638), (1781, 0.020317581527682645), (3884, 0.020283086712150233), (4378, 0.020232837813994965), (3137, 0.020190454188269334), (2095, 0.020187293810939803), (1815, 0.02018034245153763), (282, 0.020174352287743547), (3320, 0.02013561925784231), (3149, 0.020095309041734993), (633, 0.020061858939007474), (4140, 0.020053161611520876), (1780, 0.020038149878295164), (548, 0.020019097006152422), (4258, 0.01999724899951491), (3243, 0.019994577230023625), (3368, 0.019993369761337112), (4171, 0.019984744813436303), (500, 0.0199675769190273), (1804, 0.019956380919461936), (1981, 0.01994140461415679), (3965, 0.019896906011065564), (4206, 0.019789445619559014), (3323, 0.01978818830997995), (3991, 0.019712457721879767), (3913, 0.019708581194482336), (1307, 0.01967075340911613), (1537, 0.019649647816548477), (4356, 0.019638110099711295), (2007, 0.019568556466079856), (2938, 0.0195681983125265), (4270, 0.01950027245894999), (2711, 0.0194854973193811), (4022, 0.019410642131291532), (1389, 0.019326621380985544), (335, 0.019324222694446974), (4009, 0.019313810660633396), (589, 0.01930791280941382), (345, 0.019282997850773857), (4342, 0.01926173225569483), (3563, 0.019245364969412142), (1979, 0.01923311874532274), (3843, 0.019227017016136615), (154, 0.019222165693361846), (664, 0.019217408730837982), (307, 0.019208559992972742), (3938, 0.019208181373819355), (4480, 0.01920466033702844), (2739, 0.019131280270715045), (2958, 0.019078104942206357), (2135, 0.019061646677994197), (2229, 0.019051452944664968), (46, 0.019033506302082843), (2954, 0.0190227800566087), (498, 0.018967771706558133), (3771, 0.01888221640699547), (669, 0.01884236119952272), (2227, 0.018828216960404685), (928, 0.01882381663629991), (1227, 0.018806061133568364), (421, 0.018795786459579515), (497, 0.018790945334737352), (2479, 0.01878993431985552), (1016, 0.018775710736999896), (3138, 0.01876559748163647), (97, 0.018734448129133507), (1800, 0.018704055816743084), (4113, 0.01868959628575552), (470, 0.01868437070125506), (485, 0.01868218433462599), (2836, 0.01867881574986943), (3574, 0.01866545159064891), (12, 0.01861647068343629), (302, 0.01861249215876089), (2522, 0.018579709605123836), (892, 0.018572738235068803), (2833, 0.018570184179886658), (2327, 0.018549916813614013), (1994, 0.018536820012727464), (1684, 0.018496720863200356), (3483, 0.018457942873291805), (642, 0.01843975026937106), (1080, 0.018435252599315992), (940, 0.018407357925974324), (2650, 0.018406033602995937), (745, 0.018395413304514437), (1359, 0.01831038947420427), (3467, 0.01826879203098231), (1192, 0.018265106198514652), (4558, 0.018254157214461726), (346, 0.018237067726132573), (1178, 0.018212052879721788), (1194, 0.018202296073458083), (225, 0.018194104049421685), (3238, 0.018172105041536667), (957, 0.018167402260911), (3701, 0.018161798729831435), (2465, 0.018143364693967167), (3582, 0.01813522038189216), (1936, 0.018106113634756556), (808, 0.018053322514028025), (3275, 0.018028371429161496), (1540, 0.018018710583996716), (609, 0.017978206844932343), (2262, 0.017924496814748742), (2644, 0.017912493170936208), (2322, 0.01787799853627762), (3840, 0.017871197314820727), (2352, 0.017864048708689132), (3394, 0.0178591324812475), (4395, 0.017854940956934746), (240, 0.017825490766958704), (177, 0.01781921199749914), (376, 0.017788833207485612), (880, 0.017779189239429612), (4323, 0.01772394654486305), (2374, 0.017667790585863014), (2852, 0.017666678407690425), (726, 0.017656286176604686), (1985, 0.017615640142873118), (4667, 0.017604672193825957), (3870, 0.01759135668371687), (4628, 0.017587954682617552), (1312, 0.017581366615813505), (2447, 0.017563724558809966), (797, 0.01756108541335775), (104, 0.017543147550591998), (4517, 0.01753854099540606), (58, 0.01752668867768476), (2877, 0.017490655173949626), (1865, 0.017470961628135627), (3043, 0.017461419539340564), (2196, 0.017443992544459077), (2838, 0.017431094990322745), (3517, 0.01742252346765765), (683, 0.01741338254646778), (89, 0.017391668959868226), (942, 0.017355322496669576), (4074, 0.017331088595248068), (936, 0.0173279890913062), (1014, 0.01732389878391217), (3634, 0.017314313865880004), (4143, 0.01731111903369902), (1239, 0.017274727509191592), (2508, 0.017244611637691417), (3365, 0.01723788285286795), (298, 0.0172314141016823), (718, 0.017222504200863933), (458, 0.017210997933176302), (356, 0.017205860005715074), (717, 0.01720211063089102), (2200, 0.017195204003507613), (1563, 0.01718731177086813), (467, 0.017184780085924386), (1412, 0.017169071196493486), (1977, 0.01714663075764738), (2612, 0.017109530633176058), (203, 0.017067676086517086), (1473, 0.017043524888921798), (1933, 0.01699307444603873), (2668, 0.01697270485307082), (587, 0.016963834052277096), (875, 0.01692936114305421), (1682, 0.01692733965536521), (1854, 0.016914269288443473), (3753, 0.016907429153882682), (3678, 0.016829947483965393), (4116, 0.01681645528452094), (2421, 0.016807011973171884), (2156, 0.016762847052785704), (2430, 0.016736017684625897), (4372, 0.016669379625636555), (1784, 0.016665690064015297), (355, 0.016632949585225012), (1228, 0.01655234410118868), (1592, 0.01652630242059301), (2670, 0.016510258544948735), (3279, 0.01650216471376888), (851, 0.016491525375252884), (1259, 0.016486957429447606), (3850, 0.016484155887661615), (2976, 0.016441013709130377), (2096, 0.01644075427006561), (3997, 0.016421051335570962), (4289, 0.01641723546490992), (3710, 0.016398262409089304), (3352, 0.016386663905313126), (4599, 0.0163771076647293), (3979, 0.016376491099238423), (2234, 0.016248144311613054), (2114, 0.016213160722582713), (1430, 0.016209992897820547), (1808, 0.016177245673395887), (429, 0.01616552801549388), (2088, 0.01616058661809889), (4627, 0.016153217995822367), (3308, 0.016147705810455912), (1106, 0.016097796836601074), (691, 0.01608036030596944), (3201, 0.01607828526953437), (386, 0.01606147683232818), (3916, 0.016040925073719237), (3370, 0.016011717652552694), (216, 0.015991372731276054), (2646, 0.015986475942336733), (4379, 0.015981483412824207), (1648, 0.015942540478554118), (980, 0.01594185382808915), (1747, 0.015936767689086324), (1629, 0.015922128352814216), (806, 0.015917948897877125), (37, 0.01591439335743241), (3045, 0.015903627439058373), (4470, 0.01590273139969314), (2100, 0.015861859080087047), (2237, 0.015828247352727264), (148, 0.01581990622255221), (4098, 0.015811028547961622), (607, 0.01577985828494856), (1605, 0.015749501935767), (2760, 0.01571793076267084), (2012, 0.015685831737201117), (2517, 0.01568103478677435), (83, 0.015630703749808867), (237, 0.015623818472780096), (803, 0.0155812085888073), (1451, 0.015494496140449898), (269, 0.015478007414361544), (347, 0.015476954706141244), (315, 0.015472165907784635), (2663, 0.015466274209119162), (3447, 0.015458644332599334), (1437, 0.015455516250840382), (1341, 0.015450652830079934), (3585, 0.015418970122517996), (0, 0.015406753184421248), (1743, 0.015353942166513769), (4060, 0.01532473470231834), (549, 0.015304642647526939), (3619, 0.015295035188722621), (4744, 0.015260698031913914), (2730, 0.015259500314833422), (4432, 0.015258719364205068), (413, 0.015245692253797169), (1910, 0.01523868343650113), (2210, 0.0152030429380673), (3093, 0.015180092389617624), (351, 0.015179414978753122), (3647, 0.015175946827930529), (989, 0.015171378136557471), (3297, 0.015170693057887487), (3602, 0.01516652586869255), (4463, 0.015139850810411396), (524, 0.015132605380297075), (4147, 0.015122404780072884), (2331, 0.015058657805273833), (1617, 0.015058563299188385), (3796, 0.015043553267069566), (557, 0.015031010371523797), (684, 0.015026708376865773), (982, 0.01500412130389655), (4405, 0.014991676907113375), (3459, 0.014988843021178797), (956, 0.014943848062438817), (336, 0.014941537839337053), (752, 0.01494062061475614), (4097, 0.014936769249381152), (1481, 0.014929020526458277), (541, 0.014919595996428172), (4226, 0.014911343734139897), (1691, 0.014874931717504156), (3660, 0.014874598920602762), (2885, 0.01486171572436503), (2918, 0.014860523678284335), (3156, 0.014856335761847606), (2258, 0.014790294064561376), (1356, 0.01475516217288342), (3449, 0.014738889622640377), (802, 0.01469086378954427), (2121, 0.014684577087082202), (1390, 0.014674347561740866), (3557, 0.01466320880630228), (4451, 0.014653344075963106), (3700, 0.0146512484690092), (2588, 0.014609664109067317), (3293, 0.014599431280698147), (2940, 0.01457854964097554), (4676, 0.014573436755389756), (108, 0.01456972068964316), (2595, 0.014562553253381723), (3204, 0.014560156225354205), (1397, 0.01455116185867837), (276, 0.014543801101324007), (4018, 0.014523636802636098), (1572, 0.014513138206442655), (4674, 0.01448773216113954), (3407, 0.014480658213629182), (2147, 0.014477531688600182), (3057, 0.01446997462723382), (3894, 0.014466959365179936), (1323, 0.014457370431191998), (2208, 0.014456314980484199), (1234, 0.01444340937496259), (205, 0.01444287437170984), (1665, 0.014442305911597153), (2205, 0.014438214000630488), (2281, 0.014430238527022913), (3788, 0.014418437130690383), (2335, 0.014403473181243485), (3754, 0.014403081921893345), (3259, 0.014384568412807573), (2385, 0.01436592406277778), (3984, 0.014344399009904371), (1241, 0.014331352139203574), (3342, 0.014323138449598108), (1183, 0.014317219371880715), (1456, 0.014317052379616075), (1135, 0.014313677058561436), (1821, 0.014312948453544194), (665, 0.01430919322409454), (2119, 0.014308970605773755), (1816, 0.014260612041093287), (1965, 0.014246817892596852), (3514, 0.014239277640359151), (3351, 0.014235403029311287), (3313, 0.014232807740048151), (1507, 0.014222257917076936), (4613, 0.014213222057959904), (1047, 0.014210892121969045), (586, 0.014208009737801352), (1814, 0.01420235772423522), (604, 0.014185981660191993), (4117, 0.01417717787018536), (2199, 0.014158652694723814), (4008, 0.014155324344194833), (2110, 0.014152384685348343), (3892, 0.014139570970557534), (2511, 0.01413782221598589), (4502, 0.014087834701785328), (1382, 0.014078580171775382), (789, 0.014068686331862876), (1392, 0.014065535341191236), (2648, 0.01406437806680547), (1395, 0.014032660506384161), (839, 0.014031783730404725), (1680, 0.014008681337908946), (4250, 0.013991979943951918), (3078, 0.01397681441896178), (3247, 0.013950449619393486), (1108, 0.013917002691676485), (3603, 0.013899910331558091), (4598, 0.01389841319614964), (3283, 0.01389293966230597), (2000, 0.013892226356145577), (2397, 0.01387189244549076), (3792, 0.013870799868952007), (28, 0.013848396562646054), (3091, 0.013807018178982826), (3556, 0.013791725325076675), (2656, 0.013733090948401527), (2423, 0.0137075686796468), (2534, 0.01370275913260518), (4661, 0.013672706594555483), (3529, 0.013647184729537395), (141, 0.01364143863087116), (200, 0.013629384002008657), (2844, 0.013623842889646763), (2673, 0.013620868063260884), (1345, 0.013609361507133266), (714, 0.013585108309739384), (3570, 0.013554262012354436), (22, 0.01354303215711266), (2512, 0.013541724639458866), (1679, 0.013456660276026735), (1292, 0.013412822287721698), (215, 0.013399895962448805), (3260, 0.013382289273638987), (2297, 0.013369424521280874), (3580, 0.013363287163861686), (674, 0.013309172946841336), (3175, 0.013308396879263449), (1409, 0.013286709527527849), (1408, 0.013284005828896089), (2712, 0.0132696611189299), (2817, 0.013243045365205826), (49, 0.013220721280740465), (3089, 0.013215335412465218), (4054, 0.013169066969332078), (3554, 0.013166728690519127), (1668, 0.013132533485754215), (1401, 0.013114427903128863), (1117, 0.013102945983762765), (1767, 0.01310252830373485), (3886, 0.013099042579632259), (4607, 0.01309675525931066), (4420, 0.013095809971152844), (2756, 0.013093898999207728), (3882, 0.013071054429209732), (1718, 0.013017990439491638), (113, 0.013009224800740498), (1929, 0.01300293582814191), (1881, 0.012990080308191466), (2351, 0.012982857633070815), (1190, 0.012967654687366645), (2601, 0.01295231344842731), (1376, 0.012951551580262451), (3162, 0.012950590972360666), (2220, 0.012950580965331387), (1738, 0.012948430397045156), (3224, 0.012930276734891966), (1471, 0.012927698182615513), (646, 0.012911426369942365), (1615, 0.012880575594079142), (1690, 0.012863372642618241), (3811, 0.012858225803608344), (3331, 0.012857908293059245), (1285, 0.012854182701400589), (3610, 0.012846428470797894), (4711, 0.012837482638966509), (3763, 0.01281872071303142), (377, 0.012796378641856891), (1494, 0.01279450034108546), (2353, 0.012786964662748361), (153, 0.01278378533268958), (3941, 0.012781719276121685), (1777, 0.012759282108378383), (819, 0.012725707668138792), (1564, 0.012719693425629886), (1306, 0.01270846592333421), (659, 0.012705170660701011), (710, 0.012671215377598015), (3113, 0.012667297545652236), (3254, 0.012611945120732136), (3004, 0.01261150606436239), (945, 0.012575560001847279), (2315, 0.012571916262894299), (4454, 0.012548469241037315), (2122, 0.012537842801883048), (3154, 0.012532166744265867), (2038, 0.012498581741626658), (494, 0.012476555097488684), (3858, 0.012472814661573912), (822, 0.012472092971459472), (1974, 0.012464935918475318), (1377, 0.012442654299002619), (4518, 0.012429743193262729), (2223, 0.012367103728310189), (1022, 0.012362740866775357), (1576, 0.01235480257401954), (2873, 0.012353724483574139), (3304, 0.012350480607775329), (4177, 0.012340600138811103), (4737, 0.01233282987469571), (4688, 0.012331811378563802), (3456, 0.01231954424756719), (1719, 0.012309666271899514), (477, 0.012303905994768535), (1549, 0.012250854022212083), (1100, 0.012214000477640574), (2672, 0.012191254933074214), (2810, 0.012190197273700545), (2799, 0.0121738769620624), (3221, 0.012165344760447075), (1171, 0.01216200923106225), (2917, 0.012149398361224901), (3400, 0.012145679922565657), (2381, 0.012126996625160246), (3080, 0.012123722548872147), (1161, 0.01211980161782583), (2553, 0.01210792253106041), (2782, 0.012107762578660523), (3003, 0.012082833529470234), (2360, 0.012054338360197588), (339, 0.012018547635721442), (1766, 0.01200270587479), (2049, 0.011991170210302812), (3, 0.011990685000018715), (3377, 0.011981574007098574), (3581, 0.011956854145960807), (1561, 0.011937527044050593), (2167, 0.011934261708495816), (3232, 0.011925366865750974), (520, 0.011917594801316994), (882, 0.011901532507583633), (2829, 0.011898915154221031), (3234, 0.011889046379525125), (2460, 0.01188672858483033), (527, 0.011837683734418462), (2409, 0.011828649536486074), (1379, 0.01182218470249459), (2962, 0.011818481763587907), (2082, 0.011799851006303933), (2371, 0.011782583407352734), (357, 0.011770121414585846), (1029, 0.011752672412915954), (146, 0.011732564617085398), (4118, 0.011729384658470331), (1520, 0.011676129579341407), (4741, 0.011667797161191176), (4371, 0.011663864884008644), (1731, 0.011661281662661074), (4114, 0.011652508815035751), (1683, 0.011639256296239653), (2260, 0.0116354728430855), (279, 0.011626664883603852), (212, 0.011622784934979516), (1903, 0.011617858411187645), (2086, 0.011584489802770288), (1340, 0.011583338034672262), (4462, 0.011571012982064692), (1778, 0.011568010471016747), (3084, 0.011536138149432083), (532, 0.011532575863968447), (4325, 0.01151954529171776), (787, 0.011514804496351389), (3158, 0.011476109461765124), (707, 0.011472286756528696), (2399, 0.011464208905566558), (781, 0.011454790391498534), (4610, 0.011447270429659812), (3187, 0.011446064654016633), (1955, 0.011425082591686288), (4606, 0.011418166480922592), (2830, 0.011395560715737637), (1142, 0.01139485675188804), (3244, 0.011376997734170714), (3857, 0.011372586976782367), (1938, 0.011372015502966147), (1242, 0.011361512679990065), (128, 0.011359018589282042), (3329, 0.011354023002789), (3001, 0.011346785128416276), (688, 0.011342637412713498), (807, 0.011335793379570093), (2531, 0.011335671000723229), (338, 0.011330970549167919), (1513, 0.011330482310500519), (1911, 0.011295330449550554), (25, 0.011282661636846863), (1216, 0.01126203077196471), (1567, 0.011250245422087761), (1454, 0.011246382510842062), (3604, 0.01124623117755571), (64, 0.011245056319605306), (450, 0.011235311859266567), (3311, 0.011234513706099278), (2456, 0.01122619668793383), (2998, 0.011224098411322157), (1961, 0.011205186441850477), (4122, 0.011201081619989395), (730, 0.011199632522227951), (1697, 0.011195936963743392), (3722, 0.011183236193773219), (4329, 0.011168256568381281), (1726, 0.011161478065821406), (2514, 0.011157945028370059), (1525, 0.011152080894844398), (4013, 0.011147700725150813), (481, 0.011135163899996622), (887, 0.011133382658703377), (3632, 0.011117682502490973), (2290, 0.011099437529486946), (2582, 0.011096368784162515), (3606, 0.011090096369889356), (1959, 0.01107589683356149), (528, 0.01107509489169268), (57, 0.01107305342722131), (1978, 0.011069316429644647), (1425, 0.01106495781527345), (506, 0.011053246105957997), (2441, 0.011045007773960946), (1963, 0.011035466476424869), (401, 0.011023881902535733), (3650, 0.01102113031596789), (3575, 0.011019133009365025), (1652, 0.011016176401129339), (3302, 0.010988949927539108), (1057, 0.010986684385654207), (2554, 0.010972687948363383), (4495, 0.010967286853942337), (312, 0.010952147051628223), (4726, 0.010950332707639494), (2449, 0.01094732781842654), (4038, 0.0109465237342299), (3780, 0.010932587086863068), (605, 0.010928180514441594), (1616, 0.010914179482348022), (545, 0.010910123599272813), (1213, 0.010909805114734529), (2774, 0.01089913559111406), (3411, 0.010896281534343162), (3926, 0.010894363792070587), (493, 0.010871335732962676), (3033, 0.010870722045221288), (2821, 0.010869972915293033), (2046, 0.01086332708587566), (3314, 0.010859395210818891), (3673, 0.010832835388684865), (1196, 0.010805887312971729), (3545, 0.010796033438066118), (3509, 0.010775203123808353), (2358, 0.010773344569610058), (3334, 0.010773019855827133), (1249, 0.01076727816634278), (4757, 0.010752615405492254), (3242, 0.010750043535453143), (1188, 0.010747042622601222), (1271, 0.010742938418714782), (1598, 0.010737060977336895), (1913, 0.010733782856446876), (3350, 0.010730557006732346), (629, 0.010724453607123964), (502, 0.010719261672627685), (4426, 0.010716115900318608), (1212, 0.010714206565482907), (1849, 0.010707774349907306), (86, 0.010680904293893506), (1084, 0.010657930396008156), (459, 0.010655958533025183), (1842, 0.010642201083361126), (4556, 0.010640381935447361), (2750, 0.010639721906072524), (4218, 0.01063934699919554), (2087, 0.0106383602260341), (2616, 0.010634904506592003), (2763, 0.01062235496784066), (2378, 0.010614127226454675), (3579, 0.010601071983742648), (2204, 0.010528127108123234), (1768, 0.010527296070390095), (773, 0.01052206135770141), (1946, 0.010521659790299944), (3446, 0.010515542779150303), (3179, 0.010513918605359909), (2894, 0.010507420352326413), (546, 0.010494478733340511), (3225, 0.010492554064433815), (3022, 0.010492523982798194), (4314, 0.010487898988728296), (3141, 0.010479136155704801), (720, 0.010461081901107111), (4021, 0.010449438840943969), (3571, 0.010431438604037934), (1214, 0.01041401957511444), (2367, 0.010411651426184783), (448, 0.010410275307243862), (1552, 0.010399392114153755), (1839, 0.010387098739894535), (1991, 0.010387083784869806), (1744, 0.010376333706409353), (1367, 0.010371453714367351), (2050, 0.010371395991652096), (2560, 0.010351368811185556), (3117, 0.010339425354834076), (4137, 0.010333144845597097), (3972, 0.010330214759162005), (45, 0.010322959733782782), (3990, 0.010319652369582854), (258, 0.010309023756858734), (53, 0.010306830919038393), (696, 0.010306287015272168), (3646, 0.010284809865828422), (2972, 0.010252530751792138), (2812, 0.010250606928099131), (1663, 0.010246818505082017), (538, 0.010244809096133636), (1783, 0.010234221142226232), (3960, 0.01022486477609638), (319, 0.010176177442215795), (988, 0.010170122836360086), (2099, 0.010166394858167619), (1811, 0.010156820024982426), (2052, 0.010143755342987733), (1442, 0.01013690847435769), (2590, 0.010125307774260475), (2589, 0.0101214860002042), (374, 0.010102224772051025), (156, 0.010089103021874827), (1610, 0.010070441588019412), (2064, 0.01004639237816048), (927, 0.010043533268093709), (1344, 0.010042704184538833), (1477, 0.010032394606007983), (84, 0.010025377724887817), (1079, 0.010002314438849897), (4299, 0.009995583389164876), (4531, 0.009995301866942564), (3923, 0.009994144327220213), (1646, 0.009992866175409381), (4551, 0.009981383941453993), (2178, 0.009959411996734868), (1580, 0.009952241609235994), (2125, 0.00994785675844455), (2159, 0.00994535295948289), (2057, 0.009929837787525984), (676, 0.009926627438244856), (3924, 0.009914338934228403), (4500, 0.009880606675759471), (3802, 0.009875747714948185), (1493, 0.009871476869674345), (2236, 0.009870006756291842), (4447, 0.009868055877857104), (3872, 0.009866695418180343), (70, 0.00986469791160071), (390, 0.00985491506648067), (102, 0.00985349254322066), (3659, 0.009829792290135612), (2037, 0.009828992178362214), (342, 0.009825058343549766), (1310, 0.009816941607798689), (1034, 0.009805590966048388), (731, 0.009794502041918698), (2741, 0.009793425031925231), (1027, 0.009791016472477475), (3105, 0.009777325871561278), (4152, 0.009768988678437887), (2448, 0.0097640297628501), (2591, 0.009758239151538357), (2618, 0.009751751225235084), (1132, 0.009730938470429076), (1255, 0.009728767913563635), (2965, 0.009726455751785799), (2892, 0.009719442355500856), (4076, 0.009716357726604539), (430, 0.00970751259624703), (4740, 0.009706205538353637), (2389, 0.009702161550208584), (383, 0.009693878891195598), (2598, 0.009687363613113656), (741, 0.00968651544071538), (2133, 0.009684760208030342), (1647, 0.009678868971136583), (1054, 0.009668487662084233), (388, 0.009665966750082536), (578, 0.009663669618771424), (3782, 0.009660803564999884), (2725, 0.009645626127233346), (1177, 0.009645319021693872), (3433, 0.009641119399727517), (1394, 0.009636687582641475), (2257, 0.009625797016589726), (1251, 0.009624904915792997), (1579, 0.0096244925991519), (3300, 0.00962222341937355), (2901, 0.009599084687839323), (4159, 0.00959608526680002), (792, 0.009593873250293492), (836, 0.009588804884215669), (2154, 0.009576550823951747), (239, 0.009566543162218395), (810, 0.009566346076101318), (2120, 0.009541184913477945), (129, 0.009524526870511868), (1480, 0.009517092058047795), (1859, 0.009510242215364017), (1482, 0.009507310514945449), (2530, 0.009502505573481595), (891, 0.009500451565597966), (2809, 0.009493370893156683), (4410, 0.009491522381177626), (2129, 0.009487670063960217), (3472, 0.009471904965113144), (1393, 0.009470151319385417), (1943, 0.009467300525797095), (143, 0.009461218690336037), (231, 0.009457666287784506), (2721, 0.009451086904810262), (73, 0.00941670140984942), (1462, 0.00939157089318322), (2791, 0.00939038281464908), (1370, 0.009378557449965226), (624, 0.009365492204702421), (863, 0.009359444441348131), (36, 0.009356932577507701), (4079, 0.009349602769406488), (291, 0.009333077431087583), (1990, 0.00932845882503711), (2053, 0.009311506175179132), (2596, 0.009304165327960892), (1088, 0.009297993896968008), (1277, 0.00928739793533755), (2006, 0.009276018540445971), (2235, 0.009267710409565352), (1334, 0.009258596894215067), (2323, 0.00924006103508493), (2758, 0.009237646430030246), (1431, 0.00923542205836196), (3000, 0.009234379075001896), (563, 0.009232866437795851), (3613, 0.009221704085269952), (1686, 0.009220678972486494), (800, 0.009203292274964256), (2851, 0.009198587432745875), (2155, 0.009176768374055658), (4437, 0.009176217593136313), (2568, 0.009143947359993186), (2603, 0.00913526185494815), (3520, 0.009130269893704855), (2671, 0.009121943746833684), (1222, 0.00911814371788615), (4677, 0.00911588829981663), (3495, 0.009104807885957975), (3620, 0.009104016973676477), (1574, 0.009101475949251507), (3380, 0.009089275497931827), (1876, 0.009070918876639923), (2826, 0.009067266240437678), (172, 0.00904770530203407), (166, 0.009042766990963303), (3367, 0.009033293251336078), (1419, 0.009029853860192305), (1374, 0.009025626406539332), (3212, 0.00901688994113192), (4736, 0.009013610936304907), (4247, 0.008999440291288574), (2975, 0.008995500465697902), (2770, 0.008994471926802722), (480, 0.008984842165430225), (1168, 0.008977937151771745), (3403, 0.008970653040177098), (1678, 0.008967577940917834), (2174, 0.008939880736946942), (4241, 0.008919832247690237), (4385, 0.008911939695265715), (3655, 0.008910865058210166), (653, 0.00890861690577301), (2621, 0.008908226035422212), (4730, 0.008906239578887634), (1852, 0.008894017401486688), (3195, 0.00887565790986084), (2772, 0.008856419504293271), (1026, 0.008850217588772396), (150, 0.008828786453877214), (2632, 0.008807108042623484), (1695, 0.008803749617976014), (3524, 0.008796454432948502), (3412, 0.008796201548878882), (3709, 0.00879070445173424), (2759, 0.008788356266368962), (2698, 0.008787346285442725), (2611, 0.008784280773602954), (2103, 0.008782147025836207), (4534, 0.008771913090256118), (1967, 0.008761802812910988), (4576, 0.008760085935695983), (2364, 0.008745230373928041), (1245, 0.008742541053070266), (790, 0.008741608384476877), (2062, 0.008733088309289058), (1466, 0.008715788512210098), (167, 0.008712987635146913), (1268, 0.008707688092944473), (2152, 0.00870709999041307), (87, 0.00870657313369893), (3200, 0.008699890255052075), (223, 0.008684946818776481), (1676, 0.008684683831029747), (2269, 0.008677272319935812), (3487, 0.00867157455658766), (4658, 0.008670811144391319), (1996, 0.008666041706375405), (1118, 0.008665812455009499), (1632, 0.008647402214941003), (4567, 0.008619924670914384), (4155, 0.008616339111829087), (284, 0.008601338169334762), (2540, 0.008595906424122453), (3239, 0.008574326168098109), (4516, 0.008573244562974655), (4441, 0.008567543261003415), (186, 0.008562653935271761), (4374, 0.008561283957785427), (2132, 0.008554123790827489), (2751, 0.008552789654057067), (962, 0.00855206283968326), (3794, 0.008542520795455786), (698, 0.008533203451647965), (1404, 0.008525457108647239), (763, 0.008514631457882907), (3014, 0.008514288970531463), (1221, 0.008512594271439565), (2555, 0.008501942697879995), (4292, 0.008497616712332469), (1843, 0.008479868712781469), (1723, 0.008466751031108949), (4548, 0.008454549891391896), (2552, 0.008432291905235438), (576, 0.00842808880771495), (3399, 0.00842622503903142), (2682, 0.00841473067961345), (3966, 0.0084115566659015), (3452, 0.008410133083974633), (2710, 0.008406319955642956), (1662, 0.008405962356655113), (1649, 0.0084054709293768), (3338, 0.00840267338150442), (4718, 0.008385077727374674), (3829, 0.008383797113152276), (4160, 0.008382511000034135), (2579, 0.008380347357135198), (2916, 0.008374453586243676), (438, 0.008370594068395491), (2485, 0.008367252701093819), (412, 0.008365128063714339), (4396, 0.00836470998465373), (308, 0.00836040557485047), (3420, 0.008350527082010848), (3120, 0.008350109760580059), (2317, 0.008345102622369016), (3854, 0.008340396158392802), (1920, 0.008339187581559214), (3558, 0.008326557003646071), (4397, 0.008320740843529585), (4515, 0.008319545316764921), (324, 0.008312762109759024), (122, 0.008308223800329155), (3832, 0.00830244512515377), (2845, 0.008301291031242788), (3682, 0.00830127644361249), (2347, 0.008290983568046613), (121, 0.008289320928579636), (829, 0.008285210924026162), (2806, 0.008280000098872583), (43, 0.008278418676949962), (686, 0.00826304430619048), (3284, 0.008260292078796132), (2176, 0.008253393941118086), (715, 0.008250200804466177), (1584, 0.008236649247208096), (465, 0.008234022759982487), (3116, 0.008215718212750628), (352, 0.008197290288512994), (2390, 0.008196070037816335), (1237, 0.008187172235432175), (337, 0.008185913009740305), (1503, 0.008177332165548513), (4338, 0.008166124385614607), (531, 0.008165404452612405), (3705, 0.008161245121378571), (3813, 0.008157577165683074), (977, 0.008155180265584186), (1809, 0.008151002546809514), (202, 0.008149363120129876), (1366, 0.008135630335374885), (1000, 0.008112142152295885), (804, 0.008111982958009419), (3362, 0.00810792567934421), (327, 0.00809065617102253), (2191, 0.008088531805014437), (3704, 0.008079448403623547), (1, 0.008055844944620437), (2580, 0.008054372345192507), (191, 0.008047064378145171), (3112, 0.008039506674000664), (340, 0.0080329697111693), (333, 0.008022320535178226), (2935, 0.008010130208808487), (2316, 0.008008177416728879), (132, 0.007996074466286108), (4478, 0.00799328342690648), (1141, 0.007989872617290355), (705, 0.007984621327767769), (2393, 0.007978692873782573), (4343, 0.007977548454224544), (2283, 0.007967465146242428), (3846, 0.007967286402954679), (2074, 0.007962195501141574), (1116, 0.007920504677804677), (2337, 0.007915514452244825), (647, 0.00791337382432564), (297, 0.007909712146657337), (301, 0.0079086685433539), (317, 0.00789733902624153), (3637, 0.007887371009454086), (1328, 0.007884197107415027), (1670, 0.007869037281793207), (2520, 0.00781850065872548), (762, 0.007817572252973451), (1559, 0.007805674279890731), (2942, 0.007804434289405644), (4136, 0.007788469513119919), (2814, 0.0077815943594885615), (2319, 0.007766862219971231), (1932, 0.007763389519166028), (3536, 0.007757503399872589), (2801, 0.007736816660377512), (4340, 0.0077325553845304035), (251, 0.007730293905618295), (1763, 0.007723475182928417), (1215, 0.007720025353498793), (2893, 0.007712334334558854), (120, 0.007710665230718849), (1201, 0.007702168471611621), (1802, 0.0076818732703634734), (2466, 0.007678203505812902), (737, 0.007670662686875425), (3344, 0.007659589310309236), (2541, 0.00765363815498372), (2622, 0.00765192791005301), (4168, 0.007646441987676515), (403, 0.0076445103332354975), (2035, 0.00764057322045789), (3668, 0.00763396050989992), (1458, 0.007633533706374687), (1958, 0.007631369958268506), (1182, 0.007628004519364789), (1365, 0.007616118030469153), (2304, 0.007598697286046785), (3643, 0.0075953012904026946), (2887, 0.007575595260075728), (75, 0.007575265186042817), (2549, 0.007572328192797113), (3950, 0.007559943841278908), (3335, 0.007554030962214884), (4501, 0.007553537578014115), (1522, 0.0075497911013916955), (1109, 0.007541173733046615), (1042, 0.0075326131420809), (3967, 0.007518088236081344), (4604, 0.0075168330115807), (3192, 0.0075131397233234795), (2662, 0.007495594839639982), (2951, 0.007492399388127916), (2198, 0.007490693456177027), (4330, 0.0074806183744363566), (4427, 0.0074680577304089965), (4015, 0.00743989680968751), (88, 0.007438888289082189), (3807, 0.007437248033766795), (3940, 0.007435992509592424), (1803, 0.007427183128307434), (724, 0.007424893764319798), (555, 0.00741831492170562), (2839, 0.007417095228063175), (4482, 0.007415296567324406), (1604, 0.007412711278609717), (3058, 0.007409468699071089), (490, 0.007403409425564721), (1369, 0.007381871020039251), (1358, 0.007368468043288764), (76, 0.0073591037639979305), (3271, 0.00734833863597794), (4020, 0.00733473587827936), (2980, 0.007332491917613833), (4157, 0.007326534012319696), (440, 0.007306900341855384), (1541, 0.007295248482052014), (2909, 0.007291651867385101), (4094, 0.007288513392060278), (2401, 0.007266109460637456), (2151, 0.007251006028549882), (2908, 0.007247800512681715), (3973, 0.0072408538392469335), (194, 0.007236248230816939), (246, 0.007232554962781479), (3934, 0.007221928982806662), (1951, 0.007215566991000368), (1463, 0.0072084817720020926), (456, 0.0072054323883847865), (2566, 0.007189982201375612), (3826, 0.00718766971138014), (2610, 0.007187295587928621), (179, 0.007186375108771132), (309, 0.007173548395316182), (1893, 0.007173069606183883), (2117, 0.007171509632589432), (4438, 0.007167823951764489), (2022, 0.007152780103334524), (2752, 0.007150857905214837), (3969, 0.00714455653712355), (668, 0.007135362092323379), (3390, 0.007123474951249168), (300, 0.007122831900147256), (1701, 0.007121898276221156), (3151, 0.007121847848039517), (2473, 0.00712033606330033), (713, 0.00711799174274128), (881, 0.007114640419758692), (211, 0.007108614301072149), (3533, 0.007102318119643455), (437, 0.007094122928749017), (168, 0.007088372615290933), (2326, 0.0070820710865351424), (2148, 0.007049065570477419), (3152, 0.007038065271330175), (2106, 0.0070305024499701845), (2726, 0.007022452398395557), (4569, 0.0070182919054461185), (3265, 0.007008603930222591), (1206, 0.006989089878440782), (3016, 0.006981721956958049), (1555, 0.006960026995043954), (1585, 0.006959362160035373), (768, 0.006937900558942491), (3182, 0.006927916986275327), (271, 0.006912057772617991), (2593, 0.00689791907504472), (4149, 0.006875675990004336), (4348, 0.006875512681531013), (457, 0.006861960446836201), (183, 0.006856764793659722), (562, 0.0068423452416912466), (2301, 0.006839052105312723), (2835, 0.006832385363223763), (228, 0.006830654168393919), (199, 0.006817140755060038), (511, 0.006809085905610024), (1297, 0.0068065698013653544), (2055, 0.006776100215582253), (4445, 0.006770730054731873), (2931, 0.00676305810953036), (3983, 0.006756809797381374), (3726, 0.006743686750388511), (1634, 0.0067404891541098045), (3565, 0.006730637757476026), (155, 0.0067301899731396705), (3027, 0.006727756400754815), (597, 0.006720743816053955), (3764, 0.006720243304695223), (1329, 0.006711199058792287), (3841, 0.006704760400556134), (1508, 0.006697584352104526), (1888, 0.006680710450989166), (2973, 0.006670280895842945), (561, 0.006650724612423955), (3360, 0.006641128101078097), (657, 0.006639240611261228), (1423, 0.006635282633253617), (1422, 0.006621699264989462), (3948, 0.006610358347459017), (3785, 0.006607951602522489), (2617, 0.0065916617130550095), (4719, 0.006585892381609338), (3890, 0.006579570453063625), (277, 0.00657193154969355), (4217, 0.006568636387288718), (257, 0.006527618738987487), (3309, 0.006494173055828362), (1002, 0.006479843543453119), (3211, 0.006473252614365902), (242, 0.006473138274985569), (1863, 0.006456981291608786), (2823, 0.00643893429748128), (4012, 0.006418577536513804), (2202, 0.006406991476601716), (455, 0.006399976419199929), (3736, 0.0063868045031553996), (3622, 0.006374640701718589), (725, 0.0063600599660707455), (3319, 0.006358651006929117), (1180, 0.006334693933554335), (3147, 0.006331251500748243), (978, 0.006290476134132667), (416, 0.006232138382088618), (776, 0.006207218825801025), (1935, 0.006173172057132065), (3418, 0.006171882637556249), (583, 0.00616536543592125), (3751, 0.006145075815557439), (1715, 0.006090980859657565), (2587, 0.006035284515975408), (407, 0.005998852328360606), (3980, 0.005997813167856552), (1144, 0.0059607248778946915), (2608, 0.00595664029212946), (3914, 0.0059531159043757), (2747, 0.005892894447138545), (2660, 0.005889279301849488), (2867, 0.0058305879860945905), (2737, 0.005685455081311993), (1581, 0.005653759720569771), (2597, 0.005615166554875609), (4498, 0.005573480021881548), (3144, 0.005566798440253043), (2678, 0.005537979435530914), (3552, 0.005530462489234064), (3475, 0.0055275061005283), (2701, 0.0055034445160187994), (4571, 0.005403372309842407), (2538, 0.0053964082548722085), (3178, 0.005376272561346219), (641, 0.005353871207991625), (2703, 0.005263951427848682), (4223, 0.005212219085955423), (1861, 0.0051550018643653685), (3088, 0.005056521372134078), (2669, 0.00502879400833715), (2657, 0.004980932537945452), (3392, 0.0049677279763081245), (764, 0.004962742914517937), (2529, 0.00493610963453637), (2684, 0.0049243986321036055), (2490, 0.00490109805068302), (2659, 0.004898144393817807), (2312, 0.0048956111801680535), (2764, 0.004844571297310042), (4007, 0.00483515151098919), (2858, 0.004819792905791221), (2891, 0.004816675886875743), (3139, 0.00481437878481089), (996, 0.004798337750256754), (2722, 0.004773631668427427), (2818, 0.0047618400790146), (3009, 0.004761459019883897), (3040, 0.004748773291229109), (2500, 0.004744351111403304), (3166, 0.004716809341850325), (2395, 0.004703690535633957), (4239, 0.004697904251866475), (3949, 0.004674327504902172), (2537, 0.004664736241576873), (735, 0.0046433024560198904), (2667, 0.004633575008796833), (2922, 0.004626802949989545), (2404, 0.004625075223708024), (3042, 0.004607378474193049), (4700, 0.0046042588886642125), (4115, 0.0045881989419177234), (2990, 0.004577583531975698), (2731, 0.004564437565436188), (4222, 0.004560473903215367), (3479, 0.004541199572181096), (4484, 0.004533745408496364), (1939, 0.004512769194792717), (4198, 0.004490027681669007), (3800, 0.0044862770798492916), (2483, 0.004484478074362672), (2832, 0.0044625648922329356), (2536, 0.004441989674963005), (2948, 0.004428242370987726), (4537, 0.004426385451423575), (3439, 0.004410531939979184), (3282, 0.0044098766713354465), (2228, 0.004401050812920603), (2928, 0.004390980285421623), (4166, 0.004390006520581026), (4040, 0.004387891861062665), (3715, 0.00438787604425532), (3217, 0.004381985747315464), (4084, 0.004372487598428266), (2941, 0.004369929370237431), (2282, 0.0043689028371039435), (1208, 0.004335250912171475), (2875, 0.004321867793216069), (4102, 0.004317517708527685), (2455, 0.004316049701502298), (3740, 0.0043034811798635195), (3936, 0.004301722025736779), (2983, 0.0042916089188089574), (2600, 0.004290094012816852), (3087, 0.004290006682259274), (948, 0.004281565227484419), (3988, 0.004280141958346902), (2543, 0.004266756984033334), (3844, 0.004261154097608488), (2308, 0.004255540703609058), (3249, 0.004252969770847945), (2581, 0.004249255426534304), (2939, 0.00423515563741366), (4721, 0.004232163392963591), (4058, 0.004229588140834798), (3592, 0.004227712709066381), (3357, 0.0042267768415147865), (2564, 0.0042244784769191425), (2515, 0.0042216945625107105), (2834, 0.004218686905455727), (3537, 0.004217724118307903), (3577, 0.004202377709620956), (2363, 0.004202238813168223), (3922, 0.004197750662713537), (2857, 0.004197455659875781), (3074, 0.00417196833502256), (2797, 0.004162098215917618), (842, 0.004157884452402945), (2488, 0.00415570819247653), (2077, 0.00414703674302795), (3544, 0.004139203361038702), (4631, 0.004129356586003645), (3020, 0.004128097396553096), (4127, 0.004127585379479143), (4720, 0.004127257964367907), (4514, 0.004113067388535427), (751, 0.0041033481898626436), (3257, 0.004097357769993176), (3203, 0.00409527059886458), (2727, 0.004089934311694158), (3413, 0.004084331598049043), (4408, 0.004082634647219069), (368, 0.00408167872453409), (1941, 0.004069911904906313), (3758, 0.004066972969626562), (2434, 0.004065159840597464), (4506, 0.004059809594472749), (3996, 0.004054404265630581), (1790, 0.00405363656147955), (2333, 0.004047937769298495), (4204, 0.004047265706311213), (3686, 0.004042492143868197), (3017, 0.004040129109117485), (1049, 0.004032137634426973), (2009, 0.0040274346355856526), (2986, 0.004022187763069796), (795, 0.004019107417610052), (4717, 0.004015179435581955), (2769, 0.004013630330007475), (2738, 0.004012874131867066), (431, 0.004010219109812919), (582, 0.004005991544304031), (904, 0.004002827421501961), (3621, 0.004001322066481154), (3324, 0.003996302327245365), (1792, 0.0039961053002173135), (1187, 0.0039951887963828835), (4285, 0.0039904792567245885), (2720, 0.003985391941660845), (2635, 0.0039843753330555745), (1169, 0.003979740147680196), (2846, 0.0039788635108428914), (3931, 0.00397783440778911), (2468, 0.003973095214202612), (3172, 0.003959478066834604), (2320, 0.003953085418255896), (2696, 0.003952875783928771), (1947, 0.00394745421948385), (2924, 0.00394362709978322), (4203, 0.003941604113901609), (3190, 0.003940287515098158), (905, 0.003933574356434718), (3408, 0.00393234884864856), (2884, 0.003925405987614986), (3337, 0.0039235784602515604), (3866, 0.0039196561099144305), (2403, 0.003919193706371081), (679, 0.003918925603299477), (3921, 0.003918331111950519), (2872, 0.00391422567729357), (925, 0.003909932811267276), (4507, 0.0039057836101052666), (2478, 0.0039036014109352585), (2187, 0.0039026495571237085), (760, 0.003900914277449743), (3952, 0.0038995677868604466), (847, 0.003899391908385983), (1656, 0.0038985692604167114), (2510, 0.003897985705185477), (3851, 0.0038933065770172465), (3759, 0.0038931718708166926), (4496, 0.0038921578346456914), (2796, 0.0038914819157922767), (985, 0.003889848138663028), (2305, 0.0038891329149639284), (2702, 0.003886458402634271), (38, 0.0038860450039175866), (2486, 0.0038823996347424447), (4295, 0.0038823990669617312), (1424, 0.003882196370518643), (2079, 0.0038818033377309574), (3791, 0.00388008248172427), (4335, 0.003873199640780088), (2982, 0.003869822555561572), (3772, 0.0038696870629767893), (4121, 0.0038675461880956483), (3253, 0.0038669142987268995), (2302, 0.003862298851786219), (2357, 0.0038603614330739995), (3649, 0.0038576095658043688), (4746, 0.0038568340084787363), (4317, 0.0038559512695503944), (998, 0.003854844870625642), (4460, 0.0038544943995608093), (2186, 0.003854299582651714), (2411, 0.0038504420986361773), (3383, 0.003850351500689791), (3039, 0.0038479114629917516), (4452, 0.0038461598724612157), (2914, 0.0038456682903699854), (1928, 0.0038443237334378627), (3820, 0.0038442672318264506), (3992, 0.0038437763129737755), (2518, 0.003838762988412844), (1560, 0.003831878124048626), (3168, 0.0038290060431057935), (3373, 0.0038272628515580633), (1489, 0.003820950385632583), (3962, 0.0038190389249919774), (4105, 0.003816915452871529), (1311, 0.0038147935678630577), (40, 0.003814449251023108), (2420, 0.0038089125004392506), (1594, 0.0038072092689620542), (3146, 0.0038035560565750997), (2436, 0.0038005556056687237), (3964, 0.003797718738615767), (4453, 0.003796725284970895), (4580, 0.003794541654361911), (4293, 0.0037944731225678556), (4051, 0.003793692598551845), (1260, 0.0037931630722957224), (2384, 0.003787193073366378), (2209, 0.0037856844580825082), (4706, 0.0037778502818951397), (1923, 0.0037765066807127164), (2843, 0.003776066973348175), (1836, 0.0037755311294418773), (3808, 0.003775492945885282), (3681, 0.0037748736552534745), (2108, 0.003774226419180961), (4064, 0.003772236760776654), (3062, 0.0037699326022155024), (4324, 0.003769664272881685), (2535, 0.0037688675443387012), (3688, 0.0037678357376493984), (3371, 0.0037668493865926837), (3572, 0.003764754936180913), (1658, 0.003764742561875511), (385, 0.0037643062235942974), (3652, 0.0037572928570841313), (3026, 0.003756926818439905), (4003, 0.0037562722172864976), (2493, 0.0037529232335557863), (3097, 0.0037495805888545924), (4263, 0.0037452743512894795), (1486, 0.0037448576394678), (3519, 0.0037437569584515), (2930, 0.0037387115159654935), (1089, 0.003738546713842758), (3207, 0.0037367971436040033), (990, 0.003735443578649205), (841, 0.0037337911747973265), (3837, 0.003732560815467847), (2626, 0.0037319914381819183), (2452, 0.003730523742720661), (4446, 0.0037302247709920084), (1479, 0.003729556908135907), (2464, 0.0037293719808716274), (4308, 0.0037290611544777653), (1733, 0.0037284411393567695), (3424, 0.003725605099488457), (1583, 0.003725413270897318), (2811, 0.003723794198816508), (2101, 0.003721146282926349), (253, 0.003717771589011113), (2575, 0.0037166240031260905), (318, 0.0037161083545312773), (4061, 0.003714279748800505), (1806, 0.0037123634755604814), (1243, 0.0037089381336253917), (1905, 0.003707261064353891), (3044, 0.0037066295951935497), (4522, 0.0037057110454769763), (2458, 0.0037056996229044184), (1491, 0.003705656346553339), (350, 0.0037019213275492867), (2748, 0.00369769021460539), (3258, 0.0036976130041004485), (2978, 0.003697455603965543), (2882, 0.003695126108355509), (2979, 0.0036943707054128304), (4332, 0.0036891460491799612), (3889, 0.0036878277736845945), (4413, 0.0036870569915431195), (2021, 0.00368075210107736), (4734, 0.0036748237813310656), (2116, 0.0036700330820518892), (2494, 0.0036661466832092287), (3510, 0.0036658782792008647), (1441, 0.0036657310855155293), (2880, 0.0036649302348578127), (1103, 0.0036642451551183873), (771, 0.0036634629754701917), (1848, 0.003660538434637858), (1907, 0.0036602304003978637), (4132, 0.0036601898395089726), (3584, 0.0036519426728978768), (2661, 0.0036503775907538744), (3496, 0.0036500441729233665), (1637, 0.003647517560395603), (2124, 0.003644215415082856), (754, 0.0036430537634797953), (2786, 0.0036414881544022354), (873, 0.0036413288977930787), (872, 0.0036403636063709614), (4111, 0.0036402336803460712), (4131, 0.003638901304592239), (1614, 0.003637723674401074), (1282, 0.003635336816523599), (1732, 0.0036343563341035535), (2391, 0.003631849126987931), (4370, 0.0036317023143366193), (1609, 0.00362870259552873), (1737, 0.0036272630108646264), (3601, 0.0036265120667580497), (3218, 0.0036252123730039147), (4357, 0.0036247301902838226), (2970, 0.003624498264981824), (3109, 0.0036215339994460443), (4315, 0.0036212093386901525), (1791, 0.0036200893469394194), (536, 0.0036188452707426435), (1205, 0.0036181234280129593), (1856, 0.0036162589065180557), (4560, 0.0036162274449429454), (1926, 0.0036132879043600974), (1596, 0.003612087566061169), (4622, 0.003609503026766296), (4256, 0.003608501205034299), (4557, 0.0036070346157780655), (4489, 0.0036064812184189578), (1099, 0.003605737764614173), (3464, 0.003603861278207391), (4655, 0.0035992920415431873), (3905, 0.003596919726503475), (2755, 0.003595665197414232), (4260, 0.003594057917222572), (4052, 0.003593854757115903), (4180, 0.0035934282352518506), (415, 0.003591652608568827), (4027, 0.0035906704201541565), (1822, 0.003589573788803876), (3037, 0.0035893513215726424), (3041, 0.003589261814959766), (3422, 0.0035866922646410953), (2394, 0.003583051492715032), (3388, 0.0035827350778198015), (3277, 0.0035804802087822827), (1007, 0.0035798145115868134), (667, 0.0035750671883052927), (474, 0.003573007977748437), (2633, 0.003569903624635894), (1299, 0.0035695918146136964), (1689, 0.0035676438373179764), (2754, 0.00356501712885594), (2675, 0.0035646543257547543), (1734, 0.003563023016952778), (3513, 0.0035627267614430813), (2217, 0.0035598458403389138), (2002, 0.003559019714306374), (3415, 0.003558787907594284), (3150, 0.0035577751647244923), (3038, 0.0035571093672856053), (2380, 0.0035568252460249574), (2926, 0.0035562278681639946), (2249, 0.0035561127710673265), (3061, 0.0035552953039000856), (3919, 0.0035546861533012866), (1445, 0.0035528890497673288), (1660, 0.0035528840237471875), (1006, 0.00355258868129499), (204, 0.003552526875915692), (4448, 0.0035511971247005926), (3599, 0.0035504750524503474), (2605, 0.0035496907296609786), (4421, 0.003549656608396314), (1224, 0.003549610204131381), (3591, 0.003548999271032445), (2090, 0.0035489346040310063), (3378, 0.003548338016493661), (2042, 0.0035483241244543), (3382, 0.003548236372999995), (4433, 0.0035477117006379867), (879, 0.0035476220468459857), (2561, 0.0035475983723315526), (3310, 0.0035473762518629442), (3845, 0.003546821696800426), (890, 0.003546433288932621), (1432, 0.0035420688229037393), (1024, 0.003541664563252465), (1851, 0.0035401428954822873), (2546, 0.0035399095464116303), (884, 0.003537836946268653), (2241, 0.003536024588095901), (1727, 0.00353552444093853), (1702, 0.003534279415116772), (4125, 0.0035317691990271734), (793, 0.0035314756638517328), (1364, 0.003530868907373309), (3349, 0.0035278889669903843), (4025, 0.0035277669117543225), (2194, 0.0035267662965895084), (784, 0.0035258101293514626), (1124, 0.0035253939322104355), (1949, 0.003525302907457271), (4552, 0.0035246529458691804), (4486, 0.003524605230807109), (2744, 0.003524190868526669), (1542, 0.0035206420577582323), (3930, 0.003520400780085323), (2794, 0.0035203863917877714), (1469, 0.003520276612125079), (2816, 0.0035184290868517636), (3648, 0.003518364454890866), (1765, 0.0035169485835210117), (3549, 0.003516725819845865), (4648, 0.003516717879116131), (4422, 0.003514003340538518), (3428, 0.0035130772270046354), (4287, 0.0035130755326372074), (3198, 0.003512784697707785), (671, 0.0035112385881164877), (1847, 0.003510838289502294), (708, 0.003508340199076084), (2519, 0.0035075352985820193), (1244, 0.0035074878420708823), (1735, 0.0035067562156449097), (3489, 0.0035051292507498034), (59, 0.0035034442920540043), (1516, 0.003501981281093506), (971, 0.003500098107884678), (2431, 0.003499736458036969), (3290, 0.003499415171887718), (4388, 0.0034968785756783714), (2092, 0.003493163457239726), (814, 0.0034930685992766025), (1917, 0.003490561622714304), (2307, 0.0034879355020671896), (3169, 0.0034859936555494825), (3289, 0.003484859069029423), (3526, 0.0034799746240521227), (4093, 0.0034783896192767455), (3209, 0.003477700512778716), (110, 0.0034753262411476196), (4404, 0.0034741005819676203), (908, 0.0034738526786536475), (134, 0.0034736874932794507), (933, 0.0034727866829218105), (1337, 0.0034701667660554593), (2444, 0.003468573067162316), (238, 0.0034682057747592115), (1688, 0.003467462550057835), (4197, 0.0034665582317866778), (3102, 0.003465689582046677), (2292, 0.0034633209600091787), (1322, 0.0034615472447202806), (1587, 0.0034613544597645388), (3303, 0.0034604133070332828), (2746, 0.0034574546190715575), (3060, 0.003456524066696448), (2551, 0.003455077925487102), (4702, 0.003452965922098083), (4049, 0.003451076325980983), (1105, 0.0034509275397250493), (1533, 0.0034493435041938955), (1302, 0.0034488583573036567), (579, 0.003447023792185607), (2487, 0.0034461860644609678), (3386, 0.0034454734009307444), (1476, 0.00344510005422061), (4214, 0.0034443509133433837), (3462, 0.0034426605836205813), (1879, 0.003440150524690755), (1956, 0.003439492948015564), (1461, 0.003438485237295749), (3739, 0.0034378212256148243), (1410, 0.0034367775322398553), (1611, 0.003436459081960582), (3676, 0.00343632433257361), (630, 0.003435844122525413), (3245, 0.003435695416341825), (1722, 0.0034338408457493456), (2193, 0.003431369741310546), (2396, 0.0034313425444754434), (1577, 0.0034301218002697675), (1741, 0.0034279498336089948), (182, 0.003427552292935604), (4300, 0.0034270168869267614), (1232, 0.003426668249393277), (2192, 0.003424423866720544), (398, 0.003424083052205431), (4609, 0.0034238123434598144), (3155, 0.00342369826028145), (736, 0.003423237556030946), (3034, 0.0034225642523347424), (2994, 0.003422482839397161), (3494, 0.003422262813249737), (2492, 0.003421719447066348), (529, 0.003421454283351879), (504, 0.0034209873473670083), (2284, 0.00341878413273675), (1388, 0.0034152436364675684), (4184, 0.0034143135248375753), (1906, 0.003411973073171398), (1074, 0.003410882079302173), (2340, 0.0034088610144514444), (943, 0.0034085887659335116), (938, 0.0034084983437936162), (4001, 0.003406161626474816), (264, 0.0034051173595112034), (1170, 0.0034042577251489157), (2081, 0.003404034082829515), (114, 0.00340367131893697), (785, 0.0034024521441165375), (2709, 0.0034019158164210715), (1304, 0.003401567068180714), (2495, 0.003400136571532931), (4738, 0.003398894003916735), (3662, 0.0033987345626063582), (849, 0.0033981942078736473), (2026, 0.003397734045072549), (3343, 0.003396997790759446), (1644, 0.003396593145120603), (3188, 0.003396561473361069), (479, 0.003396421939829524), (1501, 0.0033961325836019116), (4291, 0.003395670151231904), (2387, 0.0033930425796396256), (3104, 0.003392473517261945), (4592, 0.0033899073135734738), (3106, 0.0033896695692351886), (1021, 0.0033871187498906758), (1420, 0.0033865956275988887), (1517, 0.0033854872179412136), (3518, 0.003384658639677253), (525, 0.0033822316982974093), (2014, 0.0033820644691648586), (2336, 0.0033813509787447822), (2999, 0.0033811551233506347), (1238, 0.0033772568219859493), (4394, 0.0033742974722785362), (3818, 0.003372200672655256), (3477, 0.0033718617745357757), (2060, 0.0033659084618111027), (3888, 0.0033645570697685523), (1986, 0.0033629443343351673), (4542, 0.003361938089712964), (2825, 0.0033592246354809756), (174, 0.0033587806627275057), (1867, 0.003358244932034634), (50, 0.0033581112911479916), (1028, 0.0033560508049837717), (2298, 0.0033555397681492433), (535, 0.003355227554390165), (3073, 0.0033549877434543214), (3443, 0.0033540042205636496), (1447, 0.0033539950853508044), (867, 0.0033512844996561003), (973, 0.0033501605525851465), (3508, 0.0033464428690330155), (2128, 0.0033438518910266194), (3090, 0.003343830730427597), (3644, 0.0033409255797093866), (169, 0.0033409102755800673), (983, 0.0033397584528791777), (1330, 0.003338042600847269), (2639, 0.003336320678498316), (1286, 0.0033336173929244353), (4029, 0.003332404224554322), (995, 0.003331192792087679), (1589, 0.003330941731592085), (2945, 0.0033285962566591185), (1094, 0.0033277896375523194), (3288, 0.003327073980139695), (4530, 0.003325603935801), (3220, 0.0033233667294698278), (4036, 0.003322533234982816), (4234, 0.003317234819759218), (3836, 0.003316342312183099), (217, 0.003314356154083725), (4073, 0.003314319425603267), (4327, 0.0033139235799106537), (2677, 0.0033131266256590714), (503, 0.0033078278908986606), (755, 0.003304639737207362), (3765, 0.0033031280645808383), (2422, 0.003300810440095903), (4442, 0.003298284403812115), (3531, 0.0032981786491458045), (3879, 0.003296723813666847), (4367, 0.0032952409629873392), (3127, 0.003293808571695878), (4192, 0.003292840612050353), (1618, 0.0032926000705193826), (1261, 0.0032923013008444675), (840, 0.0032921812784503287), (3348, 0.003290805576331209), (4382, 0.003288102819432258), (2693, 0.0032871685481370714), (2003, 0.003285148469062991), (3641, 0.0032840709435865184), (1113, 0.003282652664098422), (2653, 0.0032813761341223876), (2467, 0.0032807476044070206), (3896, 0.0032789281418971845), (2056, 0.00327679085825503), (2642, 0.003276174734373405), (1597, 0.0032756061786158802), (4564, 0.0032741483366798795), (521, 0.0032739428083364084), (1900, 0.003273822335188504), (585, 0.003271181296950656), (1125, 0.003267644457302742), (2131, 0.003266595256197101), (1582, 0.0032645613047765074), (772, 0.003262175828319117), (1545, 0.0032607991917462643), (1446, 0.0032586349212202445), (1231, 0.0032584760091560524), (367, 0.003257539996520959), (4434, 0.003257431131442832), (1912, 0.003255613428238795), (3868, 0.0032536411146647476), (2143, 0.0032511363834266966), (1526, 0.0032494824503878617), (1490, 0.0032489737029944535), (3315, 0.0032483761252781736), (2309, 0.0032482828606072247), (883, 0.0032482702026857997), (2897, 0.003247991917045083), (3214, 0.0032463655615953533), (1654, 0.0032458385261573326), (3824, 0.003245512729747388), (1877, 0.003244839716228122), (2620, 0.0032447972926793935), (2107, 0.003239021222146904), (157, 0.0032385501341482257), (4321, 0.0032373653402183364), (780, 0.003235259825327387), (984, 0.0032345157625386207), (1915, 0.0032338481807079587), (4213, 0.003233446854443676), (2787, 0.003233417785619168), (1073, 0.003232852746560311), (2706, 0.003232784559867037), (2242, 0.003232105353880217), (2068, 0.003231210916089211), (505, 0.003230349601702646), (3177, 0.003230173152095709), (2631, 0.0032292289052344345), (2690, 0.0032290384983845186), (1532, 0.0032277846525457956), (1363, 0.003227157818779833), (4272, 0.00322595426247883), (649, 0.0032226994566730916), (1818, 0.003222335981557418), (1211, 0.0032220990226820598), (3712, 0.003221053283391761), (1787, 0.0032206688712900153), (4246, 0.0032196370402773076), (2271, 0.003218091161569809), (263, 0.0032179213183591783), (4071, 0.003217413268236797), (3859, 0.003216334437374689), (325, 0.0032133002749592143), (422, 0.003212856142002227), (197, 0.0032107272914746947), (1256, 0.003210637861593387), (3194, 0.003209571472969823), (3864, 0.0032089653797933828), (2303, 0.003207068987045421), (4257, 0.00320330916739941), (1895, 0.0032032763381327806), (2166, 0.003202472795146739), (2160, 0.0031997689902039743), (1973, 0.0031988413005961214), (1139, 0.0031983895648764935), (1788, 0.0031975797291037174), (1824, 0.0031963552286056), (1914, 0.0031958101112372073), (507, 0.0031929153659297086), (4254, 0.0031928518252334432), (1203, 0.003192723650317029), (1693, 0.0031927209565585715), (2215, 0.0031917517249568316), (1372, 0.0031898168770815864), (3250, 0.0031891724536344005), (1709, 0.003187783731417607), (903, 0.0031874611110372843), (3071, 0.00318503377367302), (2594, 0.0031850257409147247), (941, 0.0031848473778214254), (1721, 0.0031819502707951058), (1855, 0.003180568651002421), (2170, 0.0031799803847644605), (648, 0.0031779019310863976), (1992, 0.003176804251057072), (471, 0.0031755174208944214), (1746, 0.0031735829006007844), (3909, 0.0031725832906279493), (2699, 0.0031723892696169033), (4603, 0.0031719255620827466), (2992, 0.003170593692916642), (1899, 0.003170040957357928), (3732, 0.0031680546799573023), (1457, 0.0031667437880792794), (1673, 0.003165664839420181), (2866, 0.003164236774249916), (690, 0.0031637885521431696), (2071, 0.0031634530250379015), (1353, 0.0031617241083046004), (3083, 0.0031610479724006966), (3543, 0.0031610183979047667), (4305, 0.0031589795099784576), (2272, 0.0031584942214773746), (2446, 0.003158310968209082), (454, 0.0031559163831779797), (3500, 0.003154788500239677), (1152, 0.003152546945506694), (916, 0.003150835356121003), (1642, 0.0031471518949408145), (3321, 0.0031462710612942166), (2093, 0.0031449070868474994), (2548, 0.0031420224804225667), (770, 0.0031407714167097653), (2497, 0.0031405512498291614), (3839, 0.0031364548887681085), (2491, 0.00313514998849531), (1543, 0.003132872259541027), (4174, 0.0031298269215267495), (2445, 0.003129745661001606), (2274, 0.0031288117988420793), (907, 0.0031270799662172465), (1984, 0.0031253717962497285), (3767, 0.0031236492592157028), (4577, 0.0031222131031039516), (788, 0.003122158103877368), (1987, 0.0031213691031811547), (1331, 0.003116767266452495), (4297, 0.0031160683017086893), (3050, 0.003115438632962544), (1982, 0.0031146180963371774), (2225, 0.0031145646856539162), (4600, 0.003111879346699994), (2203, 0.0031115405187687535), (1794, 0.0031115080567070044), (1038, 0.0031056112580679753), (759, 0.0030959972915583765), (2728, 0.0030951692434336184), (3842, 0.0030950120406881524), (3295, 0.0030945223732670654), (1288, 0.0030939299314206178), (3885, 0.0030933863524752778), (2033, 0.003093068998227751), (1200, 0.003090784615341425), (3197, 0.0030903357359232013), (3267, 0.00308547042789953), (2424, 0.0030821657125222088), (1626, 0.003081146785779692), (2402, 0.003079511419854102), (2043, 0.00307927269354859), (1173, 0.003077273241864229), (1827, 0.003074953399465989), (1093, 0.0030734032339194365), (632, 0.0030732780092135713), (2058, 0.003068614590471158), (1485, 0.003067912100751583), (214, 0.0030662910282491353), (515, 0.0030651111310774424), (2426, 0.0030649520041473935), (898, 0.0030632494707206353), (1061, 0.0030613040980794416), (2005, 0.0030576346967576733), (161, 0.0030564924901061237), (3108, 0.003051969855975356), (4304, 0.003051919696328245), (885, 0.0030500331712639598), (1980, 0.0030499508627446358), (2185, 0.0030462861468269807), (577, 0.0030454958684167175), (594, 0.003039368943139529), (1870, 0.0030392403622456453), (1750, 0.0030389428024890906), (1318, 0.003032648564263158), (672, 0.0030321734071079263), (3933, 0.0030310404157876296), (2161, 0.0030278109313656297), (4237, 0.0030273387711081713), (3082, 0.0030243609371071335), (2264, 0.0030209839914780556), (1694, 0.003019122083840657), (2366, 0.0030156206231235967), (4104, 0.003014109462756423), (1468, 0.0030141063434065553), (1954, 0.00301219880154172), (393, 0.0030113037020039336), (3598, 0.0030101492886769597), (3063, 0.0030071284529651836), (3755, 0.003005285007149952), (1199, 0.002999678344737334), (4596, 0.0029970476634676546), (1405, 0.0029894911779468833), (4156, 0.0029807486981103045), (2820, 0.0029742484438623836), (2805, 0.0029735297431446542), (862, 0.002962392134660479), (1348, 0.002961945938948213), (4473, 0.0029615587363010214), (4035, 0.002958759977213909), (2971, 0.0029587533676746647), (3684, 0.0029510999623803768), (1465, 0.0029481103166075075), (103, 0.0029452665493637344), (1492, 0.0029427058492774564), (3748, 0.002942130649596754), (2270, 0.002938038453319303), (1698, 0.002937193661744275), (278, 0.002928672281640929), (2001, 0.002928099164842674), (1833, 0.0029117531744148437), (2168, 0.002909851044443389), (60, 0.0029088264714101086), (2098, 0.0029086889646791803), (1070, 0.0029063504185597093), (2146, 0.0029059938461516925), (2933, 0.0028877656383869384), (3855, 0.0028853134347003855), (2855, 0.0028836464654411974), (3164, 0.0028796281553956356), (1639, 0.0028786879853801945), (970, 0.002872989870693722), (175, 0.002871344019699895), (951, 0.002870608279899518), (2076, 0.0028679257917809246), (4636, 0.0028675861243640396), (2157, 0.002859298365682529), (195, 0.002858177275910827), (3658, 0.0028574122085748624), (1957, 0.0028567569644960883), (3559, 0.002850184479815032), (2211, 0.0028492756146846557), (786, 0.002848049453275759), (709, 0.0028474279445826435), (1062, 0.002843250132927533), (2876, 0.002839991291414565), (2373, 0.0028358436114764344), (1078, 0.00283182559633346), (4200, 0.002811443804828179), (1752, 0.0028114286702875355), (1571, 0.002811356236915855), (2025, 0.0028050689110341626), (2665, 0.002799983854996756), (2509, 0.002794400311380872), (1289, 0.002793700694076127), (2439, 0.0027918054600886756), (1156, 0.0027914765111923053), (1427, 0.002787470265068659), (2018, 0.00277359485562082), (366, 0.0027730767574862744), (3875, 0.0027638913109416215), (4311, 0.002762671664600027), (1317, 0.00275512280831456), (3971, 0.0027422579309653305), (3410, 0.0027363604752786443), (1453, 0.0027359929480481426), (1115, 0.002732318949574129), (2925, 0.0027301976288053894), (510, 0.0027181005183534537), (757, 0.0027162185932299273), (3538, 0.0027113957412098185), (1871, 0.0027064614165763796), (2734, 0.0027026805169739995), (2377, 0.0026993286001684813), (1677, 0.002675255461919037), (1320, 0.002669348820937744), (2113, 0.0026609565103056115), (1040, 0.0026558874277461918), (3626, 0.002608841614450344), (972, 0.0026046122302046714), (369, 0.0026024390652370417), (4652, 0.002599134210111847), (82, 0.0025804331026177754), (4182, 0.0025798549410183187), (414, 0.0025535504545714585), (1362, 0.002526942823199213), (2219, 0.002509501862529633), (1153, 0.002384179526673005), (3421, 0.002352537213223071), (1506, 0.0023286637013336027), (740, 0.00228115195548796), (4, 0.0), (5, 0.0), (8, 0.0), (9, 0.0), (10, 0.0), (11, 0.0), (13, 0.0), (15, 0.0), (16, 0.0), (17, 0.0), (18, 0.0), (20, 0.0), (21, 0.0), (23, 0.0), (24, 0.0), (26, 0.0), (29, 0.0), (30, 0.0), (32, 0.0), (33, 0.0), (34, 0.0), (35, 0.0), (39, 0.0), (41, 0.0), (44, 0.0), (48, 0.0), (51, 0.0), (52, 0.0), (54, 0.0), (55, 0.0), (56, 0.0), (61, 0.0), (62, 0.0), (63, 0.0), (65, 0.0), (66, 0.0), (67, 0.0), (68, 0.0), (69, 0.0), (71, 0.0), (72, 0.0), (74, 0.0), (77, 0.0), (78, 0.0), (80, 0.0), (81, 0.0), (85, 0.0), (90, 0.0), (93, 0.0), (94, 0.0), (95, 0.0), (98, 0.0), (99, 0.0), (100, 0.0), (101, 0.0), (105, 0.0), (106, 0.0), (107, 0.0), (109, 0.0), (111, 0.0), (112, 0.0), (116, 0.0), (119, 0.0), (123, 0.0), (124, 0.0), (125, 0.0), (126, 0.0), (127, 0.0), (130, 0.0), (131, 0.0), (133, 0.0), (136, 0.0), (137, 0.0), (138, 0.0), (140, 0.0), (142, 0.0), (144, 0.0), (145, 0.0), (147, 0.0), (149, 0.0), (151, 0.0), (158, 0.0), (159, 0.0), (162, 0.0), (163, 0.0), (164, 0.0), (165, 0.0), (170, 0.0), (171, 0.0), (173, 0.0), (180, 0.0), (181, 0.0), (184, 0.0), (187, 0.0), (189, 0.0), (190, 0.0), (192, 0.0), (193, 0.0), (196, 0.0), (201, 0.0), (206, 0.0), (207, 0.0), (208, 0.0), (209, 0.0), (210, 0.0), (213, 0.0), (220, 0.0), (221, 0.0), (222, 0.0), (224, 0.0), (226, 0.0), (227, 0.0), (229, 0.0), (230, 0.0), (232, 0.0), (233, 0.0), (234, 0.0), (235, 0.0), (236, 0.0), (243, 0.0), (247, 0.0), (248, 0.0), (250, 0.0), (252, 0.0), (254, 0.0), (255, 0.0), (256, 0.0), (262, 0.0), (265, 0.0), (267, 0.0), (270, 0.0), (272, 0.0), (273, 0.0), (274, 0.0), (275, 0.0), (280, 0.0), (281, 0.0), (283, 0.0), (286, 0.0), (287, 0.0), (288, 0.0), (289, 0.0), (290, 0.0), (292, 0.0), (293, 0.0), (294, 0.0), (295, 0.0), (304, 0.0), (305, 0.0), (306, 0.0), (313, 0.0), (314, 0.0), (316, 0.0), (320, 0.0), (328, 0.0), (329, 0.0), (330, 0.0), (332, 0.0), (343, 0.0), (348, 0.0), (353, 0.0), (358, 0.0), (359, 0.0), (360, 0.0), (364, 0.0), (370, 0.0), (371, 0.0), (372, 0.0), (375, 0.0), (378, 0.0), (379, 0.0), (380, 0.0), (382, 0.0), (384, 0.0), (387, 0.0), (394, 0.0), (395, 0.0), (397, 0.0), (402, 0.0), (406, 0.0), (408, 0.0), (411, 0.0), (419, 0.0), (424, 0.0), (425, 0.0), (426, 0.0), (428, 0.0), (432, 0.0), (433, 0.0), (436, 0.0), (439, 0.0), (441, 0.0), (442, 0.0), (443, 0.0), (444, 0.0), (445, 0.0), (446, 0.0), (447, 0.0), (451, 0.0), (452, 0.0), (460, 0.0), (462, 0.0), (463, 0.0), (464, 0.0), (466, 0.0), (468, 0.0), (472, 0.0), (475, 0.0), (476, 0.0), (478, 0.0), (483, 0.0), (484, 0.0), (486, 0.0), (487, 0.0), (488, 0.0), (489, 0.0), (491, 0.0), (492, 0.0), (495, 0.0), (499, 0.0), (509, 0.0), (513, 0.0), (514, 0.0), (516, 0.0), (517, 0.0), (518, 0.0), (526, 0.0), (533, 0.0), (537, 0.0), (539, 0.0), (540, 0.0), (543, 0.0), (547, 0.0), (550, 0.0), (551, 0.0), (552, 0.0), (553, 0.0), (554, 0.0), (558, 0.0), (559, 0.0), (564, 0.0), (565, 0.0), (567, 0.0), (568, 0.0), (569, 0.0), (570, 0.0), (572, 0.0), (573, 0.0), (574, 0.0), (575, 0.0), (580, 0.0), (584, 0.0), (588, 0.0), (590, 0.0), (592, 0.0), (593, 0.0), (595, 0.0), (596, 0.0), (598, 0.0), (599, 0.0), (600, 0.0), (601, 0.0), (602, 0.0), (603, 0.0), (606, 0.0), (610, 0.0), (611, 0.0), (612, 0.0), (613, 0.0), (615, 0.0), (616, 0.0), (617, 0.0), (618, 0.0), (620, 0.0), (621, 0.0), (622, 0.0), (623, 0.0), (625, 0.0), (626, 0.0), (627, 0.0), (628, 0.0), (631, 0.0), (634, 0.0), (635, 0.0), (636, 0.0), (637, 0.0), (638, 0.0), (639, 0.0), (640, 0.0), (643, 0.0), (644, 0.0), (645, 0.0), (650, 0.0), (652, 0.0), (654, 0.0), (655, 0.0), (661, 0.0), (663, 0.0), (666, 0.0), (670, 0.0), (675, 0.0), (677, 0.0), (680, 0.0), (682, 0.0), (685, 0.0), (689, 0.0), (692, 0.0), (693, 0.0), (694, 0.0), (695, 0.0), (699, 0.0), (704, 0.0), (716, 0.0), (719, 0.0), (721, 0.0), (722, 0.0), (723, 0.0), (727, 0.0), (728, 0.0), (729, 0.0), (733, 0.0), (734, 0.0), (738, 0.0), (739, 0.0), (742, 0.0), (743, 0.0), (746, 0.0), (747, 0.0), (748, 0.0), (753, 0.0), (756, 0.0), (761, 0.0), (765, 0.0), (766, 0.0), (774, 0.0), (777, 0.0), (779, 0.0), (782, 0.0), (783, 0.0), (791, 0.0), (796, 0.0), (798, 0.0), (799, 0.0), (801, 0.0), (805, 0.0), (811, 0.0), (812, 0.0), (813, 0.0), (815, 0.0), (816, 0.0), (817, 0.0), (818, 0.0), (823, 0.0), (825, 0.0), (826, 0.0), (827, 0.0), (828, 0.0), (830, 0.0), (831, 0.0), (832, 0.0), (833, 0.0), (834, 0.0), (835, 0.0), (838, 0.0), (843, 0.0), (844, 0.0), (845, 0.0), (848, 0.0), (850, 0.0), (852, 0.0), (853, 0.0), (854, 0.0), (855, 0.0), (856, 0.0), (857, 0.0), (858, 0.0), (860, 0.0), (864, 0.0), (866, 0.0), (868, 0.0), (870, 0.0), (871, 0.0), (874, 0.0), (876, 0.0), (878, 0.0), (888, 0.0), (889, 0.0), (893, 0.0), (894, 0.0), (896, 0.0), (897, 0.0), (899, 0.0), (900, 0.0), (901, 0.0), (902, 0.0), (906, 0.0), (910, 0.0), (911, 0.0), (913, 0.0), (914, 0.0), (915, 0.0), (917, 0.0), (918, 0.0), (919, 0.0), (921, 0.0), (922, 0.0), (924, 0.0), (929, 0.0), (930, 0.0), (934, 0.0), (935, 0.0), (937, 0.0), (944, 0.0), (947, 0.0), (949, 0.0), (950, 0.0), (953, 0.0), (954, 0.0), (959, 0.0), (960, 0.0), (966, 0.0), (967, 0.0), (968, 0.0), (974, 0.0), (975, 0.0), (986, 0.0), (987, 0.0), (991, 0.0), (992, 0.0), (1001, 0.0), (1003, 0.0), (1004, 0.0), (1005, 0.0), (1012, 0.0), (1015, 0.0), (1017, 0.0), (1018, 0.0), (1019, 0.0), (1020, 0.0), (1023, 0.0), (1030, 0.0), (1031, 0.0), (1032, 0.0), (1033, 0.0), (1035, 0.0), (1036, 0.0), (1037, 0.0), (1039, 0.0), (1041, 0.0), (1043, 0.0), (1044, 0.0), (1045, 0.0), (1046, 0.0), (1048, 0.0), (1050, 0.0), (1051, 0.0), (1052, 0.0), (1053, 0.0), (1056, 0.0), (1058, 0.0), (1059, 0.0), (1063, 0.0), (1064, 0.0), (1065, 0.0), (1066, 0.0), (1068, 0.0), (1069, 0.0), (1071, 0.0), (1072, 0.0), (1075, 0.0), (1077, 0.0), (1081, 0.0), (1082, 0.0), (1083, 0.0), (1086, 0.0), (1087, 0.0), (1090, 0.0), (1092, 0.0), (1095, 0.0), (1098, 0.0), (1101, 0.0), (1102, 0.0), (1104, 0.0), (1110, 0.0), (1111, 0.0), (1119, 0.0), (1121, 0.0), (1122, 0.0), (1123, 0.0), (1127, 0.0), (1128, 0.0), (1129, 0.0), (1131, 0.0), (1137, 0.0), (1140, 0.0), (1143, 0.0), (1145, 0.0), (1146, 0.0), (1147, 0.0), (1148, 0.0), (1150, 0.0), (1151, 0.0), (1154, 0.0), (1159, 0.0), (1160, 0.0), (1162, 0.0), (1163, 0.0), (1167, 0.0), (1172, 0.0), (1174, 0.0), (1175, 0.0), (1176, 0.0), (1179, 0.0), (1181, 0.0), (1184, 0.0), (1185, 0.0), (1186, 0.0), (1189, 0.0), (1191, 0.0), (1202, 0.0), (1207, 0.0), (1209, 0.0), (1210, 0.0), (1218, 0.0), (1220, 0.0), (1223, 0.0), (1225, 0.0), (1226, 0.0), (1229, 0.0), (1230, 0.0), (1233, 0.0), (1236, 0.0), (1240, 0.0), (1247, 0.0), (1250, 0.0), (1252, 0.0), (1254, 0.0), (1257, 0.0), (1258, 0.0), (1262, 0.0), (1264, 0.0), (1265, 0.0), (1266, 0.0), (1270, 0.0), (1272, 0.0), (1273, 0.0), (1274, 0.0), (1275, 0.0), (1276, 0.0), (1279, 0.0), (1280, 0.0), (1281, 0.0), (1283, 0.0), (1287, 0.0), (1294, 0.0), (1296, 0.0), (1301, 0.0), (1303, 0.0), (1305, 0.0), (1314, 0.0), (1315, 0.0), (1316, 0.0), (1319, 0.0), (1324, 0.0), (1325, 0.0), (1332, 0.0), (1335, 0.0), (1343, 0.0), (1346, 0.0), (1347, 0.0), (1349, 0.0), (1350, 0.0), (1352, 0.0), (1354, 0.0), (1355, 0.0), (1357, 0.0), (1360, 0.0), (1378, 0.0), (1380, 0.0), (1381, 0.0), (1384, 0.0), (1385, 0.0), (1386, 0.0), (1387, 0.0), (1391, 0.0), (1398, 0.0), (1399, 0.0), (1400, 0.0), (1402, 0.0), (1406, 0.0), (1407, 0.0), (1413, 0.0), (1414, 0.0), (1415, 0.0), (1416, 0.0), (1417, 0.0), (1418, 0.0), (1421, 0.0), (1426, 0.0), (1428, 0.0), (1429, 0.0), (1433, 0.0), (1434, 0.0), (1435, 0.0), (1436, 0.0), (1438, 0.0), (1439, 0.0), (1440, 0.0), (1443, 0.0), (1448, 0.0), (1449, 0.0), (1450, 0.0), (1452, 0.0), (1455, 0.0), (1459, 0.0), (1464, 0.0), (1470, 0.0), (1475, 0.0), (1478, 0.0), (1484, 0.0), (1497, 0.0), (1498, 0.0), (1499, 0.0), (1500, 0.0), (1504, 0.0), (1509, 0.0), (1510, 0.0), (1511, 0.0), (1512, 0.0), (1514, 0.0), (1515, 0.0), (1519, 0.0), (1527, 0.0), (1530, 0.0), (1534, 0.0), (1535, 0.0), (1546, 0.0), (1547, 0.0), (1548, 0.0), (1550, 0.0), (1551, 0.0), (1553, 0.0), (1556, 0.0), (1558, 0.0), (1562, 0.0), (1565, 0.0), (1566, 0.0), (1568, 0.0), (1570, 0.0), (1573, 0.0), (1588, 0.0), (1590, 0.0), (1591, 0.0), (1593, 0.0), (1595, 0.0), (1603, 0.0), (1608, 0.0), (1612, 0.0), (1619, 0.0), (1620, 0.0), (1621, 0.0), (1622, 0.0), (1623, 0.0), (1624, 0.0), (1625, 0.0), (1627, 0.0), (1628, 0.0), (1630, 0.0), (1633, 0.0), (1635, 0.0), (1636, 0.0), (1641, 0.0), (1643, 0.0), (1645, 0.0), (1650, 0.0), (1651, 0.0), (1653, 0.0), (1655, 0.0), (1657, 0.0), (1659, 0.0), (1661, 0.0), (1666, 0.0), (1667, 0.0), (1669, 0.0), (1671, 0.0), (1672, 0.0), (1674, 0.0), (1675, 0.0), (1681, 0.0), (1685, 0.0), (1692, 0.0), (1699, 0.0), (1703, 0.0), (1705, 0.0), (1707, 0.0), (1708, 0.0), (1710, 0.0), (1712, 0.0), (1716, 0.0), (1717, 0.0), (1724, 0.0), (1725, 0.0), (1730, 0.0), (1736, 0.0), (1739, 0.0), (1740, 0.0), (1742, 0.0), (1745, 0.0), (1748, 0.0), (1749, 0.0), (1753, 0.0), (1754, 0.0), (1756, 0.0), (1760, 0.0), (1761, 0.0), (1764, 0.0), (1770, 0.0), (1773, 0.0), (1774, 0.0), (1775, 0.0), (1779, 0.0), (1782, 0.0), (1789, 0.0), (1793, 0.0), (1795, 0.0), (1796, 0.0), (1798, 0.0), (1799, 0.0), (1801, 0.0), (1805, 0.0), (1807, 0.0), (1812, 0.0), (1813, 0.0), (1817, 0.0), (1819, 0.0), (1823, 0.0), (1825, 0.0), (1826, 0.0), (1828, 0.0), (1831, 0.0), (1832, 0.0), (1835, 0.0), (1838, 0.0), (1846, 0.0), (1853, 0.0), (1857, 0.0), (1858, 0.0), (1862, 0.0), (1866, 0.0), (1869, 0.0), (1872, 0.0), (1873, 0.0), (1882, 0.0), (1884, 0.0), (1885, 0.0), (1886, 0.0), (1887, 0.0), (1891, 0.0), (1892, 0.0), (1894, 0.0), (1896, 0.0), (1897, 0.0), (1904, 0.0), (1908, 0.0), (1909, 0.0), (1916, 0.0), (1918, 0.0), (1924, 0.0), (1930, 0.0), (1931, 0.0), (1934, 0.0), (1940, 0.0), (1945, 0.0), (1950, 0.0), (1952, 0.0), (1953, 0.0), (1960, 0.0), (1962, 0.0), (1964, 0.0), (1966, 0.0), (1968, 0.0), (1969, 0.0), (1970, 0.0), (1971, 0.0), (1972, 0.0), (1975, 0.0), (1976, 0.0), (1983, 0.0), (1988, 0.0), (1989, 0.0), (1993, 0.0), (1995, 0.0), (1997, 0.0), (1998, 0.0), (2004, 0.0), (2008, 0.0), (2011, 0.0), (2013, 0.0), (2015, 0.0), (2016, 0.0), (2017, 0.0), (2020, 0.0), (2023, 0.0), (2024, 0.0), (2028, 0.0), (2029, 0.0), (2031, 0.0), (2034, 0.0), (2040, 0.0), (2044, 0.0), (2047, 0.0), (2048, 0.0), (2051, 0.0), (2054, 0.0), (2061, 0.0), (2065, 0.0), (2066, 0.0), (2067, 0.0), (2069, 0.0), (2070, 0.0), (2072, 0.0), (2075, 0.0), (2078, 0.0), (2080, 0.0), (2083, 0.0), (2084, 0.0), (2085, 0.0), (2089, 0.0), (2091, 0.0), (2094, 0.0), (2097, 0.0), (2102, 0.0), (2105, 0.0), (2109, 0.0), (2115, 0.0), (2123, 0.0), (2126, 0.0), (2127, 0.0), (2134, 0.0), (2136, 0.0), (2139, 0.0), (2141, 0.0), (2142, 0.0), (2144, 0.0), (2149, 0.0), (2163, 0.0), (2165, 0.0), (2169, 0.0), (2172, 0.0), (2173, 0.0), (2175, 0.0), (2177, 0.0), (2180, 0.0), (2181, 0.0), (2182, 0.0), (2184, 0.0), (2188, 0.0), (2189, 0.0), (2195, 0.0), (2197, 0.0), (2206, 0.0), (2212, 0.0), (2213, 0.0), (2214, 0.0), (2216, 0.0), (2221, 0.0), (2224, 0.0), (2226, 0.0), (2230, 0.0), (2231, 0.0), (2232, 0.0), (2233, 0.0), (2238, 0.0), (2239, 0.0), (2243, 0.0), (2245, 0.0), (2246, 0.0), (2247, 0.0), (2248, 0.0), (2250, 0.0), (2251, 0.0), (2252, 0.0), (2253, 0.0), (2254, 0.0), (2255, 0.0), (2256, 0.0), (2268, 0.0), (2273, 0.0), (2276, 0.0), (2277, 0.0), (2278, 0.0), (2279, 0.0), (2285, 0.0), (2286, 0.0), (2287, 0.0), (2288, 0.0), (2289, 0.0), (2291, 0.0), (2293, 0.0), (2294, 0.0), (2295, 0.0), (2299, 0.0), (2306, 0.0), (2310, 0.0), (2313, 0.0), (2314, 0.0), (2318, 0.0), (2321, 0.0), (2324, 0.0), (2328, 0.0), (2334, 0.0), (2338, 0.0), (2341, 0.0), (2342, 0.0), (2343, 0.0), (2344, 0.0), (2345, 0.0), (2346, 0.0), (2349, 0.0), (2350, 0.0), (2354, 0.0), (2356, 0.0), (2361, 0.0), (2362, 0.0), (2369, 0.0), (2370, 0.0), (2376, 0.0), (2382, 0.0), (2383, 0.0), (2386, 0.0), (2388, 0.0), (2392, 0.0), (2398, 0.0), (2400, 0.0), (2405, 0.0), (2406, 0.0), (2407, 0.0), (2412, 0.0), (2413, 0.0), (2415, 0.0), (2416, 0.0), (2417, 0.0), (2418, 0.0), (2425, 0.0), (2427, 0.0), (2428, 0.0), (2429, 0.0), (2432, 0.0), (2437, 0.0), (2438, 0.0), (2442, 0.0), (2443, 0.0), (2453, 0.0), (2454, 0.0), (2457, 0.0), (2459, 0.0), (2463, 0.0), (2470, 0.0), (2471, 0.0), (2474, 0.0), (2475, 0.0), (2476, 0.0), (2477, 0.0), (2480, 0.0), (2481, 0.0), (2482, 0.0), (2496, 0.0), (2498, 0.0), (2501, 0.0), (2502, 0.0), (2503, 0.0), (2505, 0.0), (2506, 0.0), (2513, 0.0), (2524, 0.0), (2526, 0.0), (2528, 0.0), (2533, 0.0), (2544, 0.0), (2545, 0.0), (2547, 0.0), (2550, 0.0), (2556, 0.0), (2557, 0.0), (2558, 0.0), (2565, 0.0), (2567, 0.0), (2571, 0.0), (2572, 0.0), (2573, 0.0), (2578, 0.0), (2585, 0.0), (2599, 0.0), (2602, 0.0), (2606, 0.0), (2607, 0.0), (2609, 0.0), (2613, 0.0), (2623, 0.0), (2624, 0.0), (2625, 0.0), (2627, 0.0), (2628, 0.0), (2630, 0.0), (2636, 0.0), (2638, 0.0), (2641, 0.0), (2645, 0.0), (2647, 0.0), (2649, 0.0), (2651, 0.0), (2655, 0.0), (2658, 0.0), (2664, 0.0), (2674, 0.0), (2679, 0.0), (2680, 0.0), (2683, 0.0), (2689, 0.0), (2691, 0.0), (2692, 0.0), (2694, 0.0), (2695, 0.0), (2697, 0.0), (2700, 0.0), (2705, 0.0), (2707, 0.0), (2713, 0.0), (2714, 0.0), (2716, 0.0), (2718, 0.0), (2723, 0.0), (2724, 0.0), (2733, 0.0), (2735, 0.0), (2736, 0.0), (2740, 0.0), (2742, 0.0), (2743, 0.0), (2745, 0.0), (2749, 0.0), (2757, 0.0), (2761, 0.0), (2762, 0.0), (2765, 0.0), (2767, 0.0), (2768, 0.0), (2773, 0.0), (2775, 0.0), (2777, 0.0), (2778, 0.0), (2779, 0.0), (2780, 0.0), (2783, 0.0), (2784, 0.0), (2785, 0.0), (2788, 0.0), (2789, 0.0), (2790, 0.0), (2792, 0.0), (2793, 0.0), (2795, 0.0), (2798, 0.0), (2800, 0.0), (2802, 0.0), (2803, 0.0), (2808, 0.0), (2815, 0.0), (2824, 0.0), (2827, 0.0), (2828, 0.0), (2837, 0.0), (2840, 0.0), (2841, 0.0), (2842, 0.0), (2847, 0.0), (2848, 0.0), (2849, 0.0), (2850, 0.0), (2853, 0.0), (2854, 0.0), (2859, 0.0), (2860, 0.0), (2861, 0.0), (2862, 0.0), (2863, 0.0), (2864, 0.0), (2865, 0.0), (2868, 0.0), (2869, 0.0), (2870, 0.0), (2871, 0.0), (2878, 0.0), (2879, 0.0), (2883, 0.0), (2886, 0.0), (2888, 0.0), (2889, 0.0), (2890, 0.0), (2895, 0.0), (2898, 0.0), (2899, 0.0), (2900, 0.0), (2902, 0.0), (2903, 0.0), (2904, 0.0), (2905, 0.0), (2906, 0.0), (2907, 0.0), (2910, 0.0), (2911, 0.0), (2915, 0.0), (2920, 0.0), (2921, 0.0), (2923, 0.0), (2929, 0.0), (2932, 0.0), (2934, 0.0), (2937, 0.0), (2943, 0.0), (2944, 0.0), (2946, 0.0), (2947, 0.0), (2949, 0.0), (2950, 0.0), (2952, 0.0), (2953, 0.0), (2955, 0.0), (2956, 0.0), (2957, 0.0), (2959, 0.0), (2960, 0.0), (2961, 0.0), (2963, 0.0), (2964, 0.0), (2966, 0.0), (2967, 0.0), (2969, 0.0), (2974, 0.0), (2977, 0.0), (2981, 0.0), (2984, 0.0), (2987, 0.0), (2988, 0.0), (2989, 0.0), (2991, 0.0), (2993, 0.0), (2995, 0.0), (2997, 0.0), (3005, 0.0), (3006, 0.0), (3007, 0.0), (3008, 0.0), (3011, 0.0), (3012, 0.0), (3015, 0.0), (3019, 0.0), (3021, 0.0), (3023, 0.0), (3024, 0.0), (3025, 0.0), (3028, 0.0), (3029, 0.0), (3030, 0.0), (3031, 0.0), (3032, 0.0), (3035, 0.0), (3036, 0.0), (3046, 0.0), (3048, 0.0), (3049, 0.0), (3052, 0.0), (3053, 0.0), (3055, 0.0), (3056, 0.0), (3059, 0.0), (3064, 0.0), (3067, 0.0), (3068, 0.0), (3069, 0.0), (3072, 0.0), (3075, 0.0), (3076, 0.0), (3079, 0.0), (3085, 0.0), (3092, 0.0), (3094, 0.0), (3095, 0.0), (3099, 0.0), (3100, 0.0), (3103, 0.0), (3107, 0.0), (3110, 0.0), (3114, 0.0), (3118, 0.0), (3119, 0.0), (3122, 0.0), (3123, 0.0), (3124, 0.0), (3125, 0.0), (3126, 0.0), (3128, 0.0), (3129, 0.0), (3130, 0.0), (3131, 0.0), (3132, 0.0), (3133, 0.0), (3134, 0.0), (3135, 0.0), (3136, 0.0), (3140, 0.0), (3143, 0.0), (3145, 0.0), (3148, 0.0), (3153, 0.0), (3157, 0.0), (3159, 0.0), (3160, 0.0), (3163, 0.0), (3165, 0.0), (3167, 0.0), (3170, 0.0), (3171, 0.0), (3173, 0.0), (3174, 0.0), (3176, 0.0), (3180, 0.0), (3184, 0.0), (3185, 0.0), (3186, 0.0), (3191, 0.0), (3193, 0.0), (3196, 0.0), (3199, 0.0), (3202, 0.0), (3205, 0.0), (3206, 0.0), (3210, 0.0), (3213, 0.0), (3216, 0.0), (3222, 0.0), (3223, 0.0), (3226, 0.0), (3227, 0.0), (3228, 0.0), (3230, 0.0), (3233, 0.0), (3235, 0.0), (3237, 0.0), (3240, 0.0), (3241, 0.0), (3248, 0.0), (3251, 0.0), (3261, 0.0), (3262, 0.0), (3263, 0.0), (3264, 0.0), (3268, 0.0), (3269, 0.0), (3273, 0.0), (3274, 0.0), (3276, 0.0), (3278, 0.0), (3280, 0.0), (3281, 0.0), (3285, 0.0), (3291, 0.0), (3292, 0.0), (3294, 0.0), (3296, 0.0), (3298, 0.0), (3301, 0.0), (3305, 0.0), (3306, 0.0), (3307, 0.0), (3312, 0.0), (3316, 0.0), (3317, 0.0), (3318, 0.0), (3322, 0.0), (3325, 0.0), (3326, 0.0), (3327, 0.0), (3328, 0.0), (3333, 0.0), (3336, 0.0), (3339, 0.0), (3340, 0.0), (3341, 0.0), (3345, 0.0), (3346, 0.0), (3347, 0.0), (3353, 0.0), (3354, 0.0), (3355, 0.0), (3356, 0.0), (3358, 0.0), (3359, 0.0), (3361, 0.0), (3363, 0.0), (3369, 0.0), (3372, 0.0), (3374, 0.0), (3376, 0.0), (3381, 0.0), (3384, 0.0), (3385, 0.0), (3387, 0.0), (3391, 0.0), (3396, 0.0), (3398, 0.0), (3401, 0.0), (3404, 0.0), (3406, 0.0), (3409, 0.0), (3414, 0.0), (3416, 0.0), (3417, 0.0), (3419, 0.0), (3423, 0.0), (3425, 0.0), (3426, 0.0), (3427, 0.0), (3431, 0.0), (3432, 0.0), (3434, 0.0), (3435, 0.0), (3436, 0.0), (3437, 0.0), (3438, 0.0), (3440, 0.0), (3441, 0.0), (3445, 0.0), (3448, 0.0), (3450, 0.0), (3451, 0.0), (3453, 0.0), (3454, 0.0), (3455, 0.0), (3458, 0.0), (3460, 0.0), (3463, 0.0), (3465, 0.0), (3466, 0.0), (3468, 0.0), (3469, 0.0), (3470, 0.0), (3471, 0.0), (3474, 0.0), (3478, 0.0), (3480, 0.0), (3484, 0.0), (3486, 0.0), (3488, 0.0), (3491, 0.0), (3492, 0.0), (3499, 0.0), (3501, 0.0), (3502, 0.0), (3506, 0.0), (3511, 0.0), (3521, 0.0), (3522, 0.0), (3523, 0.0), (3525, 0.0), (3527, 0.0), (3528, 0.0), (3530, 0.0), (3532, 0.0), (3535, 0.0), (3542, 0.0), (3546, 0.0), (3547, 0.0), (3548, 0.0), (3550, 0.0), (3551, 0.0), (3553, 0.0), (3560, 0.0), (3564, 0.0), (3566, 0.0), (3567, 0.0), (3568, 0.0), (3573, 0.0), (3576, 0.0), (3578, 0.0), (3583, 0.0), (3586, 0.0), (3587, 0.0), (3588, 0.0), (3590, 0.0), (3594, 0.0), (3596, 0.0), (3597, 0.0), (3600, 0.0), (3605, 0.0), (3608, 0.0), (3609, 0.0), (3611, 0.0), (3612, 0.0), (3614, 0.0), (3615, 0.0), (3617, 0.0), (3618, 0.0), (3623, 0.0), (3625, 0.0), (3627, 0.0), (3629, 0.0), (3635, 0.0), (3636, 0.0), (3638, 0.0), (3640, 0.0), (3642, 0.0), (3645, 0.0), (3653, 0.0), (3654, 0.0), (3657, 0.0), (3661, 0.0), (3663, 0.0), (3664, 0.0), (3666, 0.0), (3667, 0.0), (3669, 0.0), (3670, 0.0), (3672, 0.0), (3675, 0.0), (3677, 0.0), (3679, 0.0), (3680, 0.0), (3687, 0.0), (3689, 0.0), (3690, 0.0), (3691, 0.0), (3692, 0.0), (3693, 0.0), (3694, 0.0), (3696, 0.0), (3697, 0.0), (3698, 0.0), (3699, 0.0), (3702, 0.0), (3703, 0.0), (3706, 0.0), (3707, 0.0), (3708, 0.0), (3711, 0.0), (3713, 0.0), (3714, 0.0), (3717, 0.0), (3718, 0.0), (3719, 0.0), (3720, 0.0), (3721, 0.0), (3723, 0.0), (3724, 0.0), (3725, 0.0), (3727, 0.0), (3729, 0.0), (3734, 0.0), (3737, 0.0), (3738, 0.0), (3741, 0.0), (3742, 0.0), (3743, 0.0), (3745, 0.0), (3747, 0.0), (3749, 0.0), (3750, 0.0), (3757, 0.0), (3760, 0.0), (3761, 0.0), (3762, 0.0), (3766, 0.0), (3768, 0.0), (3769, 0.0), (3770, 0.0), (3773, 0.0), (3774, 0.0), (3776, 0.0), (3777, 0.0), (3778, 0.0), (3779, 0.0), (3781, 0.0), (3783, 0.0), (3784, 0.0), (3786, 0.0), (3787, 0.0), (3793, 0.0), (3797, 0.0), (3798, 0.0), (3799, 0.0), (3801, 0.0), (3804, 0.0), (3806, 0.0), (3809, 0.0), (3810, 0.0), (3814, 0.0), (3819, 0.0), (3821, 0.0), (3823, 0.0), (3825, 0.0), (3827, 0.0), (3828, 0.0), (3830, 0.0), (3831, 0.0), (3833, 0.0), (3834, 0.0), (3835, 0.0), (3838, 0.0), (3848, 0.0), (3849, 0.0), (3852, 0.0), (3853, 0.0), (3860, 0.0), (3863, 0.0), (3867, 0.0), (3869, 0.0), (3873, 0.0), (3874, 0.0), (3876, 0.0), (3877, 0.0), (3878, 0.0), (3880, 0.0), (3881, 0.0), (3883, 0.0), (3887, 0.0), (3891, 0.0), (3893, 0.0), (3895, 0.0), (3898, 0.0), (3899, 0.0), (3900, 0.0), (3902, 0.0), (3903, 0.0), (3904, 0.0), (3907, 0.0), (3908, 0.0), (3910, 0.0), (3911, 0.0), (3915, 0.0), (3917, 0.0), (3918, 0.0), (3920, 0.0), (3925, 0.0), (3927, 0.0), (3929, 0.0), (3932, 0.0), (3935, 0.0), (3939, 0.0), (3944, 0.0), (3945, 0.0), (3946, 0.0), (3947, 0.0), (3951, 0.0), (3953, 0.0), (3954, 0.0), (3955, 0.0), (3956, 0.0), (3957, 0.0), (3958, 0.0), (3959, 0.0), (3961, 0.0), (3963, 0.0), (3968, 0.0), (3974, 0.0), (3975, 0.0), (3976, 0.0), (3977, 0.0), (3978, 0.0), (3981, 0.0), (3982, 0.0), (3985, 0.0), (3986, 0.0), (3987, 0.0), (3989, 0.0), (3994, 0.0), (3995, 0.0), (3999, 0.0), (4000, 0.0), (4002, 0.0), (4004, 0.0), (4005, 0.0), (4011, 0.0), (4014, 0.0), (4016, 0.0), (4017, 0.0), (4019, 0.0), (4024, 0.0), (4028, 0.0), (4030, 0.0), (4032, 0.0), (4039, 0.0), (4041, 0.0), (4042, 0.0), (4043, 0.0), (4044, 0.0), (4046, 0.0), (4048, 0.0), (4053, 0.0), (4055, 0.0), (4056, 0.0), (4057, 0.0), (4059, 0.0), (4062, 0.0), (4063, 0.0), (4065, 0.0), (4067, 0.0), (4068, 0.0), (4069, 0.0), (4070, 0.0), (4072, 0.0), (4075, 0.0), (4077, 0.0), (4078, 0.0), (4080, 0.0), (4081, 0.0), (4083, 0.0), (4085, 0.0), (4087, 0.0), (4088, 0.0), (4089, 0.0), (4092, 0.0), (4095, 0.0), (4096, 0.0), (4100, 0.0), (4106, 0.0), (4107, 0.0), (4110, 0.0), (4119, 0.0), (4120, 0.0), (4123, 0.0), (4124, 0.0), (4126, 0.0), (4128, 0.0), (4129, 0.0), (4130, 0.0), (4133, 0.0), (4134, 0.0), (4138, 0.0), (4139, 0.0), (4141, 0.0), (4142, 0.0), (4145, 0.0), (4148, 0.0), (4150, 0.0), (4151, 0.0), (4153, 0.0), (4154, 0.0), (4158, 0.0), (4161, 0.0), (4162, 0.0), (4163, 0.0), (4165, 0.0), (4167, 0.0), (4170, 0.0), (4172, 0.0), (4175, 0.0), (4176, 0.0), (4178, 0.0), (4181, 0.0), (4183, 0.0), (4187, 0.0), (4188, 0.0), (4189, 0.0), (4193, 0.0), (4201, 0.0), (4202, 0.0), (4208, 0.0), (4211, 0.0), (4212, 0.0), (4215, 0.0), (4216, 0.0), (4219, 0.0), (4220, 0.0), (4221, 0.0), (4224, 0.0), (4227, 0.0), (4228, 0.0), (4229, 0.0), (4230, 0.0), (4231, 0.0), (4232, 0.0), (4235, 0.0), (4236, 0.0), (4238, 0.0), (4240, 0.0), (4243, 0.0), (4244, 0.0), (4245, 0.0), (4249, 0.0), (4251, 0.0), (4253, 0.0), (4255, 0.0), (4261, 0.0), (4262, 0.0), (4266, 0.0), (4267, 0.0), (4269, 0.0), (4271, 0.0), (4273, 0.0), (4274, 0.0), (4275, 0.0), (4276, 0.0), (4277, 0.0), (4278, 0.0), (4279, 0.0), (4280, 0.0), (4281, 0.0), (4282, 0.0), (4283, 0.0), (4284, 0.0), (4286, 0.0), (4288, 0.0), (4290, 0.0), (4294, 0.0), (4296, 0.0), (4298, 0.0), (4301, 0.0), (4302, 0.0), (4306, 0.0), (4307, 0.0), (4309, 0.0), (4310, 0.0), (4312, 0.0), (4313, 0.0), (4316, 0.0), (4318, 0.0), (4320, 0.0), (4322, 0.0), (4326, 0.0), (4328, 0.0), (4333, 0.0), (4336, 0.0), (4337, 0.0), (4344, 0.0), (4345, 0.0), (4349, 0.0), (4350, 0.0), (4352, 0.0), (4354, 0.0), (4355, 0.0), (4359, 0.0), (4361, 0.0), (4363, 0.0), (4365, 0.0), (4366, 0.0), (4368, 0.0), (4369, 0.0), (4373, 0.0), (4375, 0.0), (4376, 0.0), (4377, 0.0), (4383, 0.0), (4384, 0.0), (4386, 0.0), (4387, 0.0), (4389, 0.0), (4390, 0.0), (4391, 0.0), (4393, 0.0), (4398, 0.0), (4399, 0.0), (4401, 0.0), (4402, 0.0), (4403, 0.0), (4406, 0.0), (4407, 0.0), (4409, 0.0), (4411, 0.0), (4412, 0.0), (4414, 0.0), (4415, 0.0), (4416, 0.0), (4417, 0.0), (4418, 0.0), (4419, 0.0), (4423, 0.0), (4424, 0.0), (4425, 0.0), (4428, 0.0), (4429, 0.0), (4430, 0.0), (4431, 0.0), (4435, 0.0), (4436, 0.0), (4439, 0.0), (4443, 0.0), (4444, 0.0), (4450, 0.0), (4456, 0.0), (4458, 0.0), (4459, 0.0), (4461, 0.0), (4464, 0.0), (4465, 0.0), (4466, 0.0), (4467, 0.0), (4468, 0.0), (4469, 0.0), (4472, 0.0), (4474, 0.0), (4475, 0.0), (4476, 0.0), (4477, 0.0), (4479, 0.0), (4481, 0.0), (4485, 0.0), (4490, 0.0), (4491, 0.0), (4493, 0.0), (4494, 0.0), (4497, 0.0), (4499, 0.0), (4503, 0.0), (4504, 0.0), (4505, 0.0), (4508, 0.0), (4509, 0.0), (4510, 0.0), (4511, 0.0), (4512, 0.0), (4513, 0.0), (4520, 0.0), (4521, 0.0), (4523, 0.0), (4524, 0.0), (4525, 0.0), (4527, 0.0), (4528, 0.0), (4529, 0.0), (4533, 0.0), (4535, 0.0), (4536, 0.0), (4539, 0.0), (4540, 0.0), (4541, 0.0), (4543, 0.0), (4544, 0.0), (4546, 0.0), (4547, 0.0), (4549, 0.0), (4553, 0.0), (4554, 0.0), (4561, 0.0), (4563, 0.0), (4565, 0.0), (4566, 0.0), (4568, 0.0), (4572, 0.0), (4573, 0.0), (4574, 0.0), (4575, 0.0), (4578, 0.0), (4579, 0.0), (4581, 0.0), (4583, 0.0), (4584, 0.0), (4585, 0.0), (4586, 0.0), (4589, 0.0), (4590, 0.0), (4591, 0.0), (4595, 0.0), (4597, 0.0), (4601, 0.0), (4602, 0.0), (4605, 0.0), (4608, 0.0), (4611, 0.0), (4612, 0.0), (4614, 0.0), (4615, 0.0), (4616, 0.0), (4617, 0.0), (4618, 0.0), (4619, 0.0), (4620, 0.0), (4621, 0.0), (4624, 0.0), (4625, 0.0), (4626, 0.0), (4629, 0.0), (4630, 0.0), (4632, 0.0), (4634, 0.0), (4635, 0.0), (4638, 0.0), (4639, 0.0), (4640, 0.0), (4641, 0.0), (4642, 0.0), (4643, 0.0), (4644, 0.0), (4646, 0.0), (4649, 0.0), (4651, 0.0), (4653, 0.0), (4654, 0.0), (4657, 0.0), (4659, 0.0), (4660, 0.0), (4663, 0.0), (4664, 0.0), (4665, 0.0), (4666, 0.0), (4668, 0.0), (4669, 0.0), (4670, 0.0), (4671, 0.0), (4672, 0.0), (4673, 0.0), (4678, 0.0), (4679, 0.0), (4680, 0.0), (4681, 0.0), (4682, 0.0), (4684, 0.0), (4685, 0.0), (4686, 0.0), (4687, 0.0), (4689, 0.0), (4691, 0.0), (4692, 0.0), (4693, 0.0), (4695, 0.0), (4696, 0.0), (4698, 0.0), (4699, 0.0), (4701, 0.0), (4703, 0.0), (4704, 0.0), (4705, 0.0), (4707, 0.0), (4708, 0.0), (4710, 0.0), (4712, 0.0), (4713, 0.0), (4714, 0.0), (4715, 0.0), (4716, 0.0), (4722, 0.0), (4723, 0.0), (4724, 0.0), (4727, 0.0), (4729, 0.0), (4731, 0.0), (4732, 0.0), (4733, 0.0), (4735, 0.0), (4739, 0.0), (4742, 0.0), (4745, 0.0), (4748, 0.0), (4750, 0.0), (4751, 0.0), (4752, 0.0), (4753, 0.0), (4755, 0.0), (4759, 0.0)]\n"
          ]
        }
      ]
    },
    {
      "cell_type": "code",
      "source": [
        "#print the name of similar movies based on the index\n",
        "print(\"Top 30 Movies Suggested for You: \\n\")\n",
        "i=1\n",
        " \n",
        "for movie in Sorted_Similar_Movies:\n",
        "  index = movie[0]\n",
        "  title_from_index  = df[df.index==index]['Movie_Title'].values[0]\n",
        "  if (i<31):\n",
        "    print(i, ',',title_from_index)\n",
        "    i+=1"
      ],
      "metadata": {
        "colab": {
          "base_uri": "https://localhost:8080/"
        },
        "id": "0eeYGWAPIzeX",
        "outputId": "b1836e0d-a168-469d-fd26-30d0c3e1f29d"
      },
      "execution_count": null,
      "outputs": [
        {
          "output_type": "stream",
          "name": "stdout",
          "text": [
            "Top 30 Movies Suggested for You: \n",
            "\n",
            "1 , Chicken Run\n",
            "2 , Chicken Little\n",
            "3 , The Curse of the Were-Rabbit\n",
            "4 , Arthur Christmas\n",
            "5 , Paddington\n",
            "6 , The Mudge Boy\n",
            "7 , The Muppet Movie\n",
            "8 , Lucky Break\n",
            "9 , The Awakening\n",
            "10 , Signs\n",
            "11 , Braveheart\n",
            "12 , All or Nothing\n",
            "13 , Taking Woodstock\n",
            "14 , Fast Five\n",
            "15 , Vera Drake\n",
            "16 , Down & Out With The Dolls\n",
            "17 , Enchanted\n",
            "18 , A Haunted House\n",
            "19 , Freedom Writers\n",
            "20 , Mr. Turner\n",
            "21 , Little Voice\n",
            "22 , Containment\n",
            "23 , Barnyard\n",
            "24 , The Patriot\n",
            "25 , The Singing Detective\n",
            "26 , Alvin and the Chipmunks\n",
            "27 , Super Mario Bros.\n",
            "28 , Running Forever\n",
            "29 , Payback\n",
            "30 , Daylight\n"
          ]
        }
      ]
    },
    {
      "cell_type": "markdown",
      "source": [
        "**Top 10 Movie Recommendation System**"
      ],
      "metadata": {
        "id": "pAgNlRdEI7Bx"
      }
    },
    {
      "cell_type": "code",
      "source": [
        "Movie_Name=input('Enter your favourite movie name :')\n",
        "\n",
        "list_of_all_titles = df['Movie_Title'].tolist()\n",
        "\n",
        "Find_Close_Match = difflib.get_close_matches(Movie_Name, list_of_all_titles)\n",
        "\n",
        "Close_Match = Find_Close_Match[0]\n",
        "\n",
        "Index_of_Movie = df[df.Movie_Title == Close_Match]['Movie_ID'].values[0]\n",
        "\n",
        "Recommendation_Score = list(enumerate(Similarity_Score[Index_of_Movie]))\n",
        "\n",
        "sorted_similar_movies = sorted (Recommendation_Score, key = lambda x:x[1], reverse = True)\n",
        "\n",
        "print(\"Top 10 Movies suggested for you: \\n\")\n",
        "\n",
        "i = 1\n",
        "\n",
        "for movie in sorted_similar_movies:\n",
        "  index= movie[0]\n",
        "  title_from_index = df[df.Movie_ID==index]['Movie_Title'].values\n",
        "  if (i<11):\n",
        "    print(i, '.', title_from_index)\n",
        "    i+=1\n"
      ],
      "metadata": {
        "colab": {
          "base_uri": "https://localhost:8080/"
        },
        "id": "scRlduWJI9SB",
        "outputId": "9cddcc81-d226-437d-e252-b35e2511048c"
      },
      "execution_count": null,
      "outputs": [
        {
          "output_type": "stream",
          "name": "stdout",
          "text": [
            "Enter your favourite movie name :avara\n",
            "Top 10 Movies suggested for you: \n",
            "\n",
            "1 . ['Sahara']\n",
            "2 . ['Kicking & Screaming']\n",
            "3 . ['Ladyhawke']\n",
            "4 . ['The Names of Love']\n",
            "5 . ['The Helpers']\n",
            "6 . ['Lion of the Desert']\n",
            "7 . ['Music and Lyrics']\n",
            "8 . ['Resident Evil: Afterlife']\n",
            "9 . ['The Smurfs 2']\n",
            "10 . ['The Bounty']\n"
          ]
        }
      ]
    }
  ]
}